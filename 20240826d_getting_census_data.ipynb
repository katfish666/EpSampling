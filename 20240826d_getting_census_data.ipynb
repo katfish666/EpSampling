{
 "cells": [
  {
   "cell_type": "code",
   "execution_count": 1,
   "id": "3a9765af",
   "metadata": {},
   "outputs": [],
   "source": [
    "import census\n",
    "import us\n",
    "from us import states\n",
    "\n",
    "c = census.Census(\"411bb7f85fae9359b2096fd35aa2760d7c95fdae\", year=2020)\n",
    "\n",
    "# c.acs5.get(\n",
    "#     ('NAME', 'B25034_010E'),\n",
    "#           {'for': 'state:{}'.format(states.NC.fips)})\n",
    "\n",
    "# c.acs5.get( ('NAME', 'B25034_010E'),\n",
    "#     {'for': 'county:*'})\n",
    "\n",
    "# c.sf1.get('NAME', geo={'for': 'county:*',\n",
    "#                        'in': 'state:{}'.format(states.NC.fips)})\n",
    "\n",
    "# c.acs5.get(('NAME','B25034_010E'), \n",
    "#            geo={'for': 'county:*',\n",
    "#                 'in': 'state:{}'.format(states.NC.fips)})"
   ]
  },
  {
   "cell_type": "markdown",
   "id": "e914bb2f",
   "metadata": {},
   "source": [
    "### <font color=blue> Load state-to-fips yaml."
   ]
  },
  {
   "cell_type": "code",
   "execution_count": 2,
   "id": "4917a506",
   "metadata": {},
   "outputs": [
    {
     "name": "stdout",
     "output_type": "stream",
     "text": [
      "{'Alabama': '01', 'Alaska': '02', 'Arizona': '04', 'Arkansas': '05', 'California': '06'}\n"
     ]
    }
   ],
   "source": [
    "import yaml\n",
    "\n",
    "with open('state_to_fips.yml','r') as f:\n",
    "    state_to_fips = yaml.load(f, Loader=yaml.SafeLoader)\n",
    "print( dict(list(state_to_fips.items())[0: 5]) )"
   ]
  },
  {
   "cell_type": "markdown",
   "id": "87e59796",
   "metadata": {},
   "source": [
    "### <font color=blue> Get all feature codes."
   ]
  },
  {
   "cell_type": "code",
   "execution_count": 3,
   "id": "dbf846d1",
   "metadata": {},
   "outputs": [],
   "source": [
    "%%capture\n",
    "c.acs5.tables()\n",
    "c.acs5.fields()"
   ]
  },
  {
   "cell_type": "code",
   "execution_count": 4,
   "id": "5a57d3b4",
   "metadata": {},
   "outputs": [
    {
     "name": "stdout",
     "output_type": "stream",
     "text": [
      "27889 ['B24022_060E', 'B19001B_014E', 'B07007PR_019E', 'B19101A_004E', 'B24022_061E', 'B19001B_013E', 'B07007PR_018E', 'B19101A_005E', 'B24022_062E', 'B19001B_012E']\n"
     ]
    }
   ],
   "source": [
    "feat_codes = []\n",
    "\n",
    "for k in c.acs5.fields().keys():\n",
    "    if k=='ucgid':\n",
    "        continue\n",
    "    else:\n",
    "        feat_codes.append(k)\n",
    "\n",
    "print(len(feat_codes) feat_codes[:10])"
   ]
  },
  {
   "cell_type": "code",
   "execution_count": null,
   "id": "a76a10ae",
   "metadata": {},
   "outputs": [],
   "source": [
    "import pandas as pd\n",
    "\n",
    "feat_names = feat_codes[:2]\n",
    "fipss = ['04']\n",
    "\n",
    "feat_names = feat_codes\n",
    "\n",
    "big_list = []\n",
    "\n",
    "for fips in fipss:\n",
    "    res_list = c.acs5.get( ['NAME']+ feat_names, geo={'for': 'county:*',\n",
    "                                            'in': 'state:{}'.format(fips)})\n",
    "\n",
    "    big_list.extend(res_list)\n",
    "    \n",
    "pd.DataFrame(big_list)"
   ]
  },
  {
   "cell_type": "markdown",
   "id": "162c0e00",
   "metadata": {},
   "source": [
    "## <font color=magenta> Going to take way too long to get ~30,000 features for each county ... might even get kicked off the server so need to subset first ... "
   ]
  }
 ],
 "metadata": {
  "kernelspec": {
   "display_name": "Python 3 (ipykernel)",
   "language": "python",
   "name": "python3"
  },
  "language_info": {
   "codemirror_mode": {
    "name": "ipython",
    "version": 3
   },
   "file_extension": ".py",
   "mimetype": "text/x-python",
   "name": "python",
   "nbconvert_exporter": "python",
   "pygments_lexer": "ipython3",
   "version": "3.10.9"
  }
 },
 "nbformat": 4,
 "nbformat_minor": 5
}
