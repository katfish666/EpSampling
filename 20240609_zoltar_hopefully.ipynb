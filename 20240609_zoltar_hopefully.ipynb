{
 "cells": [
  {
   "cell_type": "code",
   "execution_count": 2,
   "id": "fbfd0abe",
   "metadata": {},
   "outputs": [],
   "source": [
    "import sys\n",
    "sys.path.append(\"../zoltpy\")\n",
    "\n",
    "# !pip install pymmwr"
   ]
  },
  {
   "cell_type": "code",
   "execution_count": 3,
   "id": "47c8f36d",
   "metadata": {},
   "outputs": [],
   "source": [
    "from zoltpy import util, connection\n",
    "\n",
    "conn = util.authenticate()"
   ]
  },
  {
   "cell_type": "code",
   "execution_count": 4,
   "id": "82cde78a",
   "metadata": {},
   "outputs": [
    {
     "name": "stdout",
     "output_type": "stream",
     "text": [
      "* projects\n",
      "- ('Project', 'https://zoltardata.com/api/project/44/', 44, 'COVID-19 Forecasts', True) 44 COVID-19 Forecasts\n",
      "- ('Project', 'https://zoltardata.com/api/project/239/', 239, 'Aggregating Statistical Models and Human Judgment', True) 239 Aggregating Statistical Models and Human Judgment\n",
      "- ('Project', 'https://zoltardata.com/api/project/316/', 316, 'COVID-19 Forecasts Viz Test', True) 316 COVID-19 Forecasts Viz Test\n",
      "- ('Project', 'https://zoltardata.com/api/project/218/', 218, 'Election Forecasts', True) 218 Election Forecasts\n",
      "- ('Project', 'https://zoltardata.com/api/project/238/', 238, 'ECDC European COVID-19 Forecast Hub', True) 238 ECDC European COVID-19 Forecast Hub\n",
      "- ('Project', 'https://zoltardata.com/api/project/360/', 360, 'CDC FluSight Forecast Hub', True) 360 CDC FluSight Forecast Hub\n",
      "- ('Project', 'https://zoltardata.com/api/project/299/', 299, 'CDC Influenza Hospitalization Forecasts', True) 299 CDC Influenza Hospitalization Forecasts\n",
      "- ('Project', 'https://zoltardata.com/api/project/41/', 41, 'Docs Example Project', True) 41 Docs Example Project\n",
      "- ('Project', 'https://zoltardata.com/api/project/6/', 6, 'CDC Retrospective Forecasts', True) 6 CDC Retrospective Forecasts\n",
      "- ('Project', 'https://zoltardata.com/api/project/9/', 9, 'CDC Real-time Forecasts', True) 9 CDC Real-time Forecasts\n"
     ]
    }
   ],
   "source": [
    "util.print_projects()"
   ]
  },
  {
   "cell_type": "code",
   "execution_count": 6,
   "id": "661333c3",
   "metadata": {},
   "outputs": [
    {
     "name": "stdout",
     "output_type": "stream",
     "text": [
      "* models in COVID-19 Forecasts\n",
      "- ('Model', 'https://zoltardata.com/api/model/574/', 574, 'select_ensemble')\n",
      "- ('Model', 'https://zoltardata.com/api/model/196/', 196, 'DELPHI')\n",
      "- ('Model', 'https://zoltardata.com/api/model/200/', 200, 'MechBayes')\n",
      "- ('Model', 'https://zoltardata.com/api/model/693/', 693, 'Osiris')\n",
      "- ('Model', 'https://zoltardata.com/api/model/262/', 262, 'ERDC_SEIR')\n",
      "- ('Model', 'https://zoltardata.com/api/model/236/', 236, 'CovidIL_80')\n",
      "- ('Model', 'https://zoltardata.com/api/model/942/', 942, 'N-BEATS-xlearn')\n",
      "- ('Model', 'https://zoltardata.com/api/model/154/', 154, 'CurveFit')\n",
      "- ('Model', 'https://zoltardata.com/api/model/156/', 156, 'Ensemble2')\n",
      "- ('Model', 'https://zoltardata.com/api/model/253/', 253, 'EpiGro Covid-19 model with Data Assimilation')\n",
      "- ('Model', 'https://zoltardata.com/api/model/278/', 278, '3 Phase Unadjusted')\n",
      "- ('Model', 'https://zoltardata.com/api/model/375/', 375, 'Bucky')\n",
      "- ('Model', 'https://zoltardata.com/api/model/158/', 158, 'GLEAM COVID-19')\n",
      "- ('Model', 'https://zoltardata.com/api/model/279/', 279, 'COVID19')\n",
      "- ('Model', 'https://zoltardata.com/api/model/203/', 203, 'MLOptimizedModifiedSEIR')\n",
      "- ('Model', 'https://zoltardata.com/api/model/444/', 444, 'AI-Powered and Epidemiology-Informed Modeling System')\n",
      "- ('Model', 'https://zoltardata.com/api/model/449/', 449, 'ML')\n",
      "- ('Model', 'https://zoltardata.com/api/model/252/', 252, 'CovidIL_10_increase')\n",
      "- ('Model', 'https://zoltardata.com/api/model/310/', 310, 'Fractional order Generalized SEIR model')\n",
      "- ('Model', 'https://zoltardata.com/api/model/249/', 249, 'SEIR_CAN')\n",
      "- ('Model', 'https://zoltardata.com/api/model/379/', 379, 'Time Series Model with a unique technique to capture the pattern and using it to prepare the forecast.')\n",
      "- ('Model', 'https://zoltardata.com/api/model/281/', 281, 'GlobalAgentBasedModel')\n",
      "- ('Model', 'https://zoltardata.com/api/model/601/', 601, 'ARIMA')\n",
      "- ('Model', 'https://zoltardata.com/api/model/157/', 157, 'GrowthRate')\n",
      "- ('Model', 'https://zoltardata.com/api/model/199/', 199, 'Expert consensus distributions')\n",
      "- ('Model', 'https://zoltardata.com/api/model/280/', 280, 'nochange')\n",
      "- ('Model', 'https://zoltardata.com/api/model/206/', 206, 'DeepCOVID')\n",
      "- ('Model', 'https://zoltardata.com/api/model/743/', 743, 'Morris')\n",
      "- ('Model', 'https://zoltardata.com/api/model/746/', 746, 'EpiInvert')\n",
      "- ('Model', 'https://zoltardata.com/api/model/268/', 268, 'Extended varying coefficient SEIR model')\n",
      "- ('Model', 'https://zoltardata.com/api/model/267/', 267, 'Terminus Compartmental Model')\n",
      "- ('Model', 'https://zoltardata.com/api/model/291/', 291, 'NotreDame-mobility')\n",
      "- ('Model', 'https://zoltardata.com/api/model/359/', 359, 'Combined Linear and Exponential Predictor (CLEP)')\n",
      "- ('Model', 'https://zoltardata.com/api/model/756/', 756, 'COVID Forecasting with Representational Time-series Learning')\n",
      "- ('Model', 'https://zoltardata.com/api/model/361/', 361, 'Walk')\n",
      "- ('Model', 'https://zoltardata.com/api/model/235/', 235, 'CovidIL_60')\n",
      "- ('Model', 'https://zoltardata.com/api/model/369/', 369, 'STAN')\n",
      "- ('Model', 'https://zoltardata.com/api/model/159/', 159, 'ensemble')\n",
      "- ('Model', 'https://zoltardata.com/api/model/290/', 290, 'ensemble1')\n",
      "- ('Model', 'https://zoltardata.com/api/model/884/', 884, 'ICATTML')\n",
      "- ('Model', 'https://zoltardata.com/api/model/443/', 443, 'Universal Influenza-like Transmission Risk')\n",
      "- ('Model', 'https://zoltardata.com/api/model/302/', 302, 'baseline')\n",
      "- ('Model', 'https://zoltardata.com/api/model/537/', 537, 'Econometric')\n",
      "- ('Model', 'https://zoltardata.com/api/model/803/', 803, 'gbq')\n",
      "- ('Model', 'https://zoltardata.com/api/model/603/', 603, 'DNN')\n",
      "- ('Model', 'https://zoltardata.com/api/model/837/', 837, 'Rtrend_covid')\n",
      "- ('Model', 'https://zoltardata.com/api/model/299/', 299, 'Encounter')\n",
      "- ('Model', 'https://zoltardata.com/api/model/298/', 298, 'Two-Stage SIR')\n",
      "- ('Model', 'https://zoltardata.com/api/model/232/', 232, 'The Agent-based local stochastic model of COVID-19')\n",
      "- ('Model', 'https://zoltardata.com/api/model/366/', 366, 'SQUIDER')\n",
      "- ('Model', 'https://zoltardata.com/api/model/649/', 649, 'Spatial Temporal Model')\n",
      "- ('Model', 'https://zoltardata.com/api/model/202/', 202, 'ParamSearch')\n",
      "- ('Model', 'https://zoltardata.com/api/model/295/', 295, 'scenario_low')\n",
      "- ('Model', 'https://zoltardata.com/api/model/254/', 254, 'Disease Rapid Analysis and Forecasting Tool')\n",
      "- ('Model', 'https://zoltardata.com/api/model/650/', 650, 'COVID LSTM')\n",
      "- ('Model', 'https://zoltardata.com/api/model/651/', 651, 'Trend Model')\n",
      "- ('Model', 'https://zoltardata.com/api/model/653/', 653, 'SPDM')\n",
      "- ('Model', 'https://zoltardata.com/api/model/312/', 312, 'Negative Binomial Dynamical System')\n",
      "- ('Model', 'https://zoltardata.com/api/model/309/', 309, 'python Population Modeller')\n",
      "- ('Model', 'https://zoltardata.com/api/model/370/', 370, 'Prophet Logistic Forecasting')\n",
      "- ('Model', 'https://zoltardata.com/api/model/296/', 296, 'scenario_mid')\n",
      "- ('Model', 'https://zoltardata.com/api/model/652/', 652, '4_week_ensemble')\n",
      "- ('Model', 'https://zoltardata.com/api/model/672/', 672, 'HMXK')\n",
      "- ('Model', 'https://zoltardata.com/api/model/438/', 438, 'SI_kJalpha_RF')\n",
      "- ('Model', 'https://zoltardata.com/api/model/297/', 297, 'scenario_high')\n",
      "- ('Model', 'https://zoltardata.com/api/model/300/', 300, 'SI_kJalpha')\n",
      "- ('Model', 'https://zoltardata.com/api/model/470/', 470, 'GRU')\n",
      "- ('Model', 'https://zoltardata.com/api/model/674/', 674, 'COVID_19Predict')\n",
      "- ('Model', 'https://zoltardata.com/api/model/469/', 469, 'Piecewise Log Linear of Death')\n",
      "- ('Model', 'https://zoltardata.com/api/model/506/', 506, 'Sweight')\n",
      "- ('Model', 'https://zoltardata.com/api/model/504/', 504, 'Mixtures of Exponentials')\n",
      "- ('Model', 'https://zoltardata.com/api/model/503/', 503, 'Time series model for incident cases, deaths, and cumulative deaths')\n",
      "- ('Model', 'https://zoltardata.com/api/model/507/', 507, 'trained_ensemble')\n",
      "- ('Model', 'https://zoltardata.com/api/model/886/', 886, 'RandomForest')\n",
      "- ('Model', 'https://zoltardata.com/api/model/368/', 368, 'Covid Complete')\n",
      "- ('Model', 'https://zoltardata.com/api/model/305/', 305, 'ens1')\n",
      "- ('Model', 'https://zoltardata.com/api/model/675/', 675, 'Compartmental Model with Bayesian Inference')\n",
      "- ('Model', 'https://zoltardata.com/api/model/437/', 437, 'StatMechPool')\n",
      "- ('Model', 'https://zoltardata.com/api/model/673/', 673, 'ensemble')\n",
      "- ('Model', 'https://zoltardata.com/api/model/303/', 303, 'RidgeTensorFlowRegressor')\n",
      "- ('Model', 'https://zoltardata.com/api/model/670/', 670, 'VAR')\n",
      "- ('Model', 'https://zoltardata.com/api/model/508/', 508, 'HkPrMobiDyR')\n",
      "- ('Model', 'https://zoltardata.com/api/model/462/', 462, 'SLPHospEns')\n",
      "- ('Model', 'https://zoltardata.com/api/model/192/', 192, '(Geneva) Trend Model')\n",
      "- ('Model', 'https://zoltardata.com/api/model/301/', 301, 'EmpericalSkewedGaussian')\n",
      "- ('Model', 'https://zoltardata.com/api/model/360/', 360, 'USCounty')\n",
      "- ('Model', 'https://zoltardata.com/api/model/688/', 688, 'Ensemble of baseline models with trends')\n",
      "- ('Model', 'https://zoltardata.com/api/model/686/', 686, 'euclidean')\n",
      "- ('Model', 'https://zoltardata.com/api/model/307/', 307, 'TimeSeries')\n",
      "- ('Model', 'https://zoltardata.com/api/model/690/', 690, 'COVSIM')\n",
      "- ('Model', 'https://zoltardata.com/api/model/198/', 198, 'SuEIR')\n",
      "- ('Model', 'https://zoltardata.com/api/model/256/', 256, 'NotreDame-FRED')\n",
      "- ('Model', 'https://zoltardata.com/api/model/461/', 461, 'DeepSTIA')\n",
      "- ('Model', 'https://zoltardata.com/api/model/692/', 692, 'Dynamics of Interacting Community Epidemics')\n",
      "- ('Model', 'https://zoltardata.com/api/model/737/', 737, 'VAR_3streams')\n",
      "- ('Model', 'https://zoltardata.com/api/model/738/', 738, 'sarix')\n",
      "- ('Model', 'https://zoltardata.com/api/model/694/', 694, 'SLSTM')\n",
      "- ('Model', 'https://zoltardata.com/api/model/292/', 292, 'Survival-Convolution Models')\n",
      "- ('Model', 'https://zoltardata.com/api/model/231/', 231, 'select')\n",
      "- ('Model', 'https://zoltardata.com/api/model/155/', 155, 'Ensemble1')\n",
      "- ('Model', 'https://zoltardata.com/api/model/377/', 377, 'Gradient Boosted COVID Forecaster (GBCF)')\n",
      "- ('Model', 'https://zoltardata.com/api/model/436/', 436, 'ACTS')\n",
      "- ('Model', 'https://zoltardata.com/api/model/439/', 439, 'CS156')\n",
      "- ('Model', 'https://zoltardata.com/api/model/448/', 448, 'NRAR')\n",
      "- ('Model', 'https://zoltardata.com/api/model/378/', 378, 'DeepGLEAM')\n",
      "- ('Model', 'https://zoltardata.com/api/model/234/', 234, 'CovidIL_40')\n",
      "- ('Model', 'https://zoltardata.com/api/model/263/', 263, 'CovidIL')\n",
      "- ('Model', 'https://zoltardata.com/api/model/237/', 237, 'CovidIL_100')\n",
      "- ('Model', 'https://zoltardata.com/api/model/266/', 266, 'Spatiotemporal Epidemic Modeling')\n",
      "- ('Model', 'https://zoltardata.com/api/model/286/', 286, 'Pandemic Navigator')\n",
      "- ('Model', 'https://zoltardata.com/api/model/304/', 304, 'SEIR_Markov_Chain_Monte_Carlo')\n",
      "- ('Model', 'https://zoltardata.com/api/model/365/', 365, 'Google-Harvard CPF')\n",
      "- ('Model', 'https://zoltardata.com/api/model/459/', 459, 'BayesOpt')\n",
      "- ('Model', 'https://zoltardata.com/api/model/460/', 460, 'CovidProjections')\n",
      "- ('Model', 'https://zoltardata.com/api/model/285/', 285, 'Simulator')\n",
      "- ('Model', 'https://zoltardata.com/api/model/251/', 251, 'CovidIL_30_increase')\n",
      "- ('Model', 'https://zoltardata.com/api/model/308/', 308, 'Ensemble model')\n",
      "- ('Model', 'https://zoltardata.com/api/model/426/', 426, 'Dynamic, Empirical COVID-19 Outbreak Model')\n",
      "- ('Model', 'https://zoltardata.com/api/model/428/', 428, 'DeepST')\n",
      "- ('Model', 'https://zoltardata.com/api/model/201/', 201, 'Mobility')\n",
      "- ('Model', 'https://zoltardata.com/api/model/311/', 311, 'PRM')\n",
      "- ('Model', 'https://zoltardata.com/api/model/505/', 505, 'Gecko')\n",
      "- ('Model', 'https://zoltardata.com/api/model/877/', 877, 'SlidingKoopman')\n",
      "- ('Model', 'https://zoltardata.com/api/model/367/', 367, 'Mobility-informed Collision Model')\n",
      "- ('Model', 'https://zoltardata.com/api/model/427/', 427, 'RtDriven')\n",
      "- ('Model', 'https://zoltardata.com/api/model/572/', 572, 'MIT-Cassandra')\n",
      "- ('Model', 'https://zoltardata.com/api/model/573/', 573, 'COVIDForest')\n",
      "- ('Model', 'https://zoltardata.com/api/model/255/', 255, 'CovidScenarioPipeline')\n",
      "- ('Model', 'https://zoltardata.com/api/model/977/', 977, 'NBEATS exogenous covariate decoder')\n",
      "- ('Model', 'https://zoltardata.com/api/model/988/', 988, 'wastewater-informed_hosp_forecast')\n"
     ]
    }
   ],
   "source": [
    "util.print_models(conn, project_name = 'COVID-19 Forecasts')"
   ]
  },
  {
   "cell_type": "raw",
   "id": "65e6891c",
   "metadata": {},
   "source": [
    "'COVIDhub-ensemble'"
   ]
  },
  {
   "cell_type": "code",
   "execution_count": 7,
   "id": "3bcb04d3",
   "metadata": {},
   "outputs": [],
   "source": [
    "conn = util.authenticate()"
   ]
  },
  {
   "cell_type": "code",
   "execution_count": 8,
   "id": "c9fa43d9",
   "metadata": {},
   "outputs": [
    {
     "ename": "RuntimeError",
     "evalue": "found no model named 'docs forecast model' in [('Model', 'https://zoltardata.com/api/model/139/', 139, 'docs forecast model')]",
     "output_type": "error",
     "traceback": [
      "\u001b[0;31m---------------------------------------------------------------------------\u001b[0m",
      "\u001b[0;31mRuntimeError\u001b[0m                              Traceback (most recent call last)",
      "Cell \u001b[0;32mIn[8], line 4\u001b[0m\n\u001b[1;32m      2\u001b[0m model_abbr \u001b[38;5;241m=\u001b[39m \u001b[38;5;124m'\u001b[39m\u001b[38;5;124mdocs forecast model\u001b[39m\u001b[38;5;124m'\u001b[39m\n\u001b[1;32m      3\u001b[0m timezero_date \u001b[38;5;241m=\u001b[39m \u001b[38;5;124m'\u001b[39m\u001b[38;5;124m2011-10-09\u001b[39m\u001b[38;5;124m'\u001b[39m\n\u001b[0;32m----> 4\u001b[0m json_io_dict \u001b[38;5;241m=\u001b[39m \u001b[43mutil\u001b[49m\u001b[38;5;241;43m.\u001b[39;49m\u001b[43mdownload_forecast\u001b[49m\u001b[43m(\u001b[49m\u001b[43mconn\u001b[49m\u001b[43m,\u001b[49m\u001b[43m \u001b[49m\u001b[43mproject_name\u001b[49m\u001b[43m,\u001b[49m\u001b[43m \u001b[49m\u001b[43mmodel_abbr\u001b[49m\u001b[43m,\u001b[49m\u001b[43m \u001b[49m\u001b[43mtimezero_date\u001b[49m\u001b[43m)\u001b[49m\n\u001b[1;32m      5\u001b[0m \u001b[38;5;28mprint\u001b[39m(\u001b[38;5;124mf\u001b[39m\u001b[38;5;124m\"\u001b[39m\u001b[38;5;124mdownloaded \u001b[39m\u001b[38;5;132;01m{\u001b[39;00m\u001b[38;5;28mlen\u001b[39m(json_io_dict[\u001b[38;5;124m'\u001b[39m\u001b[38;5;124mpredictions\u001b[39m\u001b[38;5;124m'\u001b[39m])\u001b[38;5;132;01m}\u001b[39;00m\u001b[38;5;124m predictions\u001b[39m\u001b[38;5;124m\"\u001b[39m)\n",
      "File \u001b[0;32m~/Repos/EpSampling/../zoltpy/zoltpy/util.py:225\u001b[0m, in \u001b[0;36mdownload_forecast\u001b[0;34m(conn, project_name, model_abbr, timezero_date)\u001b[0m\n\u001b[1;32m    223\u001b[0m matching_models \u001b[38;5;241m=\u001b[39m [model \u001b[38;5;28;01mfor\u001b[39;00m model \u001b[38;5;129;01min\u001b[39;00m models \u001b[38;5;28;01mif\u001b[39;00m model\u001b[38;5;241m.\u001b[39mabbreviation \u001b[38;5;241m==\u001b[39m model_abbr]\n\u001b[1;32m    224\u001b[0m \u001b[38;5;28;01mif\u001b[39;00m \u001b[38;5;129;01mnot\u001b[39;00m matching_models:\n\u001b[0;32m--> 225\u001b[0m     \u001b[38;5;28;01mraise\u001b[39;00m \u001b[38;5;167;01mRuntimeError\u001b[39;00m(\u001b[38;5;124mf\u001b[39m\u001b[38;5;124m\"\u001b[39m\u001b[38;5;124mfound no model named \u001b[39m\u001b[38;5;124m'\u001b[39m\u001b[38;5;132;01m{\u001b[39;00mmodel_abbr\u001b[38;5;132;01m}\u001b[39;00m\u001b[38;5;124m'\u001b[39m\u001b[38;5;124m in \u001b[39m\u001b[38;5;132;01m{\u001b[39;00mmodels\u001b[38;5;132;01m}\u001b[39;00m\u001b[38;5;124m\"\u001b[39m)\n\u001b[1;32m    227\u001b[0m model \u001b[38;5;241m=\u001b[39m matching_models[\u001b[38;5;241m0\u001b[39m]\n\u001b[1;32m    228\u001b[0m timezero_date \u001b[38;5;241m=\u001b[39m datetime\u001b[38;5;241m.\u001b[39mdatetime\u001b[38;5;241m.\u001b[39mstrptime(timezero_date, YYYY_MM_DD_DATE_FORMAT)\u001b[38;5;241m.\u001b[39mdate()\n",
      "\u001b[0;31mRuntimeError\u001b[0m: found no model named 'docs forecast model' in [('Model', 'https://zoltardata.com/api/model/139/', 139, 'docs forecast model')]"
     ]
    }
   ],
   "source": [
    "project_name = 'COVIDhub-ensemble'\n",
    "model_abbr = 'docs forecast model'\n",
    "timezero_date = '2011-10-09'\n",
    "json_io_dict = util.download_forecast(conn, project_name, model_abbr, timezero_date)\n",
    "print(f\"downloaded {len(json_io_dict['predictions'])} predictions\")"
   ]
  },
  {
   "cell_type": "code",
   "execution_count": 14,
   "id": "4842c9e7",
   "metadata": {},
   "outputs": [
    {
     "name": "stdout",
     "output_type": "stream",
     "text": [
      "\n",
      "* polling for status change. job: ('Job', 'https://zoltardata.com/api/job/615789/', 615789)\n",
      "- QUEUED\n",
      "- SUCCESS\n",
      "dataframe:\n",
      "Empty DataFrame\n",
      "Columns: [model, timezero, season, unit, target, class, value, cat, prob, sample, quantile, family, param1, param2, param3]\n",
      "Index: []\n"
     ]
    }
   ],
   "source": [
    "project_name = 'COVID-19 Forecasts'\n",
    "query = {\n",
    "  'models': ['COVIDhub-ensemble'],\n",
    "  'units': ['37001'],\n",
    "  'targets': [str(h + 1) + ' wk ahead inc death' for h in range(4)],\n",
    "  'timezeros': ['2021-02-14', '2021-02-15'],\n",
    "  'types': ['quantile']}\n",
    "\n",
    "forecasts_df = util.query_project(conn, project_name, connection.QueryType.FORECASTS, query)\n",
    "print(f\"dataframe:\\n{forecasts_df}\")"
   ]
  },
  {
   "cell_type": "code",
   "execution_count": null,
   "id": "40c718f1",
   "metadata": {},
   "outputs": [],
   "source": []
  }
 ],
 "metadata": {
  "kernelspec": {
   "display_name": "Python 3 (ipykernel)",
   "language": "python",
   "name": "python3"
  },
  "language_info": {
   "codemirror_mode": {
    "name": "ipython",
    "version": 3
   },
   "file_extension": ".py",
   "mimetype": "text/x-python",
   "name": "python",
   "nbconvert_exporter": "python",
   "pygments_lexer": "ipython3",
   "version": "3.10.9"
  }
 },
 "nbformat": 4,
 "nbformat_minor": 5
}
