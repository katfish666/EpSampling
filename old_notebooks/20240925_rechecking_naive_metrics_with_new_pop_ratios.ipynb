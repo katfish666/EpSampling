{
 "cells": [
  {
   "cell_type": "markdown",
   "id": "9bbfffc5",
   "metadata": {},
   "source": [
    "### Having to re-check metrics because I recalculated population ratio using ACS data instead of random json I pulled off the internet. Which caused me to have to re-do the naive predictions. So yeah."
   ]
  },
  {
   "cell_type": "code",
   "execution_count": null,
   "id": "65b2326f",
   "metadata": {},
   "outputs": [],
   "source": [
    "%%capture\n",
    "%load_ext autoreload\n",
    "%autoreload 2\n",
    "from setup_nb_env import *"
   ]
  },
  {
   "cell_type": "code",
   "execution_count": null,
   "id": "e6a08181",
   "metadata": {},
   "outputs": [],
   "source": [
    "pd.set_option('display.float_format', lambda x: '%.3f' % x)\n",
    "\n",
    "data_dir = '/work/users/k/4/k4thryn/Repos/EpSampling/data/'"
   ]
  },
  {
   "cell_type": "markdown",
   "id": "d9782fce",
   "metadata": {},
   "source": [
    "### <font color=blue> Some data statistics."
   ]
  },
  {
   "cell_type": "code",
   "execution_count": null,
   "id": "5b2f244d",
   "metadata": {},
   "outputs": [],
   "source": [
    "from epsampling.utils import load_latest_csv\n",
    "\n",
    "data_dir = '/work/users/k/4/k4thryn/Repos/EpSampling/data/'\n",
    "\n",
    "_df,name = load_latest_csv('merged_covs_deaths',f'{data_dir}processed/')\n",
    "_df.drop('Postal',axis=1,inplace=True)\n",
    "_df.rename({'COVIDhubEns_state_deaths':'State_deaths_ens','True_county_deaths':'Deaths_true',\n",
    "           'Naive_county_deaths':'Deaths_naive'},axis=1,inplace=True)\n",
    "\n",
    "print(name)\n",
    "_df\n",
    "# display(_df)\n",
    "# print('\\n','Num samples:',len(_df),'\\n',\n",
    "#       'Num dates:',_df.Date.nunique(),'\\n',\n",
    "#       'Num counties:',_df.Fips.nunique(),'\\n')\n",
    "\n",
    "# acs_covs = df.columns[10:]\n",
    "# death_covs = df.columns[:10]\n",
    "\n",
    "# df_acs = df[acs_covs]\n",
    "# df_deaths = df[death_covs]"
   ]
  },
  {
   "cell_type": "code",
   "execution_count": null,
   "id": "397c6197",
   "metadata": {},
   "outputs": [],
   "source": [
    "# from datetime import datetime\n",
    "\n",
    "df_deaths = _df[['State_fips', 'State', 'County', 'Fips', 'Date', 'State_deaths_ens',\n",
    "       'Pop', 'Pop_ratio', 'Deaths_true', 'Deaths_naive']]\n",
    "# # df_deaths\n",
    "\n",
    "# d = datetime.today().strftime('%Y%m%d-%H%M%S')\n",
    "# df_deaths.to_csv(f'{data_dir}/processed/df_deaths_{d}.csv',index=False)"
   ]
  },
  {
   "cell_type": "code",
   "execution_count": null,
   "id": "56c332f3",
   "metadata": {},
   "outputs": [],
   "source": []
  },
  {
   "cell_type": "code",
   "execution_count": null,
   "id": "5b8a1ff5",
   "metadata": {},
   "outputs": [],
   "source": []
  },
  {
   "cell_type": "code",
   "execution_count": null,
   "id": "ae02f1c8",
   "metadata": {},
   "outputs": [],
   "source": []
  },
  {
   "cell_type": "code",
   "execution_count": null,
   "id": "caffaa2a",
   "metadata": {},
   "outputs": [],
   "source": [
    "from epsampling.utils import load_latest_csv\n",
    "\n",
    "data_dir = '/work/users/k/4/k4thryn/Repos/EpSampling/data/'\n",
    "\n",
    "_df,name = load_latest_csv('merged_covs_deaths',f'{data_dir}processed/')\n",
    "\n",
    "\n",
    "\n",
    "fname = 'merged_covs_deaths_20240920-125607.csv'\n",
    "_df = pd.read_csv(f'{data_dir}processed/{fname}')\n",
    "\n",
    "# merged_covs_deaths_20240920-125607.csv\n",
    "_df.drop('Postal',axis=1,inplace=True)\n",
    "_df.rename({'COVIDhubEns_state_deaths':'State_deaths_ens','True_county_deaths':'Deaths_true',\n",
    "           'Naive_county_deaths':'Deaths_naive'},axis=1,inplace=True)\n",
    "\n",
    "# display(_df)\n",
    "# print('\\n','Num samples:',len(_df),'\\n',\n",
    "#       'Num dates:',_df.Date.nunique(),'\\n',\n",
    "#       'Num counties:',_df.Fips.nunique(),'\\n')\n",
    "\n",
    "# acs_covs = df.columns[10:]\n",
    "# death_covs = df.columns[:10]\n",
    "\n",
    "# df_acs = df[acs_covs]\n",
    "# df_deaths = df[death_covs]"
   ]
  },
  {
   "cell_type": "code",
   "execution_count": null,
   "id": "5c896272",
   "metadata": {},
   "outputs": [],
   "source": [
    "# from datetime import datetime\n",
    "\n",
    "# df_deaths = _df[['State_fips', 'State', 'County', 'Fips', 'Date', 'State_deaths_ens',\n",
    "#        'Pop', 'Pop_ratio', 'Deaths_true', 'Deaths_naive']]\n",
    "# # df_deaths\n",
    "\n",
    "# d = datetime.today().strftime('%Y%m%d-%H%M%S')\n",
    "# df_deaths.to_csv(f'{data_dir}/processed/df_deaths_{d}.csv',index=False)"
   ]
  },
  {
   "cell_type": "code",
   "execution_count": null,
   "id": "6d9d4854",
   "metadata": {},
   "outputs": [],
   "source": [
    "from epsampling.utils import load_latest_csv\n",
    "df_deaths,_ = load_latest_csv('df_deaths',f'{data_dir}/processed/')\n",
    "df_deaths"
   ]
  },
  {
   "cell_type": "code",
   "execution_count": null,
   "id": "85581313",
   "metadata": {},
   "outputs": [],
   "source": []
  },
  {
   "cell_type": "code",
   "execution_count": null,
   "id": "cfaede83",
   "metadata": {},
   "outputs": [],
   "source": [
    "from epsampling.utils import get_performance\n",
    "y_naive = df_deaths['Deaths_naive'].values\n",
    "y_test = df_deaths['Deaths_naive'].values\n",
    "\n",
    "# y_test = df_deaths['Deaths_naive'].values\n",
    "\n",
    "model_names = ['Deaths_naive'] #,'Deaths_true']\n",
    "model_preds = [y_naive]\n",
    "\n",
    "metrics_dict = get_performance(model_names, model_preds, y_test, y_naive)\n",
    "metrics_dict"
   ]
  },
  {
   "cell_type": "code",
   "execution_count": null,
   "id": "d7a2bb87",
   "metadata": {},
   "outputs": [],
   "source": [
    "df_deaths"
   ]
  },
  {
   "cell_type": "raw",
   "id": "4906faa3",
   "metadata": {},
   "source": [
    "county deaths = predicted state deaths (from covidhub ensemble) * county population ratio"
   ]
  },
  {
   "cell_type": "markdown",
   "id": "b046077a",
   "metadata": {},
   "source": [
    "### <font color=blue> Do naive metrics vary a lot among counties?"
   ]
  },
  {
   "cell_type": "code",
   "execution_count": null,
   "id": "45b3d86f",
   "metadata": {},
   "outputs": [],
   "source": [
    "from epsampling.utils import get_performance\n",
    "import pprint\n",
    "\n",
    "county_res_dict = {}\n",
    "\n",
    "fipss = df_deaths.Fips.unique()\n",
    "\n",
    "for fips in tqdm(df_deaths.Fips.unique(), total = len(fipss)):\n",
    "    \n",
    "    df_fips = df_deaths[df_deaths.Fips==fips]\n",
    "    \n",
    "    y_naive = df_fips['Deaths_naive'].values\n",
    "    y_test = df_fips['Deaths_true'].values\n",
    "\n",
    "    model_names = ['Deaths_naive'] #,'Deaths_true']\n",
    "    model_preds = [y_naive]\n",
    "    \n",
    "    metrics_dict = get_performance(model_names, model_preds, y_test, y_naive)\n",
    "    county_res_dict[fips] = list(metrics_dict.values())[0]\n",
    "    \n",
    "df_res = pd.DataFrame([[county,metric,value] \n",
    "                       for county,d in county_res_dict.items() \n",
    "                       for metric,value in d.items()], \n",
    "                       columns = ['Fips','metric','value'])\n",
    "\n",
    "df = df_res.pivot(index='Fips',columns='metric',values='value')\n",
    "df.drop('relMAE',axis=1,inplace=True)\n",
    "\n",
    "df.reset_index(inplace=True)\n",
    "df.columns.name = None\n",
    "df.index.name = None\n",
    "df"
   ]
  },
  {
   "cell_type": "code",
   "execution_count": null,
   "id": "a7878729",
   "metadata": {},
   "outputs": [],
   "source": [
    "print(f'\\n\\n* MAE * \\nvariance: {round(df.MAE.var(),3)}\\n',df.MAE.describe(),\n",
    "      f'\\n\\n* MSE * \\nvariance: {round(df.MSE.var(),3)}\\n',df.MSE.describe(),\n",
    "      f'\\n\\n* r2 * \\nvariance: {round(df.r2.var(),3)}\\n',df.r2.describe())"
   ]
  },
  {
   "cell_type": "markdown",
   "id": "f75a911c",
   "metadata": {},
   "source": [
    "### <font color=blue> Check what's up with the negative r2."
   ]
  },
  {
   "cell_type": "code",
   "execution_count": null,
   "id": "2e7cdfbd",
   "metadata": {},
   "outputs": [],
   "source": [
    "bad_counties = df[df.r2 < -1.0 ]\n",
    "# display(len(bad_counties), bad_counties)\n",
    "\n",
    "dff = df_deaths[df_deaths.Fips==25007]\n",
    "\n",
    "dff['Deaths_fixed'] = dff['Deaths_naive']\n",
    "# dff['Deaths_fixed'] = 0\n",
    "# dff['Deaths_fixed'] = 1\n",
    "\n",
    "# # # # # # # # # # # # # # # \n",
    "y_naive = dff['Deaths_fixed'].values\n",
    "# # # # # # # # # # # # # # # \n",
    "\n",
    "y_test = dff['Deaths_true'].values\n",
    "\n",
    "model_names = ['Deaths_naive'] #,'Deaths_true']\n",
    "model_preds = [y_naive]\n",
    "\n",
    "metrics_dict = get_performance(model_names, model_preds, y_test, y_naive)\n",
    "metrics_dict"
   ]
  },
  {
   "cell_type": "code",
   "execution_count": null,
   "id": "26b89072",
   "metadata": {},
   "outputs": [],
   "source": [
    "dff"
   ]
  },
  {
   "cell_type": "markdown",
   "id": "4f2f8e37",
   "metadata": {},
   "source": [
    "### <font color=blue> Only look at counties with positive r2."
   ]
  },
  {
   "cell_type": "code",
   "execution_count": null,
   "id": "36baf183",
   "metadata": {},
   "outputs": [],
   "source": [
    "import io \n",
    "from PIL import Image\n",
    "import seaborn as sns\n",
    "import matplotlib.pyplot as plt\n",
    "sns.set(font_scale=1) "
   ]
  },
  {
   "cell_type": "code",
   "execution_count": null,
   "id": "33d798e8",
   "metadata": {},
   "outputs": [],
   "source": [
    "df_pop = df_deaths[['Fips','Pop','Pop_ratio']]\n",
    "df_pop.drop_duplicates(inplace=True)\n",
    "dff = df.merge(df_pop,on='Fips')\n",
    "dff"
   ]
  },
  {
   "cell_type": "code",
   "execution_count": null,
   "id": "47a48906",
   "metadata": {},
   "outputs": [],
   "source": [
    "## Only plot counties w r2 > 0\n",
    "\n",
    "dff_good = dff[dff.r2 > 0]\n",
    "dff_bad = dff[dff.r2 < 0]\n",
    "len(dff), len(dff_good), len(dff_bad)"
   ]
  },
  {
   "cell_type": "code",
   "execution_count": null,
   "id": "d5dfe5cb",
   "metadata": {},
   "outputs": [],
   "source": [
    "sns.histplot(data=dff_good, x='r2',bins=50)\n",
    "plt.show()"
   ]
  },
  {
   "cell_type": "code",
   "execution_count": null,
   "id": "0304cf4a",
   "metadata": {},
   "outputs": [],
   "source": [
    "import matplotlib.pyplot as plt\n",
    "sns.histplot(data=dff_good, x='MAE')\n",
    "# sns.histplot()\n",
    "plt.show()"
   ]
  },
  {
   "cell_type": "code",
   "execution_count": null,
   "id": "641b177f",
   "metadata": {},
   "outputs": [],
   "source": [
    "import matplotlib.pyplot as plt\n",
    "sns.histplot(data=dff_good, x='MAE')\n",
    "# sns.histplot()\n",
    "plt.xlim(-10,200)\n",
    "plt.show()"
   ]
  },
  {
   "cell_type": "code",
   "execution_count": null,
   "id": "3a86a7e8",
   "metadata": {},
   "outputs": [],
   "source": [
    "sns.scatterplot(data=dff_good, x=\"Pop_ratio\", y=\"MAE\")\n",
    "plt.show()"
   ]
  },
  {
   "cell_type": "code",
   "execution_count": null,
   "id": "9f077b0d",
   "metadata": {},
   "outputs": [],
   "source": [
    "sns.scatterplot(data=dff_good, x=\"Pop_ratio\", y=\"r2\")"
   ]
  },
  {
   "cell_type": "markdown",
   "id": "6eb68581",
   "metadata": {},
   "source": [
    "### <font color=magenta> Conclusion: Better to look at median r2 (50% percentile) than the acutal r2."
   ]
  },
  {
   "cell_type": "code",
   "execution_count": null,
   "id": "10e315fc",
   "metadata": {},
   "outputs": [],
   "source": []
  }
 ],
 "metadata": {
  "kernelspec": {
   "display_name": "Python 3 (ipykernel)",
   "language": "python",
   "name": "python3"
  },
  "language_info": {
   "codemirror_mode": {
    "name": "ipython",
    "version": 3
   },
   "file_extension": ".py",
   "mimetype": "text/x-python",
   "name": "python",
   "nbconvert_exporter": "python",
   "pygments_lexer": "ipython3",
   "version": "3.10.9"
  },
  "widgets": {
   "application/vnd.jupyter.widget-state+json": {
    "state": {},
    "version_major": 2,
    "version_minor": 0
   }
  }
 },
 "nbformat": 4,
 "nbformat_minor": 5
}
