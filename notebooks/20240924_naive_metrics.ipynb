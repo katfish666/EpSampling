{
 "cells": [
  {
   "cell_type": "code",
   "execution_count": 1,
   "id": "ae48864f",
   "metadata": {},
   "outputs": [],
   "source": [
    "%%capture\n",
    "%load_ext autoreload\n",
    "%autoreload 2\n",
    "from setup_nb_env import *"
   ]
  },
  {
   "cell_type": "code",
   "execution_count": 2,
   "id": "cb6d9a87",
   "metadata": {},
   "outputs": [],
   "source": [
    "pd.set_option('display.float_format', lambda x: '%.3f' % x)"
   ]
  },
  {
   "cell_type": "markdown",
   "id": "21911abf",
   "metadata": {},
   "source": [
    "### <font color=blue> Some data statistics."
   ]
  },
  {
   "cell_type": "code",
   "execution_count": 24,
   "id": "caffaa2a",
   "metadata": {},
   "outputs": [],
   "source": [
    "from epsampling.utils import load_latest_csv\n",
    "\n",
    "data_dir = '/work/users/k/4/k4thryn/Repos/EpSampling/data'\n",
    "\n",
    "_df,name = load_latest_csv('merged_covs_deaths',f'{data_dir}/processed/')\n",
    "_df.drop('Postal',axis=1,inplace=True)\n",
    "_df.rename({'COVIDhubEns_state_deaths':'State_deaths_ens','True_county_deaths':'Deaths_true',\n",
    "           'Naive_county_deaths':'Deaths_naive'},axis=1,inplace=True)\n",
    "\n",
    "# display(_df)\n",
    "# print('\\n','Num samples:',len(_df),'\\n',\n",
    "#       'Num dates:',_df.Date.nunique(),'\\n',\n",
    "#       'Num counties:',_df.Fips.nunique(),'\\n')\n",
    "\n",
    "# acs_covs = df.columns[10:]\n",
    "# death_covs = df.columns[:10]\n",
    "\n",
    "# df_acs = df[acs_covs]\n",
    "# df_deaths = df[death_covs]"
   ]
  },
  {
   "cell_type": "markdown",
   "id": "f10e6dd9",
   "metadata": {},
   "source": [
    "### <font color=blue> Do naive metrics vary a lot among counties?"
   ]
  },
  {
   "cell_type": "code",
   "execution_count": 23,
   "id": "59ec9125",
   "metadata": {},
   "outputs": [],
   "source": [
    "df_deaths = _df[['State_fips', 'State', 'County', 'Fips', 'Date', 'State_deaths_ens',\n",
    "       'Pop', 'Pop_ratio', 'Deaths_true', 'Deaths_naive']]\n",
    "# df_deaths"
   ]
  },
  {
   "cell_type": "code",
   "execution_count": 27,
   "id": "d3833cc8",
   "metadata": {},
   "outputs": [
    {
     "name": "stderr",
     "output_type": "stream",
     "text": [
      "100%|██████████| 3130/3130 [00:03<00:00, 830.27it/s]\n"
     ]
    },
    {
     "data": {
      "text/html": [
       "<div>\n",
       "<style scoped>\n",
       "    .dataframe tbody tr th:only-of-type {\n",
       "        vertical-align: middle;\n",
       "    }\n",
       "\n",
       "    .dataframe tbody tr th {\n",
       "        vertical-align: top;\n",
       "    }\n",
       "\n",
       "    .dataframe thead th {\n",
       "        text-align: right;\n",
       "    }\n",
       "</style>\n",
       "<table border=\"1\" class=\"dataframe\">\n",
       "  <thead>\n",
       "    <tr style=\"text-align: right;\">\n",
       "      <th></th>\n",
       "      <th>county</th>\n",
       "      <th>MAE</th>\n",
       "      <th>MSE</th>\n",
       "      <th>r2</th>\n",
       "    </tr>\n",
       "  </thead>\n",
       "  <tbody>\n",
       "    <tr>\n",
       "      <th>0</th>\n",
       "      <td>1001</td>\n",
       "      <td>13.563</td>\n",
       "      <td>280.602</td>\n",
       "      <td>0.933</td>\n",
       "    </tr>\n",
       "    <tr>\n",
       "      <th>1</th>\n",
       "      <td>1003</td>\n",
       "      <td>128.481</td>\n",
       "      <td>20883.311</td>\n",
       "      <td>0.612</td>\n",
       "    </tr>\n",
       "    <tr>\n",
       "      <th>2</th>\n",
       "      <td>1005</td>\n",
       "      <td>2.901</td>\n",
       "      <td>14.041</td>\n",
       "      <td>0.987</td>\n",
       "    </tr>\n",
       "    <tr>\n",
       "      <th>3</th>\n",
       "      <td>1007</td>\n",
       "      <td>11.664</td>\n",
       "      <td>184.186</td>\n",
       "      <td>0.854</td>\n",
       "    </tr>\n",
       "    <tr>\n",
       "      <th>4</th>\n",
       "      <td>1009</td>\n",
       "      <td>7.296</td>\n",
       "      <td>74.700</td>\n",
       "      <td>0.988</td>\n",
       "    </tr>\n",
       "    <tr>\n",
       "      <th>...</th>\n",
       "      <td>...</td>\n",
       "      <td>...</td>\n",
       "      <td>...</td>\n",
       "      <td>...</td>\n",
       "    </tr>\n",
       "    <tr>\n",
       "      <th>3125</th>\n",
       "      <td>56037</td>\n",
       "      <td>7.185</td>\n",
       "      <td>80.640</td>\n",
       "      <td>0.958</td>\n",
       "    </tr>\n",
       "    <tr>\n",
       "      <th>3126</th>\n",
       "      <td>56039</td>\n",
       "      <td>22.096</td>\n",
       "      <td>847.469</td>\n",
       "      <td>-25.826</td>\n",
       "    </tr>\n",
       "    <tr>\n",
       "      <th>3127</th>\n",
       "      <td>56041</td>\n",
       "      <td>10.802</td>\n",
       "      <td>183.194</td>\n",
       "      <td>-0.080</td>\n",
       "    </tr>\n",
       "    <tr>\n",
       "      <th>3128</th>\n",
       "      <td>56043</td>\n",
       "      <td>12.707</td>\n",
       "      <td>199.986</td>\n",
       "      <td>-0.045</td>\n",
       "    </tr>\n",
       "    <tr>\n",
       "      <th>3129</th>\n",
       "      <td>56045</td>\n",
       "      <td>2.596</td>\n",
       "      <td>8.725</td>\n",
       "      <td>0.768</td>\n",
       "    </tr>\n",
       "  </tbody>\n",
       "</table>\n",
       "<p>3130 rows × 4 columns</p>\n",
       "</div>"
      ],
      "text/plain": [
       "      county     MAE       MSE      r2\n",
       "0       1001  13.563   280.602   0.933\n",
       "1       1003 128.481 20883.311   0.612\n",
       "2       1005   2.901    14.041   0.987\n",
       "3       1007  11.664   184.186   0.854\n",
       "4       1009   7.296    74.700   0.988\n",
       "...      ...     ...       ...     ...\n",
       "3125   56037   7.185    80.640   0.958\n",
       "3126   56039  22.096   847.469 -25.826\n",
       "3127   56041  10.802   183.194  -0.080\n",
       "3128   56043  12.707   199.986  -0.045\n",
       "3129   56045   2.596     8.725   0.768\n",
       "\n",
       "[3130 rows x 4 columns]"
      ]
     },
     "execution_count": 27,
     "metadata": {},
     "output_type": "execute_result"
    }
   ],
   "source": [
    "from epsampling.utils import get_performance\n",
    "import pprint\n",
    "\n",
    "county_res_dict = {}\n",
    "\n",
    "fipss = df_deaths.Fips.unique()\n",
    "\n",
    "for fips in tqdm(df_deaths.Fips.unique(), total = len(fipss)):\n",
    "    \n",
    "    df_fips = dff[dff.Fips==fips]\n",
    "    \n",
    "    y_naive = df_fips['Deaths_naive'].values\n",
    "    y_test = df_fips['Deaths_true'].values\n",
    "\n",
    "    model_names = ['Deaths_naive'] #,'Deaths_true']\n",
    "    model_preds = [y_naive]\n",
    "    \n",
    "    metrics_dict = get_performance(model_names, model_preds, y_test, y_naive)\n",
    "    county_res_dict[fips] = list(metrics_dict.values())[0]\n",
    "    \n",
    "df_res = pd.DataFrame([[county,metric,value] \n",
    "                       for county,d in county_res_dict.items() \n",
    "                       for metric,value in d.items()], \n",
    "                       columns = ['county','metric','value'])\n",
    "\n",
    "df = df_res.pivot(index='county',columns='metric',values='value')\n",
    "df.drop('relMAE',axis=1,inplace=True)\n",
    "\n",
    "df.reset_index(inplace=True)\n",
    "df.columns.name = None\n",
    "df.index.name = None\n",
    "df"
   ]
  },
  {
   "cell_type": "markdown",
   "id": "e560be8d",
   "metadata": {},
   "source": [
    "### <font color=blue> Check what's up with the negative r2."
   ]
  },
  {
   "cell_type": "code",
   "execution_count": 45,
   "id": "ff1240b8",
   "metadata": {},
   "outputs": [
    {
     "data": {
      "text/plain": [
       "{'Deaths_naive': {'MAE': 38.332043688633405,\n",
       "  'MSE': 1646.6022241996295,\n",
       "  'r2': -26930.355521230784,\n",
       "  'relMAE': 1.0}}"
      ]
     },
     "execution_count": 45,
     "metadata": {},
     "output_type": "execute_result"
    }
   ],
   "source": [
    "bad_counties = df[df.r2 < -1.0 ]\n",
    "# display(len(bad_counties), bad_counties)\n",
    "\n",
    "dff = df_deaths[df_deaths.Fips==25007]\n",
    "\n",
    "dff['Deaths_fixed'] = dff['Deaths_naive']\n",
    "# dff['Deaths_fixed'] = 0\n",
    "# dff['Deaths_fixed'] = 1\n",
    "\n",
    "# # # # # # # # # # # # # # # \n",
    "y_naive = dff['Deaths_fixed'].values\n",
    "# # # # # # # # # # # # # # # \n",
    "\n",
    "y_test = dff['Deaths_true'].values\n",
    "\n",
    "model_names = ['Deaths_naive'] #,'Deaths_true']\n",
    "model_preds = [y_naive]\n",
    "\n",
    "metrics_dict = get_performance(model_names, model_preds, y_test, y_naive)\n",
    "metrics_dict"
   ]
  },
  {
   "cell_type": "markdown",
   "id": "478277ca",
   "metadata": {},
   "source": [
    "### <font color=blue> Only look at counties with positive r2."
   ]
  },
  {
   "cell_type": "code",
   "execution_count": 53,
   "id": "62c81a2c",
   "metadata": {},
   "outputs": [],
   "source": [
    "import io \n",
    "from PIL import Image\n",
    "import seaborn as sns\n",
    "import matplotlib.pyplot as plt\n",
    "sns.set(font_scale=1) "
   ]
  },
  {
   "cell_type": "code",
   "execution_count": 55,
   "id": "da634ea7",
   "metadata": {},
   "outputs": [
    {
     "data": {
      "text/html": [
       "<div>\n",
       "<style scoped>\n",
       "    .dataframe tbody tr th:only-of-type {\n",
       "        vertical-align: middle;\n",
       "    }\n",
       "\n",
       "    .dataframe tbody tr th {\n",
       "        vertical-align: top;\n",
       "    }\n",
       "\n",
       "    .dataframe thead th {\n",
       "        text-align: right;\n",
       "    }\n",
       "</style>\n",
       "<table border=\"1\" class=\"dataframe\">\n",
       "  <thead>\n",
       "    <tr style=\"text-align: right;\">\n",
       "      <th></th>\n",
       "      <th>county</th>\n",
       "      <th>MAE</th>\n",
       "      <th>MSE</th>\n",
       "      <th>r2</th>\n",
       "    </tr>\n",
       "  </thead>\n",
       "  <tbody>\n",
       "    <tr>\n",
       "      <th>0</th>\n",
       "      <td>1001</td>\n",
       "      <td>13.563</td>\n",
       "      <td>280.602</td>\n",
       "      <td>0.933</td>\n",
       "    </tr>\n",
       "    <tr>\n",
       "      <th>1</th>\n",
       "      <td>1003</td>\n",
       "      <td>128.481</td>\n",
       "      <td>20883.311</td>\n",
       "      <td>0.612</td>\n",
       "    </tr>\n",
       "    <tr>\n",
       "      <th>2</th>\n",
       "      <td>1005</td>\n",
       "      <td>2.901</td>\n",
       "      <td>14.041</td>\n",
       "      <td>0.987</td>\n",
       "    </tr>\n",
       "    <tr>\n",
       "      <th>3</th>\n",
       "      <td>1007</td>\n",
       "      <td>11.664</td>\n",
       "      <td>184.186</td>\n",
       "      <td>0.854</td>\n",
       "    </tr>\n",
       "    <tr>\n",
       "      <th>4</th>\n",
       "      <td>1009</td>\n",
       "      <td>7.296</td>\n",
       "      <td>74.700</td>\n",
       "      <td>0.988</td>\n",
       "    </tr>\n",
       "    <tr>\n",
       "      <th>...</th>\n",
       "      <td>...</td>\n",
       "      <td>...</td>\n",
       "      <td>...</td>\n",
       "      <td>...</td>\n",
       "    </tr>\n",
       "    <tr>\n",
       "      <th>3124</th>\n",
       "      <td>56035</td>\n",
       "      <td>2.651</td>\n",
       "      <td>10.778</td>\n",
       "      <td>0.879</td>\n",
       "    </tr>\n",
       "    <tr>\n",
       "      <th>3125</th>\n",
       "      <td>56037</td>\n",
       "      <td>7.185</td>\n",
       "      <td>80.640</td>\n",
       "      <td>0.958</td>\n",
       "    </tr>\n",
       "    <tr>\n",
       "      <th>3127</th>\n",
       "      <td>56041</td>\n",
       "      <td>10.802</td>\n",
       "      <td>183.194</td>\n",
       "      <td>-0.080</td>\n",
       "    </tr>\n",
       "    <tr>\n",
       "      <th>3128</th>\n",
       "      <td>56043</td>\n",
       "      <td>12.707</td>\n",
       "      <td>199.986</td>\n",
       "      <td>-0.045</td>\n",
       "    </tr>\n",
       "    <tr>\n",
       "      <th>3129</th>\n",
       "      <td>56045</td>\n",
       "      <td>2.596</td>\n",
       "      <td>8.725</td>\n",
       "      <td>0.768</td>\n",
       "    </tr>\n",
       "  </tbody>\n",
       "</table>\n",
       "<p>2846 rows × 4 columns</p>\n",
       "</div>"
      ],
      "text/plain": [
       "      county     MAE       MSE     r2\n",
       "0       1001  13.563   280.602  0.933\n",
       "1       1003 128.481 20883.311  0.612\n",
       "2       1005   2.901    14.041  0.987\n",
       "3       1007  11.664   184.186  0.854\n",
       "4       1009   7.296    74.700  0.988\n",
       "...      ...     ...       ...    ...\n",
       "3124   56035   2.651    10.778  0.879\n",
       "3125   56037   7.185    80.640  0.958\n",
       "3127   56041  10.802   183.194 -0.080\n",
       "3128   56043  12.707   199.986 -0.045\n",
       "3129   56045   2.596     8.725  0.768\n",
       "\n",
       "[2846 rows x 4 columns]"
      ]
     },
     "execution_count": 55,
     "metadata": {},
     "output_type": "execute_result"
    }
   ],
   "source": [
    "dff"
   ]
  },
  {
   "cell_type": "code",
   "execution_count": null,
   "id": "4ca86447",
   "metadata": {},
   "outputs": [],
   "source": []
  },
  {
   "cell_type": "code",
   "execution_count": 56,
   "id": "9c6c69e2",
   "metadata": {},
   "outputs": [
    {
     "data": {
      "text/plain": [
       "<Axes: xlabel='MAE', ylabel='Count'>"
      ]
     },
     "metadata": {},
     "output_type": "display_data"
    },
    {
     "name": "stderr",
     "output_type": "stream",
     "text": [
      "\n",
      "KeyboardInterrupt\n",
      "\n"
     ]
    },
    {
     "data": {
      "image/png": "[encoded data removed]",
      "text/plain": [
       "<Figure size 640x480 with 1 Axes>"
      ]
     },
     "metadata": {},
     "output_type": "display_data"
    }
   ],
   "source": [
    "for metric in ['MAE','MSE','r2']:\n",
    "    display(sns.histplot(data=dff, x=metric))"
   ]
  },
  {
   "cell_type": "code",
   "execution_count": 48,
   "id": "7877619f",
   "metadata": {},
   "outputs": [
    {
     "data": {
      "text/plain": [
       "(3130, 2846, 284)"
      ]
     },
     "execution_count": 48,
     "metadata": {},
     "output_type": "execute_result"
    }
   ],
   "source": [
    "dff = df[df.r2 > -1.0]\n",
    "dff_bad = df[df.r2 < -1.0]\n",
    "len(df), len(dff), len(dff_bad)"
   ]
  },
  {
   "cell_type": "code",
   "execution_count": 50,
   "id": "fa2e6fb3",
   "metadata": {},
   "outputs": [
    {
     "data": {
      "text/plain": [
       "<bound method hist_series of 0       0.933\n",
       "1       0.612\n",
       "2       0.987\n",
       "3       0.854\n",
       "4       0.988\n",
       "        ...  \n",
       "3124    0.879\n",
       "3125    0.958\n",
       "3127   -0.080\n",
       "3128   -0.045\n",
       "3129    0.768\n",
       "Name: r2, Length: 2846, dtype: float64>"
      ]
     },
     "execution_count": 50,
     "metadata": {},
     "output_type": "execute_result"
    }
   ],
   "source": [
    "dff.r2.hist"
   ]
  },
  {
   "cell_type": "code",
   "execution_count": 44,
   "id": "707a8eb0",
   "metadata": {},
   "outputs": [
    {
     "data": {
      "text/plain": [
       "{'Deaths_naive': {'MAE': 38.332043688633405,\n",
       "  'MSE': 1646.6022241996295,\n",
       "  'r2': -26930.355521230784,\n",
       "  'relMAE': 1.0}}"
      ]
     },
     "execution_count": 44,
     "metadata": {},
     "output_type": "execute_result"
    }
   ],
   "source": []
  },
  {
   "cell_type": "code",
   "execution_count": null,
   "id": "6b9de895",
   "metadata": {},
   "outputs": [],
   "source": []
  },
  {
   "cell_type": "code",
   "execution_count": null,
   "id": "a4b987aa",
   "metadata": {},
   "outputs": [],
   "source": []
  },
  {
   "cell_type": "code",
   "execution_count": null,
   "id": "3eae5d0b",
   "metadata": {},
   "outputs": [],
   "source": []
  },
  {
   "cell_type": "code",
   "execution_count": null,
   "id": "a39ee5fc",
   "metadata": {},
   "outputs": [],
   "source": []
  },
  {
   "cell_type": "code",
   "execution_count": 29,
   "id": "1e5cd4c9",
   "metadata": {},
   "outputs": [],
   "source": [
    "# display(df.MAE.describe(),\n",
    "# df.MSE.describe(),\n",
    "# df.r2.describe())\n",
    "\n",
    "# display(df.MAE.var(),\n",
    "# df.MSE.var(),\n",
    "# df.r2.var())"
   ]
  },
  {
   "cell_type": "code",
   "execution_count": null,
   "id": "0dd2278e",
   "metadata": {},
   "outputs": [],
   "source": []
  },
  {
   "cell_type": "code",
   "execution_count": null,
   "id": "f4998844",
   "metadata": {},
   "outputs": [],
   "source": []
  },
  {
   "cell_type": "code",
   "execution_count": null,
   "id": "12cf8fbb",
   "metadata": {},
   "outputs": [],
   "source": []
  },
  {
   "cell_type": "code",
   "execution_count": null,
   "id": "2883e68f",
   "metadata": {},
   "outputs": [],
   "source": []
  },
  {
   "cell_type": "code",
   "execution_count": null,
   "id": "433fa92e",
   "metadata": {},
   "outputs": [],
   "source": []
  },
  {
   "cell_type": "code",
   "execution_count": null,
   "id": "50b79474",
   "metadata": {},
   "outputs": [],
   "source": []
  },
  {
   "cell_type": "code",
   "execution_count": null,
   "id": "1519095a",
   "metadata": {},
   "outputs": [],
   "source": []
  }
 ],
 "metadata": {
  "kernelspec": {
   "display_name": "Python 3 (ipykernel)",
   "language": "python",
   "name": "python3"
  },
  "language_info": {
   "codemirror_mode": {
    "name": "ipython",
    "version": 3
   },
   "file_extension": ".py",
   "mimetype": "text/x-python",
   "name": "python",
   "nbconvert_exporter": "python",
   "pygments_lexer": "ipython3",
   "version": "3.10.9"
  },
  "widgets": {
   "application/vnd.jupyter.widget-state+json": {
    "state": {},
    "version_major": 2,
    "version_minor": 0
   }
  }
 },
 "nbformat": 4,
 "nbformat_minor": 5
}
