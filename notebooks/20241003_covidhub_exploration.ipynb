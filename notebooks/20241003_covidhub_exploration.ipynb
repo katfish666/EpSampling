{
 "cells": [
  {
   "cell_type": "code",
   "execution_count": 1,
   "id": "c80a2e8d",
   "metadata": {},
   "outputs": [],
   "source": [
    "%%capture\n",
    "%load_ext autoreload\n",
    "%autoreload 2\n",
    "from setup_nb_env import *\n",
    "\n",
    "from epsampling.utils import load_csv\n",
    "# pd.set_option('display.float_format', lambda x: '%.3f' % x)\n",
    "from epsampling.utils import drop_sers_with_nans\n",
    "from epsampling.utils import date_str_to_int\n",
    "\n",
    "DATA_DIR = '/work/users/k/4/k4thryn/Repos/EpSampling/data/'\n",
    "DT = datetime.today().strftime('%Y%m%d-%H%M%S')"
   ]
  },
  {
   "cell_type": "markdown",
   "id": "d7cca7af",
   "metadata": {},
   "source": [
    "### <font color=blue> CovidHub ensemble state predictions"
   ]
  },
  {
   "cell_type": "code",
   "execution_count": 2,
   "id": "07f9d6bc",
   "metadata": {},
   "outputs": [],
   "source": [
    "# import glob\n",
    "# import os\n",
    "# from tqdm.notebook import tqdm \n",
    "\n",
    "# my_dir = os.path.join(DATA_DIR,'raw','COVIDhub-ensemble')\n",
    "# files = glob.glob(f'{my_dir}/*.csv')\n",
    "\n",
    "# # types = ['point']\n",
    "# # targets = ['1 wk ahead inc death']\n",
    "\n",
    "# all_dfs = []\n",
    "# for f in tqdm(files,total=len(files)):\n",
    "#     df = pd.read_csv(f)\n",
    "#     ## Choose which types (only point for now)\n",
    "# #     df = df[df.type=='point']\n",
    "#     ## Only 1 wk ahead inc\n",
    "# #     df = df[df.target.isin(targets)]\n",
    "#     all_dfs.append(df)\n",
    "# df_all = pd.concat(all_dfs)\n",
    "# # df_all.sort_values(['Fips','Date'], inplace=True)\n",
    "# df_all.reset_index(drop=True,inplace=True)\n",
    "# display(df_all)\n"
   ]
  },
  {
   "cell_type": "code",
   "execution_count": 3,
   "id": "5cd69089",
   "metadata": {},
   "outputs": [
    {
     "data": {
      "text/html": [
       "<div>\n",
       "<style scoped>\n",
       "    .dataframe tbody tr th:only-of-type {\n",
       "        vertical-align: middle;\n",
       "    }\n",
       "\n",
       "    .dataframe tbody tr th {\n",
       "        vertical-align: top;\n",
       "    }\n",
       "\n",
       "    .dataframe thead th {\n",
       "        text-align: right;\n",
       "    }\n",
       "</style>\n",
       "<table border=\"1\" class=\"dataframe\">\n",
       "  <thead>\n",
       "    <tr style=\"text-align: right;\">\n",
       "      <th></th>\n",
       "      <th>Fips</th>\n",
       "      <th>State_fips</th>\n",
       "      <th>Pop</th>\n",
       "      <th>State_pop</th>\n",
       "      <th>Ratio</th>\n",
       "      <th>Date</th>\n",
       "      <th>Proj_inc_deaths</th>\n",
       "      <th>True_cum_deaths</th>\n",
       "      <th>Cum_deaths_tm1</th>\n",
       "      <th>True_inc_deaths</th>\n",
       "      <th>Naive_inc_deaths</th>\n",
       "    </tr>\n",
       "  </thead>\n",
       "  <tbody>\n",
       "    <tr>\n",
       "      <th>1</th>\n",
       "      <td>1001</td>\n",
       "      <td>1</td>\n",
       "      <td>58239</td>\n",
       "      <td>4997675</td>\n",
       "      <td>0.011653</td>\n",
       "      <td>20200620</td>\n",
       "      <td>83.302156</td>\n",
       "      <td>9.0</td>\n",
       "      <td>6.0</td>\n",
       "      <td>3.0</td>\n",
       "      <td>0.970738</td>\n",
       "    </tr>\n",
       "    <tr>\n",
       "      <th>2</th>\n",
       "      <td>1001</td>\n",
       "      <td>1</td>\n",
       "      <td>58239</td>\n",
       "      <td>4997675</td>\n",
       "      <td>0.011653</td>\n",
       "      <td>20200627</td>\n",
       "      <td>68.179357</td>\n",
       "      <td>12.0</td>\n",
       "      <td>9.0</td>\n",
       "      <td>3.0</td>\n",
       "      <td>0.794509</td>\n",
       "    </tr>\n",
       "    <tr>\n",
       "      <th>3</th>\n",
       "      <td>1001</td>\n",
       "      <td>1</td>\n",
       "      <td>58239</td>\n",
       "      <td>4997675</td>\n",
       "      <td>0.011653</td>\n",
       "      <td>20200704</td>\n",
       "      <td>76.238975</td>\n",
       "      <td>13.0</td>\n",
       "      <td>12.0</td>\n",
       "      <td>1.0</td>\n",
       "      <td>0.888429</td>\n",
       "    </tr>\n",
       "    <tr>\n",
       "      <th>4</th>\n",
       "      <td>1001</td>\n",
       "      <td>1</td>\n",
       "      <td>58239</td>\n",
       "      <td>4997675</td>\n",
       "      <td>0.011653</td>\n",
       "      <td>20200711</td>\n",
       "      <td>88.362530</td>\n",
       "      <td>15.0</td>\n",
       "      <td>13.0</td>\n",
       "      <td>2.0</td>\n",
       "      <td>1.029708</td>\n",
       "    </tr>\n",
       "    <tr>\n",
       "      <th>5</th>\n",
       "      <td>1001</td>\n",
       "      <td>1</td>\n",
       "      <td>58239</td>\n",
       "      <td>4997675</td>\n",
       "      <td>0.011653</td>\n",
       "      <td>20200718</td>\n",
       "      <td>114.279381</td>\n",
       "      <td>21.0</td>\n",
       "      <td>15.0</td>\n",
       "      <td>6.0</td>\n",
       "      <td>1.331723</td>\n",
       "    </tr>\n",
       "    <tr>\n",
       "      <th>...</th>\n",
       "      <td>...</td>\n",
       "      <td>...</td>\n",
       "      <td>...</td>\n",
       "      <td>...</td>\n",
       "      <td>...</td>\n",
       "      <td>...</td>\n",
       "      <td>...</td>\n",
       "      <td>...</td>\n",
       "      <td>...</td>\n",
       "      <td>...</td>\n",
       "      <td>...</td>\n",
       "    </tr>\n",
       "    <tr>\n",
       "      <th>312331</th>\n",
       "      <td>56045</td>\n",
       "      <td>56</td>\n",
       "      <td>6891</td>\n",
       "      <td>576641</td>\n",
       "      <td>0.011950</td>\n",
       "      <td>20220409</td>\n",
       "      <td>8.000000</td>\n",
       "      <td>18.0</td>\n",
       "      <td>18.0</td>\n",
       "      <td>0.0</td>\n",
       "      <td>0.095602</td>\n",
       "    </tr>\n",
       "    <tr>\n",
       "      <th>312332</th>\n",
       "      <td>56045</td>\n",
       "      <td>56</td>\n",
       "      <td>6891</td>\n",
       "      <td>576641</td>\n",
       "      <td>0.011950</td>\n",
       "      <td>20220416</td>\n",
       "      <td>5.000000</td>\n",
       "      <td>18.0</td>\n",
       "      <td>18.0</td>\n",
       "      <td>0.0</td>\n",
       "      <td>0.059751</td>\n",
       "    </tr>\n",
       "    <tr>\n",
       "      <th>312333</th>\n",
       "      <td>56045</td>\n",
       "      <td>56</td>\n",
       "      <td>6891</td>\n",
       "      <td>576641</td>\n",
       "      <td>0.011950</td>\n",
       "      <td>20220423</td>\n",
       "      <td>4.000000</td>\n",
       "      <td>18.0</td>\n",
       "      <td>18.0</td>\n",
       "      <td>0.0</td>\n",
       "      <td>0.047801</td>\n",
       "    </tr>\n",
       "    <tr>\n",
       "      <th>312334</th>\n",
       "      <td>56045</td>\n",
       "      <td>56</td>\n",
       "      <td>6891</td>\n",
       "      <td>576641</td>\n",
       "      <td>0.011950</td>\n",
       "      <td>20220430</td>\n",
       "      <td>4.000000</td>\n",
       "      <td>18.0</td>\n",
       "      <td>18.0</td>\n",
       "      <td>0.0</td>\n",
       "      <td>0.047801</td>\n",
       "    </tr>\n",
       "    <tr>\n",
       "      <th>312335</th>\n",
       "      <td>56045</td>\n",
       "      <td>56</td>\n",
       "      <td>6891</td>\n",
       "      <td>576641</td>\n",
       "      <td>0.011950</td>\n",
       "      <td>20220507</td>\n",
       "      <td>4.000000</td>\n",
       "      <td>18.0</td>\n",
       "      <td>18.0</td>\n",
       "      <td>0.0</td>\n",
       "      <td>0.047801</td>\n",
       "    </tr>\n",
       "  </tbody>\n",
       "</table>\n",
       "<p>306763 rows × 11 columns</p>\n",
       "</div>"
      ],
      "text/plain": [
       "         Fips  State_fips    Pop  State_pop     Ratio      Date  \\\n",
       "1        1001           1  58239    4997675  0.011653  20200620   \n",
       "2        1001           1  58239    4997675  0.011653  20200627   \n",
       "3        1001           1  58239    4997675  0.011653  20200704   \n",
       "4        1001           1  58239    4997675  0.011653  20200711   \n",
       "5        1001           1  58239    4997675  0.011653  20200718   \n",
       "...       ...         ...    ...        ...       ...       ...   \n",
       "312331  56045          56   6891     576641  0.011950  20220409   \n",
       "312332  56045          56   6891     576641  0.011950  20220416   \n",
       "312333  56045          56   6891     576641  0.011950  20220423   \n",
       "312334  56045          56   6891     576641  0.011950  20220430   \n",
       "312335  56045          56   6891     576641  0.011950  20220507   \n",
       "\n",
       "        Proj_inc_deaths  True_cum_deaths  Cum_deaths_tm1  True_inc_deaths  \\\n",
       "1             83.302156              9.0             6.0              3.0   \n",
       "2             68.179357             12.0             9.0              3.0   \n",
       "3             76.238975             13.0            12.0              1.0   \n",
       "4             88.362530             15.0            13.0              2.0   \n",
       "5            114.279381             21.0            15.0              6.0   \n",
       "...                 ...              ...             ...              ...   \n",
       "312331         8.000000             18.0            18.0              0.0   \n",
       "312332         5.000000             18.0            18.0              0.0   \n",
       "312333         4.000000             18.0            18.0              0.0   \n",
       "312334         4.000000             18.0            18.0              0.0   \n",
       "312335         4.000000             18.0            18.0              0.0   \n",
       "\n",
       "        Naive_inc_deaths  \n",
       "1               0.970738  \n",
       "2               0.794509  \n",
       "3               0.888429  \n",
       "4               1.029708  \n",
       "5               1.331723  \n",
       "...                  ...  \n",
       "312331          0.095602  \n",
       "312332          0.059751  \n",
       "312333          0.047801  \n",
       "312334          0.047801  \n",
       "312335          0.047801  \n",
       "\n",
       "[306763 rows x 11 columns]"
      ]
     },
     "execution_count": 3,
     "metadata": {},
     "output_type": "execute_result"
    }
   ],
   "source": [
    "timestamp = '20241002-004543'\n",
    "\n",
    "fpath = os.path.join(DATA_DIR,'processed', f'processed_naive_deaths_{timestamp}.csv')\n",
    "df = pd.read_csv(fpath)\n",
    "# display(df)\n",
    "\n",
    "## Drop rows with nans.\n",
    "df.dropna(inplace=True)\n",
    "# display(df)\n",
    "\n",
    "## Drop samples with negative inc deaths.\n",
    "df_deaths = df[df.True_inc_deaths >= 0]\n",
    "# display(df_deaths)\n",
    "df_deaths"
   ]
  },
  {
   "cell_type": "code",
   "execution_count": 4,
   "id": "dbffc55a",
   "metadata": {},
   "outputs": [
    {
     "name": "stderr",
     "output_type": "stream",
     "text": [
      "100%|██████████| 3131/3131 [00:05<00:00, 538.71it/s]\n"
     ]
    }
   ],
   "source": [
    "from epsampling.utils import get_performance\n",
    "import pprint\n",
    "\n",
    "county_res_dict = {}\n",
    "\n",
    "fipss = df_deaths.Fips.unique()\n",
    "\n",
    "for fips in tqdm(df_deaths.Fips.unique(), total = len(fipss)):\n",
    "    \n",
    "    df_fips = df_deaths[df_deaths.Fips==fips]\n",
    "    \n",
    "    y_naive = df_fips['Naive_inc_deaths'].values\n",
    "    y_test = df_fips['True_inc_deaths'].values\n",
    "\n",
    "    model_names = ['Naive_inc_deaths'] #,'Deaths_true']\n",
    "    model_preds = [y_naive]\n",
    "    \n",
    "    metrics_dict = get_performance(model_names, model_preds, y_test, y_naive)\n",
    "    county_res_dict[fips] = list(metrics_dict.values())[0]\n",
    "    \n",
    "df_res = pd.DataFrame([[county,metric,value] \n",
    "                       for county,d in county_res_dict.items() \n",
    "                       for metric,value in d.items()], \n",
    "                       columns = ['Fips','metric','value'])\n",
    "\n",
    "df = df_res.pivot(index='Fips',columns='metric',values='value')\n",
    "# df.drop('relMAE',axis=1,inplace=True)\n",
    "\n",
    "df.reset_index(inplace=True)\n",
    "df.columns.name = None\n",
    "df.index.name = None"
   ]
  },
  {
   "cell_type": "code",
   "execution_count": 20,
   "id": "6428e4e1",
   "metadata": {},
   "outputs": [],
   "source": [
    "dff = df.merge(df_deaths[['Fips','Pop','Ratio']], on='Fips')\n",
    "dff.drop_duplicates(inplace=True)\n",
    "dff = dff[['Fips', 'Pop', 'Ratio', 'MAE', 'relMAE', 'MSE', 'RMSE', 'r2']]"
   ]
  },
  {
   "cell_type": "code",
   "execution_count": 21,
   "id": "a8c205c3",
   "metadata": {
    "scrolled": true
   },
   "outputs": [
    {
     "data": {
      "text/html": [
       "<div>\n",
       "<style scoped>\n",
       "    .dataframe tbody tr th:only-of-type {\n",
       "        vertical-align: middle;\n",
       "    }\n",
       "\n",
       "    .dataframe tbody tr th {\n",
       "        vertical-align: top;\n",
       "    }\n",
       "\n",
       "    .dataframe thead th {\n",
       "        text-align: right;\n",
       "    }\n",
       "</style>\n",
       "<table border=\"1\" class=\"dataframe\">\n",
       "  <thead>\n",
       "    <tr style=\"text-align: right;\">\n",
       "      <th></th>\n",
       "      <th>Fips</th>\n",
       "      <th>Pop</th>\n",
       "      <th>Ratio</th>\n",
       "      <th>MAE</th>\n",
       "      <th>relMAE</th>\n",
       "      <th>MSE</th>\n",
       "      <th>RMSE</th>\n",
       "      <th>r2</th>\n",
       "    </tr>\n",
       "  </thead>\n",
       "  <tbody>\n",
       "    <tr>\n",
       "      <th>0</th>\n",
       "      <td>1001</td>\n",
       "      <td>58239</td>\n",
       "      <td>0.011653</td>\n",
       "      <td>1.442469</td>\n",
       "      <td>1.0</td>\n",
       "      <td>4.288161</td>\n",
       "      <td>2.070788</td>\n",
       "      <td>0.300375</td>\n",
       "    </tr>\n",
       "    <tr>\n",
       "      <th>96</th>\n",
       "      <td>1003</td>\n",
       "      <td>227131</td>\n",
       "      <td>0.045447</td>\n",
       "      <td>5.212893</td>\n",
       "      <td>1.0</td>\n",
       "      <td>65.629623</td>\n",
       "      <td>8.101211</td>\n",
       "      <td>0.171386</td>\n",
       "    </tr>\n",
       "    <tr>\n",
       "      <th>194</th>\n",
       "      <td>1005</td>\n",
       "      <td>25259</td>\n",
       "      <td>0.005054</td>\n",
       "      <td>0.897593</td>\n",
       "      <td>1.0</td>\n",
       "      <td>4.181049</td>\n",
       "      <td>2.044761</td>\n",
       "      <td>0.047110</td>\n",
       "    </tr>\n",
       "    <tr>\n",
       "      <th>292</th>\n",
       "      <td>1007</td>\n",
       "      <td>22412</td>\n",
       "      <td>0.004484</td>\n",
       "      <td>0.966661</td>\n",
       "      <td>1.0</td>\n",
       "      <td>5.255706</td>\n",
       "      <td>2.292533</td>\n",
       "      <td>0.023673</td>\n",
       "    </tr>\n",
       "    <tr>\n",
       "      <th>389</th>\n",
       "      <td>1009</td>\n",
       "      <td>58884</td>\n",
       "      <td>0.011782</td>\n",
       "      <td>1.489784</td>\n",
       "      <td>1.0</td>\n",
       "      <td>5.462142</td>\n",
       "      <td>2.337123</td>\n",
       "      <td>0.373556</td>\n",
       "    </tr>\n",
       "    <tr>\n",
       "      <th>...</th>\n",
       "      <td>...</td>\n",
       "      <td>...</td>\n",
       "      <td>...</td>\n",
       "      <td>...</td>\n",
       "      <td>...</td>\n",
       "      <td>...</td>\n",
       "      <td>...</td>\n",
       "      <td>...</td>\n",
       "    </tr>\n",
       "    <tr>\n",
       "      <th>306269</th>\n",
       "      <td>56037</td>\n",
       "      <td>42459</td>\n",
       "      <td>0.073632</td>\n",
       "      <td>1.002291</td>\n",
       "      <td>1.0</td>\n",
       "      <td>2.748585</td>\n",
       "      <td>1.657886</td>\n",
       "      <td>0.312222</td>\n",
       "    </tr>\n",
       "    <tr>\n",
       "      <th>306368</th>\n",
       "      <td>56039</td>\n",
       "      <td>23319</td>\n",
       "      <td>0.040439</td>\n",
       "      <td>0.580852</td>\n",
       "      <td>1.0</td>\n",
       "      <td>0.667827</td>\n",
       "      <td>0.817207</td>\n",
       "      <td>-2.952518</td>\n",
       "    </tr>\n",
       "    <tr>\n",
       "      <th>306467</th>\n",
       "      <td>56041</td>\n",
       "      <td>20514</td>\n",
       "      <td>0.035575</td>\n",
       "      <td>0.537657</td>\n",
       "      <td>1.0</td>\n",
       "      <td>0.670594</td>\n",
       "      <td>0.818898</td>\n",
       "      <td>-0.011463</td>\n",
       "    </tr>\n",
       "    <tr>\n",
       "      <th>306566</th>\n",
       "      <td>56043</td>\n",
       "      <td>7768</td>\n",
       "      <td>0.013471</td>\n",
       "      <td>0.472109</td>\n",
       "      <td>1.0</td>\n",
       "      <td>0.945976</td>\n",
       "      <td>0.972613</td>\n",
       "      <td>0.063673</td>\n",
       "    </tr>\n",
       "    <tr>\n",
       "      <th>306665</th>\n",
       "      <td>56045</td>\n",
       "      <td>6891</td>\n",
       "      <td>0.011950</td>\n",
       "      <td>0.281707</td>\n",
       "      <td>1.0</td>\n",
       "      <td>0.226073</td>\n",
       "      <td>0.475472</td>\n",
       "      <td>0.124865</td>\n",
       "    </tr>\n",
       "  </tbody>\n",
       "</table>\n",
       "<p>3131 rows × 8 columns</p>\n",
       "</div>"
      ],
      "text/plain": [
       "         Fips     Pop     Ratio       MAE  relMAE        MSE      RMSE  \\\n",
       "0        1001   58239  0.011653  1.442469     1.0   4.288161  2.070788   \n",
       "96       1003  227131  0.045447  5.212893     1.0  65.629623  8.101211   \n",
       "194      1005   25259  0.005054  0.897593     1.0   4.181049  2.044761   \n",
       "292      1007   22412  0.004484  0.966661     1.0   5.255706  2.292533   \n",
       "389      1009   58884  0.011782  1.489784     1.0   5.462142  2.337123   \n",
       "...       ...     ...       ...       ...     ...        ...       ...   \n",
       "306269  56037   42459  0.073632  1.002291     1.0   2.748585  1.657886   \n",
       "306368  56039   23319  0.040439  0.580852     1.0   0.667827  0.817207   \n",
       "306467  56041   20514  0.035575  0.537657     1.0   0.670594  0.818898   \n",
       "306566  56043    7768  0.013471  0.472109     1.0   0.945976  0.972613   \n",
       "306665  56045    6891  0.011950  0.281707     1.0   0.226073  0.475472   \n",
       "\n",
       "              r2  \n",
       "0       0.300375  \n",
       "96      0.171386  \n",
       "194     0.047110  \n",
       "292     0.023673  \n",
       "389     0.373556  \n",
       "...          ...  \n",
       "306269  0.312222  \n",
       "306368 -2.952518  \n",
       "306467 -0.011463  \n",
       "306566  0.063673  \n",
       "306665  0.124865  \n",
       "\n",
       "[3131 rows x 8 columns]"
      ]
     },
     "execution_count": 21,
     "metadata": {},
     "output_type": "execute_result"
    }
   ],
   "source": [
    "dff"
   ]
  },
  {
   "cell_type": "code",
   "execution_count": null,
   "id": "ef8dedd7",
   "metadata": {},
   "outputs": [],
   "source": []
  },
  {
   "cell_type": "code",
   "execution_count": 19,
   "id": "caa8c21f",
   "metadata": {},
   "outputs": [
    {
     "data": {
      "text/plain": [
       "Index(['Fips', 'MAE', 'MSE', 'RMSE', 'r2', 'relMAE', 'Pop', 'Ratio'], dtype='object')"
      ]
     },
     "execution_count": 19,
     "metadata": {},
     "output_type": "execute_result"
    }
   ],
   "source": [
    "dff.columns"
   ]
  },
  {
   "cell_type": "code",
   "execution_count": 17,
   "id": "93c78bd5",
   "metadata": {},
   "outputs": [
    {
     "name": "stdout",
     "output_type": "stream",
     "text": [
      "r2 vs. Ratio *\n"
     ]
    },
    {
     "data": {
      "text/plain": [
       "PearsonRResult(statistic=0.11508929370088078, pvalue=1.055642035463237e-10)"
      ]
     },
     "metadata": {},
     "output_type": "display_data"
    },
    {
     "data": {
      "text/plain": [
       "SignificanceResult(statistic=0.41648703331724024, pvalue=1.2361904757251379e-131)"
      ]
     },
     "metadata": {},
     "output_type": "display_data"
    },
    {
     "data": {
      "text/plain": [
       "SignificanceResult(statistic=0.2966461780891057, pvalue=1.1024111326278358e-136)"
      ]
     },
     "metadata": {},
     "output_type": "display_data"
    },
    {
     "name": "stdout",
     "output_type": "stream",
     "text": [
      "\n",
      "r2 vs. Pop *\n"
     ]
    },
    {
     "data": {
      "text/plain": [
       "PearsonRResult(statistic=0.10843457107029798, pvalue=1.1794424923604671e-09)"
      ]
     },
     "metadata": {},
     "output_type": "display_data"
    },
    {
     "data": {
      "text/plain": [
       "SignificanceResult(statistic=0.43309980055774744, pvalue=2.3582526412261042e-143)"
      ]
     },
     "metadata": {},
     "output_type": "display_data"
    },
    {
     "data": {
      "text/plain": [
       "SignificanceResult(statistic=0.3108740508676276, pvalue=6.554489334004355e-150)"
      ]
     },
     "metadata": {},
     "output_type": "display_data"
    },
    {
     "name": "stdout",
     "output_type": "stream",
     "text": [
      "\n",
      "MAE vs. Ratio *\n"
     ]
    },
    {
     "data": {
      "text/plain": [
       "PearsonRResult(statistic=0.4820678815180171, pvalue=5.9379563162947954e-182)"
      ]
     },
     "metadata": {},
     "output_type": "display_data"
    },
    {
     "data": {
      "text/plain": [
       "SignificanceResult(statistic=0.7035324241602167, pvalue=0.0)"
      ]
     },
     "metadata": {},
     "output_type": "display_data"
    },
    {
     "data": {
      "text/plain": [
       "SignificanceResult(statistic=0.5172780611159442, pvalue=0.0)"
      ]
     },
     "metadata": {},
     "output_type": "display_data"
    },
    {
     "name": "stdout",
     "output_type": "stream",
     "text": [
      "\n",
      "MAE vs. Pop *\n"
     ]
    },
    {
     "data": {
      "text/plain": [
       "PearsonRResult(statistic=0.9192882646986335, pvalue=0.0)"
      ]
     },
     "metadata": {},
     "output_type": "display_data"
    },
    {
     "data": {
      "text/plain": [
       "SignificanceResult(statistic=0.9501245135916926, pvalue=0.0)"
      ]
     },
     "metadata": {},
     "output_type": "display_data"
    },
    {
     "data": {
      "text/plain": [
       "SignificanceResult(statistic=0.8118130710575208, pvalue=0.0)"
      ]
     },
     "metadata": {},
     "output_type": "display_data"
    },
    {
     "name": "stdout",
     "output_type": "stream",
     "text": [
      "\n",
      "RMSE vs. Ratio *\n"
     ]
    },
    {
     "data": {
      "text/plain": [
       "PearsonRResult(statistic=0.3969945823937133, pvalue=1.057697499832797e-118)"
      ]
     },
     "metadata": {},
     "output_type": "display_data"
    },
    {
     "data": {
      "text/plain": [
       "SignificanceResult(statistic=0.6638243251706505, pvalue=0.0)"
      ]
     },
     "metadata": {},
     "output_type": "display_data"
    },
    {
     "data": {
      "text/plain": [
       "SignificanceResult(statistic=0.479678172380921, pvalue=0.0)"
      ]
     },
     "metadata": {},
     "output_type": "display_data"
    },
    {
     "name": "stdout",
     "output_type": "stream",
     "text": [
      "\n",
      "RMSE vs. Pop *\n"
     ]
    },
    {
     "data": {
      "text/plain": [
       "PearsonRResult(statistic=0.8189122489866862, pvalue=0.0)"
      ]
     },
     "metadata": {},
     "output_type": "display_data"
    },
    {
     "data": {
      "text/plain": [
       "SignificanceResult(statistic=0.8969146698439394, pvalue=0.0)"
      ]
     },
     "metadata": {},
     "output_type": "display_data"
    },
    {
     "data": {
      "text/plain": [
       "SignificanceResult(statistic=0.7246245341247032, pvalue=0.0)"
      ]
     },
     "metadata": {},
     "output_type": "display_data"
    }
   ],
   "source": [
    "%precision 2\n",
    "\n",
    "import numpy as np\n",
    "import scipy.stats\n",
    "\n",
    "print('r2 vs. Ratio *')\n",
    "r = scipy.stats.pearsonr(dff.r2, dff.Ratio)    # Pearson's r\n",
    "rho = scipy.stats.spearmanr(dff.r2, dff.Ratio)   # Spearman's rho\n",
    "tau = scipy.stats.kendalltau(dff.r2, dff.Ratio)   # Kendall's tau\n",
    "display(r, rho, tau)\n",
    "\n",
    "print('\\nr2 vs. Pop *')\n",
    "r = scipy.stats.pearsonr(dff.r2, dff.Pop)    # Pearson's r\n",
    "rho = scipy.stats.spearmanr(dff.r2, dff.Pop)   # Spearman's rho\n",
    "tau = scipy.stats.kendalltau(dff.r2, dff.Pop)   # Kendall's tau\n",
    "display(r, rho, tau)\n",
    "\n",
    "print('\\nMAE vs. Ratio *')\n",
    "r = scipy.stats.pearsonr(dff.MAE, dff.Ratio)    # Pearson's r\n",
    "rho = scipy.stats.spearmanr(dff.MAE, dff.Ratio)   # Spearman's rho\n",
    "tau = scipy.stats.kendalltau(dff.MAE, dff.Ratio)   # Kendall's tau\n",
    "display(r, rho, tau)\n",
    "\n",
    "print('\\nMAE vs. Pop *')\n",
    "r = scipy.stats.pearsonr(dff.MAE, dff.Pop)    # Pearson's r\n",
    "rho = scipy.stats.spearmanr(dff.MAE, dff.Pop)   # Spearman's rho\n",
    "tau = scipy.stats.kendalltau(dff.MAE, dff.Pop)   # Kendall's tau\n",
    "display(r, rho, tau)\n",
    "\n",
    "print('\\nRMSE vs. Ratio *')\n",
    "r = scipy.stats.pearsonr(dff.RMSE, dff.Ratio)    # Pearson's r\n",
    "rho = scipy.stats.spearmanr(dff.RMSE, dff.Ratio)   # Spearman's rho\n",
    "tau = scipy.stats.kendalltau(dff.RMSE, dff.Ratio)   # Kendall's tau\n",
    "display(r, rho, tau)\n",
    "\n",
    "print('\\nRMSE vs. Pop *')\n",
    "r = scipy.stats.pearsonr(dff.RMSE, dff.Pop)    # Pearson's r\n",
    "rho = scipy.stats.spearmanr(dff.RMSE, dff.Pop)   # Spearman's rho\n",
    "tau = scipy.stats.kendalltau(dff.RMSE, dff.Pop)   # Kendall's tau\n",
    "display(r, rho, tau)"
   ]
  },
  {
   "cell_type": "code",
   "execution_count": 29,
   "id": "334f682f",
   "metadata": {},
   "outputs": [
    {
     "data": {
      "image/png": "[encoded data removed]",
      "text/plain": [
       "<Figure size 640x480 with 1 Axes>"
      ]
     },
     "metadata": {},
     "output_type": "display_data"
    }
   ],
   "source": [
    "import seaborn as sns\n",
    "import matplotlib.pyplot as plt\n",
    "sns.set(font_scale=1, style='ticks') \n",
    "\n",
    "from matplotlib import ticker as mtick\n",
    "\n",
    "sns.scatterplot(data=dff, x=\"Pop\", y=\"MAE\")\n",
    "plt.xlabel('County population')\n",
    "\n",
    "fmt = '%d'  # as per no of zero(or other) you want after decimal point\n",
    "xticks = mtick.FormatStrFormatter(fmt)\n",
    "plt.gca().xaxis.set_major_formatter(xticks)\n",
    "plt.show()"
   ]
  },
  {
   "cell_type": "code",
   "execution_count": 30,
   "id": "37e9b52b",
   "metadata": {},
   "outputs": [
    {
     "data": {
      "image/png": "[encoded data removed]",
      "text/plain": [
       "<Figure size 640x480 with 1 Axes>"
      ]
     },
     "metadata": {},
     "output_type": "display_data"
    }
   ],
   "source": [
    "import seaborn as sns\n",
    "import matplotlib.pyplot as plt\n",
    "sns.set(font_scale=1, style='ticks') \n",
    "\n",
    "from matplotlib import ticker as mtick\n",
    "\n",
    "sns.scatterplot(data=dff, x=\"Pop\", y=\"RMSE\")\n",
    "plt.xlabel('County population')\n",
    "\n",
    "fmt = '%d'  # as per no of zero(or other) you want after decimal point\n",
    "xticks = mtick.FormatStrFormatter(fmt)\n",
    "plt.gca().xaxis.set_major_formatter(xticks)\n",
    "plt.show()"
   ]
  },
  {
   "cell_type": "code",
   "execution_count": null,
   "id": "6616a37e",
   "metadata": {},
   "outputs": [],
   "source": []
  }
 ],
 "metadata": {
  "kernelspec": {
   "display_name": "Python 3 (ipykernel)",
   "language": "python",
   "name": "python3"
  },
  "language_info": {
   "codemirror_mode": {
    "name": "ipython",
    "version": 3
   },
   "file_extension": ".py",
   "mimetype": "text/x-python",
   "name": "python",
   "nbconvert_exporter": "python",
   "pygments_lexer": "ipython3",
   "version": "3.10.9"
  }
 },
 "nbformat": 4,
 "nbformat_minor": 5
}
