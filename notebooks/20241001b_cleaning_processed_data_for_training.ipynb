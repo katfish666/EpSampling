{
 "cells": [
  {
   "cell_type": "code",
   "execution_count": null,
   "id": "9d38f4ac",
   "metadata": {},
   "outputs": [],
   "source": [
    "%%capture\n",
    "%load_ext autoreload\n",
    "%autoreload 2\n",
    "from setup_nb_env import *\n",
    "\n",
    "from epsampling.utils import load_csv\n",
    "# pd.set_option('display.float_format', lambda x: '%.3f' % x)\n",
    "from epsampling.utils import drop_sers_with_nans\n",
    "from epsampling.utils import date_str_to_int\n",
    "\n",
    "DATA_DIR = '/work/users/k/4/k4thryn/Repos/EpSampling/data/'\n",
    "DT = datetime.today().strftime('%Y%m%d-%H%M%S')"
   ]
  },
  {
   "cell_type": "code",
   "execution_count": null,
   "id": "6404a270",
   "metadata": {},
   "outputs": [],
   "source": [
    "timestamp = '20241001-235356'"
   ]
  },
  {
   "cell_type": "code",
   "execution_count": null,
   "id": "4b877cfb",
   "metadata": {},
   "outputs": [],
   "source": [
    "fpath = os.path.join(DATA_DIR,'processed', f'processed_naive_deaths_{timestamp}.csv')\n",
    "_df = pd.read_csv(fpath)\n",
    "_df\n",
    "\n",
    "## Drop rows with nans.\n",
    "df = _df.dropna(inplace=False)\n",
    "df"
   ]
  },
  {
   "cell_type": "code",
   "execution_count": null,
   "id": "deef678a",
   "metadata": {},
   "outputs": [],
   "source": []
  },
  {
   "cell_type": "code",
   "execution_count": null,
   "id": "7e395fd2",
   "metadata": {},
   "outputs": [],
   "source": [
    "## Drop rows with negatives.\n",
    "df = df[df.True_inc_deaths >= 0]\n",
    "print(len(df))\n",
    "df = df[df.True_cum_deaths >= 0]\n",
    "print(len(df))\n",
    "df = df[df.Cum_deaths_t_m1 >= 0]\n",
    "print(len(df))"
   ]
  },
  {
   "cell_type": "code",
   "execution_count": null,
   "id": "6531b9e5",
   "metadata": {},
   "outputs": [],
   "source": []
  }
 ],
 "metadata": {
  "kernelspec": {
   "display_name": "Python 3 (ipykernel)",
   "language": "python",
   "name": "python3"
  },
  "language_info": {
   "codemirror_mode": {
    "name": "ipython",
    "version": 3
   },
   "file_extension": ".py",
   "mimetype": "text/x-python",
   "name": "python",
   "nbconvert_exporter": "python",
   "pygments_lexer": "ipython3",
   "version": "3.10.9"
  }
 },
 "nbformat": 4,
 "nbformat_minor": 5
}
