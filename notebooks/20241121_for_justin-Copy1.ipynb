{
 "cells": [
  {
   "cell_type": "code",
   "execution_count": null,
   "id": "23582e91",
   "metadata": {},
   "outputs": [],
   "source": [
    "%%capture\n",
    "%load_ext autoreload\n",
    "%autoreload 2\n",
    "from setup_nb_env import *\n",
    "DATA_DIR = '/work/users/k/4/k4thryn/Repos/OLD_EpSampling_Nov2024/data/'"
   ]
  },
  {
   "cell_type": "markdown",
   "id": "ea2ce995",
   "metadata": {},
   "source": [
    "# <font color=blue> 1) Dataset"
   ]
  },
  {
   "cell_type": "code",
   "execution_count": null,
   "id": "d972d6a9",
   "metadata": {},
   "outputs": [],
   "source": [
    "ts = '20241108-123515'\n",
    "fpath = os.path.join(DATA_DIR,'processed',f'training_target_df_{ts}.csv')\n",
    "dff = pd.read_csv(fpath)\n",
    "\n",
    "pd.set_option('display.max_columns', None)\n",
    "\n",
    "print(dff.columns)\n",
    "display(dff)\n",
    "d = {'Proj_state_inc_deaths':'PROJ state deaths',\n",
    "     'True_county_inc_deaths':'TRUE county deaths',\n",
    "     'Pop':'County population',\n",
    "     'Naive_proj_deaths':'Naive PROJ deaths',\n",
    "     '':'',\n",
    "    }\n",
    "\n",
    "dff.rename(d,axis=1,inplace=True)"
   ]
  },
  {
   "cell_type": "code",
   "execution_count": null,
   "id": "f2b1c862",
   "metadata": {},
   "outputs": [],
   "source": [
    "Y_COL = 'TRUE county deaths'\n",
    "X_COLS = ['PROJ state deaths','County population']\n",
    "NAIVE_COL = 'Naive PROJ deaths'\n",
    "\n",
    "dff.dropna(inplace=True)\n",
    "df = dff[dff[Y_COL] >= 0]\n",
    "\n",
    "def get_model_df(df, X_COLS, Y_COL, NAIVE_COL):\n",
    "    cols = ['Date', 'Fips'] + X_COLS + [Y_COL, NAIVE_COL]\n",
    "    df = df[cols]    \n",
    "    return df\n",
    "\n",
    "df = get_model_df(df, X_COLS, Y_COL, NAIVE_COL)\n",
    "display(df)\n",
    "\n",
    "\n",
    "import matplotlib.pyplot as plt\n",
    "import seaborn as sns\n",
    "sns.set(font_scale=1, style='ticks', palette='muted') \n",
    "DPI = 80\n",
    "FIGSIZE = (8,4)\n",
    "\n",
    "# plt.figure(figsize=FIGSIZE)\n",
    "# sns.histplot(dff[Y_COL].values, bins=40, kde=True, element='step')\n",
    "# sns.despine()\n",
    "# # sns.kdeplotdf[TARGET_COL].values)\n",
    "# plt.xlim((-20, 90))\n",
    "# plt.gcf().set_dpi(DPI)\n",
    "# plt.show()\n",
    "\n",
    "plt.figure(figsize=FIGSIZE)\n",
    "sns.histplot(df[Y_COL].values, bins=40, kde=True, element='step')\n",
    "sns.despine()\n",
    "# sns.kdeplotdf[TARGET_COL].values)\n",
    "plt.xlim((-20, 90))\n",
    "plt.gcf().set_dpi(DPI)\n",
    "plt.show()\n",
    "\n",
    "print(f\"Are all targets non-negative? {(df[Y_COL].min() >= 0)}\")"
   ]
  },
  {
   "cell_type": "markdown",
   "id": "7825b5d3",
   "metadata": {},
   "source": [
    "## <font color=blue> 2) Training: County population + Predicted state deaths\n",
    "\n",
    "    \n",
    "<font color=blue> _Compare regression algorithms:_\n",
    "1. <font color=blue>  Linear \n",
    "1. <font color=blue>  Poisson \n",
    "1. <font color=blue>  Zero-inflated\n",
    "    \n",
    "This is our most simplistic model. We are predicting the number of county deaths given two covariates: 1) projected state deaths (from COVIDHub) and 2) county population. We will consider vanilla linear regression, poisson regression, and zero-inflated regression.\n",
    "    \n",
    "    \n",
    "### <font color=red> Add histogram of target values?"
   ]
  },
  {
   "cell_type": "markdown",
   "id": "6fb03f3f",
   "metadata": {},
   "source": [
    "### <font color=blue> Model design\n",
    "- <font color=blue> **_Train-test split:_** Our training and test/evaluation set will be partitioned based on (2 month)-wise chunks. That is, we will evaluate our model on temporally consecutive targets over the course of 8 weeks, and we will train on the remaining weeks.\n",
    "    - <font color=black> **Train samps:** 7939\n",
    "    - <font color=black> **Test samps:** 771\n",
    "- <font color=blue> **_Cross validation protocol:_** We will train a model for each month, for a total of 10 models. From these, we can evaluate average performance for each regression algorithm.\n",
    "    "
   ]
  },
  {
   "cell_type": "code",
   "execution_count": null,
   "id": "07b1fe8d",
   "metadata": {},
   "outputs": [],
   "source": [
    "from epsampling.utils import get_chunks\n",
    "from epsampling.modeling import get_date_chunked_splits, get_performance\n",
    "from sklearn import linear_model\n",
    "from sklearn.model_selection import train_test_split"
   ]
  },
  {
   "cell_type": "code",
   "execution_count": null,
   "id": "a65f5e67",
   "metadata": {
    "scrolled": false
   },
   "outputs": [],
   "source": [
    "def get_df_res(df_train, df_test, X_COLS, Y_COL, PRED_COL, ALG):    \n",
    "    X_train = df_train[X_COLS]\n",
    "    y_train = df_train[Y_COL]\n",
    "    X_test = df_test[X_COLS]\n",
    "    \n",
    "    df_pred = df_test.copy()\n",
    "    reg = linear_model.LinearRegression().fit(X_train, y_train)\n",
    "    df_pred['Algorithm'] = ALG\n",
    "    df_pred[PRED_COL] = reg.predict(X_test)\n",
    "    \n",
    "    return df_pred\n",
    "\n",
    "\n",
    "\n",
    "# idx = 5\n",
    "# i = 0 ## cross-val progress\n",
    "ALG = 'Linear Regression'\n",
    "\n",
    "\n",
    "res_dfs = []\n",
    "models = {}\n",
    "\n",
    "chunks = get_chunks(list(df.Date.unique()), num_membs=8)\n",
    "\n",
    "for i,test_chunk in enumerate(chunks):\n",
    "#     print(i,test_chunk)\n",
    "    \n",
    "    df_train, df_test = get_date_chunked_splits(df, chunks, i)\n",
    "    df_test[f'Run'] = i\n",
    "    \n",
    "    PRED_COL = 'PRED county deaths'\n",
    "    df_res = get_df_res(df_train, df_test, X_COLS, Y_COL, PRED_COL, ALG)\n",
    "    \n",
    "    if i==0: display(df_test.head(), df_res.head())\n",
    "        \n",
    "    res_dfs.append(df_res)\n",
    "    \n",
    "df_full_res = pd.concat(res_dfs)\n",
    "# df_full_res\n",
    "    \n",
    "    \n",
    "# df_train, df_test = get_date_chunked_splits(df, chunks, idx)\n",
    "# # print(f'Training set size: {len(df_train)}\\nTest set size: {len(df_test)}')\n",
    "# df_test[f'Run'] = i\n",
    "\n",
    "\n",
    "# for i,idx in tqdm(enumerate(idc), total=len(idc)):\n",
    "\n",
    "\n",
    "# pred_col = 'PRED county inc. deaths'\n",
    "# df_res = get_df_res(df_train, df_test, X_COLS, Y_COL, pred_col)\n",
    "# df_res.head()"
   ]
  },
  {
   "cell_type": "markdown",
   "id": "0a24ed10",
   "metadata": {},
   "source": [
    "## <font color=blue> 3) Evaluation"
   ]
  },
  {
   "cell_type": "markdown",
   "id": "f62b3377",
   "metadata": {},
   "source": [
    "## <font color=blue> a. _Metrics_ \n",
    "Average across cross-validation splits."
   ]
  },
  {
   "cell_type": "code",
   "execution_count": null,
   "id": "de71b65b",
   "metadata": {},
   "outputs": [],
   "source": [
    "## GET PERFORMANCE !\n",
    "# from epsampling.modeling import get_metrics_ser\n",
    "\n",
    "from sklearn.metrics import mean_absolute_error, mean_squared_error, r2_score, median_absolute_error\n",
    "\n",
    "def get_metrics_ser(df, target_col, pred_col, alg_col, naive_col):\n",
    "    \n",
    "    metrics_dict = {'MAE': mean_absolute_error,\n",
    "                    'MedAE': median_absolute_error,\n",
    "                    'MSE': mean_squared_error,\n",
    "                    'RMSE': mean_squared_error,\n",
    "                    'r2': r2_score\n",
    "                    }\n",
    "    \n",
    "    mae = mean_absolute_error(df[target_col], df[pred_col])\n",
    "    medae = median_absolute_error(df[target_col], df[pred_col])\n",
    "    r2 = r2_score(df[target_col], df[pred_col])\n",
    "    mse = mean_squared_error(df[target_col], df[pred_col])\n",
    "    \n",
    "    relmae = mae / mean_absolute_error(df[target_col],df[naive_col])\n",
    "    \n",
    "    ser = {'Algorithm':alg_col, 'MAE':mae, 'MedAE':medae, \n",
    "           'R-squared':r2, 'MSE': mse, 'relMAE': relmae,}\n",
    "    \n",
    "    return ser\n",
    "    \n",
    "\n",
    "metric_sers = []\n",
    "\n",
    "for run in df_full_res.Run.unique():\n",
    "    \n",
    "    subdf = df_full_res[df_full_res['Run']==run]\n",
    "    ser = get_metrics_ser(subdf, \n",
    "                          target_col=Y_COL,\n",
    "                          pred_col=PRED_COL,\n",
    "                          alg_col=ALG,\n",
    "                          naive_col=NAIVE_COL)\n",
    "    \n",
    "    metric_sers.append(ser)\n",
    "    \n",
    "df_run = pd.DataFrame(metric_sers)\n",
    "df_run"
   ]
  },
  {
   "cell_type": "code",
   "execution_count": null,
   "id": "2e43a71c",
   "metadata": {},
   "outputs": [],
   "source": [
    "list_run_res = []\n"
   ]
  },
  {
   "cell_type": "code",
   "execution_count": null,
   "id": "c4127c1e",
   "metadata": {},
   "outputs": [],
   "source": [
    "df_full_res"
   ]
  },
  {
   "cell_type": "code",
   "execution_count": null,
   "id": "459b8bf3",
   "metadata": {},
   "outputs": [],
   "source": [
    "df_melt = pd.melt(df_run, id_vars=['Algorithm'], \n",
    "                  value_vars=['MAE', 'MedAE', 'R-squared','MSE','relMAE'], \n",
    "                  var_name='Metric', value_name='Score')\n",
    "\n",
    "# import matplotlib.pyplot as plt\n",
    "# import seaborn as sns\n",
    "# sns.set(font_scale=1, style='whitegrid', palette='pastel') \n",
    "\n",
    "# DPI = 80\n",
    "\n",
    "# for metric in df_melt.Metric.unique():\n",
    "#     df_plot = df_melt[df_melt.Metric==metric]\n",
    "# #     display(df_plot)\n",
    "#     sns.boxplot(df_plot, x='Algorithm',y='Score')   \n",
    "#     plt.title(f'{metric}')\n",
    "#     plt.xticks(rotation=45,ha='right')\n",
    "#     plt.gcf().set_dpi(DPI)\n",
    "#     plt.show()\n",
    "\n",
    "# df_full_res\n",
    "\n",
    "for metric in  ['MAE', 'MedAE', 'R-squared', 'MSE'    ,'relMAE']:\n",
    "    dff_melt = df_melt[df_melt['Metric']==metric]\n",
    "    print(f'\\n* {metric} *  \\n Mean: {round(dff_melt.Score.mean(),3)}\\n Median: {round(dff_melt.Score.median(),3)}')"
   ]
  },
  {
   "cell_type": "markdown",
   "id": "254eacdc",
   "metadata": {},
   "source": [
    "## <font color=blue> b. _Plots_"
   ]
  },
  {
   "cell_type": "code",
   "execution_count": null,
   "id": "952f550c",
   "metadata": {},
   "outputs": [],
   "source": [
    "import matplotlib.pyplot as plt\n",
    "import seaborn as sns\n",
    "sns.set(font_scale=1, style='ticks', palette='muted') \n",
    "\n",
    "DPI = 80\n",
    "FIGSIZE = (8,4)\n",
    "\n",
    "df = df_pred\n",
    "\n",
    "plt.figure(figsize=FIGSIZE)\n",
    "sns.scatterplot(data=df, x=TARGET_COL, y=pred_col, alpha=alpha, sizes=sizes, linewidth=linewidth)\n",
    "sns.despine()\n",
    "plt.xlim((-10, 90))\n",
    "plt.gcf().set_dpi(DPI)\n",
    "plt.show()\n",
    "\n",
    "\n",
    "\n",
    "figsize = (8,6)\n",
    "alpha = 0.15\n",
    "sizes = 2\n",
    "linewidth = 0\n",
    "\n",
    "sns.regplot(data=df,  x=TARGET_COL, y=pred_col,\n",
    "            scatter_kws={'s':10, 'alpha':0.5}, line_kws={'color':'k','linewidth':1})\n",
    "sns.despine()\n",
    "# plt.title('raw') \n",
    "# plt.title('y+(1)/pop*100000\\n r2: 0.934336') \n",
    "# plt.title('y/pop*100000\\n r2: -0.016382') \n",
    "\n",
    "plt.show()"
   ]
  },
  {
   "cell_type": "code",
   "execution_count": null,
   "id": "b821ab0f",
   "metadata": {},
   "outputs": [],
   "source": []
  },
  {
   "cell_type": "markdown",
   "id": "42f49cfe",
   "metadata": {},
   "source": [
    "# <font color=red> What about when transformed?"
   ]
  }
 ],
 "metadata": {
  "kernelspec": {
   "display_name": "Python 3 (ipykernel)",
   "language": "python",
   "name": "python3"
  },
  "language_info": {
   "codemirror_mode": {
    "name": "ipython",
    "version": 3
   },
   "file_extension": ".py",
   "mimetype": "text/x-python",
   "name": "python",
   "nbconvert_exporter": "python",
   "pygments_lexer": "ipython3",
   "version": "3.10.9"
  }
 },
 "nbformat": 4,
 "nbformat_minor": 5
}
