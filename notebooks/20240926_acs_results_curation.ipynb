{
 "cells": [
  {
   "cell_type": "code",
   "execution_count": 1,
   "id": "77a5a5d2",
   "metadata": {},
   "outputs": [],
   "source": [
    "%%capture\n",
    "%load_ext autoreload\n",
    "%autoreload 2\n",
    "from setup_nb_env import *\n",
    "\n",
    "from epsampling.utils import load_csv\n",
    "# pd.set_option('display.float_format', lambda x: '%.3f' % x)\n",
    "\n",
    "DATA_DIR = '/work/users/k/4/k4thryn/Repos/EpSampling/data/'\n",
    "DT = datetime.today().strftime('%Y%m%d-%H%M%S')"
   ]
  },
  {
   "cell_type": "code",
   "execution_count": 2,
   "id": "6102fc03",
   "metadata": {},
   "outputs": [],
   "source": [
    "timestamp = '20240926-122824'\n",
    "\n",
    "# fpath = os.path.join(DATA_DIR,'processed',f'formatted_state_fips_{timestamp}.csv')\n",
    "# df_fips = pd.read_csv(fpath)\n",
    "\n",
    "# fpath = os.path.join(DATA_DIR,'processed',f'formatted_COVIDhub-ensemble_{timestamp}.csv')\n",
    "# df_hub = pd.read_csv(fpath)\n",
    "\n",
    "# fpath = os.path.join(DATA_DIR,'processed',f'formatted_nytimes-us-counties_{timestamp}.csv')\n",
    "# df_nyt = pd.read_csv(fpath)\n",
    "\n",
    "fpath = os.path.join(DATA_DIR,'processed',f'formatted_acs_results_{timestamp}.csv')\n",
    "df = pd.read_csv(fpath)\n",
    "\n",
    "# display(df_fips.head())\n",
    "# display(df_hub, df_nyt, df_acs)"
   ]
  },
  {
   "cell_type": "code",
   "execution_count": 3,
   "id": "b7be486d",
   "metadata": {},
   "outputs": [],
   "source": [
    "dup_dict = {}\n",
    "\n",
    "for name, ser in df.items():\n",
    "#     print(series_name)\n",
    "    for name2, ser2 in df.items():\n",
    "        if name==name2:\n",
    "            break\n",
    "        else:\n",
    "            if ser.equals(ser2):\n",
    "                if name not in dup_dict.keys():\n",
    "                    dup_dict[name] = [name2]\n",
    "                else:\n",
    "                    dup_dict[name].append(name2)\n",
    "#     print(series)"
   ]
  },
  {
   "cell_type": "code",
   "execution_count": 4,
   "id": "127705c8",
   "metadata": {},
   "outputs": [],
   "source": [
    "df_dict = pd.DataFrame.from_dict(dup_dict, orient='index') \n",
    "fpath = \"../constants_and_dicts/acs_duplicate_covs_dict.csv\"\n",
    "df_dict.to_csv(fpath,header=False)"
   ]
  },
  {
   "cell_type": "code",
   "execution_count": 5,
   "id": "3b859ba0",
   "metadata": {
    "scrolled": true
   },
   "outputs": [
    {
     "data": {
      "text/plain": [
       "{'POP_x3': ['POP_x2'],\n",
       " 'HH_x6': ['HH_x5'],\n",
       " 'POP_16p_EMP_x8': ['POP_16p_EMP_x7'],\n",
       " 'IND_CONS_x8': ['IND_CONS_x7'],\n",
       " 'IND_MAN_x8': ['IND_MAN_x7'],\n",
       " 'IND_WHT_x8': ['IND_WHT_x7'],\n",
       " 'IND_RETT_x8': ['IND_RETT_x7'],\n",
       " 'IND_INF_x8': ['IND_INF_x7'],\n",
       " 'IND_OSER_x8': ['IND_OSER_x7'],\n",
       " 'IND_PUBA_x8': ['IND_PUBA_x7'],\n",
       " 'HU_OCC': ['HH_x5', 'HH_x6'],\n",
       " 'POP_16p_EMP_x10': ['POP_16p_EMP_x7', 'POP_16p_EMP_x8'],\n",
       " 'POP_16p_EMP_x11': ['POP_16p_EMP_x7', 'POP_16p_EMP_x8', 'POP_16p_EMP_x10'],\n",
       " 'POP_16p_EMP': ['POP_16p_EMP_x7',\n",
       "  'POP_16p_EMP_x8',\n",
       "  'POP_16p_EMP_x10',\n",
       "  'POP_16p_EMP_x11'],\n",
       " 'OCC_SERV_HCS_x12': ['OCC_SERV_HCS_x11'],\n",
       " 'OCC_SERV_FPS_x12': ['OCC_SERV_FPS_x11'],\n",
       " 'OCC_SERV_BGM_x12': ['OCC_SERV_BGM_x11'],\n",
       " 'OCC_SERV_PCS_x12': ['OCC_SERV_PCS_x11'],\n",
       " 'OCC_SALES_SR_x12': ['OCC_SALES_SR_x11'],\n",
       " 'OCC_SALES_OAS_x12': ['OCC_SALES_OAS_x11'],\n",
       " 'OCC_NRCM_FFF_x12': ['OCC_NRCM_FFF_x11'],\n",
       " 'OCC_NRCM_CE_x12': ['OCC_NRCM_CE_x11'],\n",
       " 'OCC_NRCM_IMR_x12': ['OCC_NRCM_IMR_x11'],\n",
       " 'OCC_PTMM_P_x12': ['OCC_PTMM_P_x11'],\n",
       " 'OCC_PTMM_T_x12': ['OCC_PTMM_T_x11'],\n",
       " 'OCC_PTMM_MM_x12': ['OCC_PTMM_MM_x11'],\n",
       " 'POP_x13': ['POP_x2', 'POP_x3'],\n",
       " 'POP_HISP_x13': ['POP_HISP_x12'],\n",
       " 'POP_x14': ['POP_x2', 'POP_x3', 'POP_x13'],\n",
       " 'HU_x15': ['HU_x14']}"
      ]
     },
     "execution_count": 5,
     "metadata": {},
     "output_type": "execute_result"
    }
   ],
   "source": [
    "import json\n",
    "\n",
    "fpath = \"../constants_and_dicts/acs_duplicate_covs_dict.json\" \n",
    "with open(fpath, 'w') as fp:\n",
    "    json.dump(dup_dict, fp)\n",
    "with open(fpath, 'r') as json_file:\n",
    "    data = json.load(json_file)\n",
    "data"
   ]
  },
  {
   "cell_type": "code",
   "execution_count": null,
   "id": "df12f27e",
   "metadata": {},
   "outputs": [],
   "source": []
  },
  {
   "cell_type": "code",
   "execution_count": null,
   "id": "bdf61c80",
   "metadata": {},
   "outputs": [],
   "source": []
  },
  {
   "cell_type": "code",
   "execution_count": null,
   "id": "ee96cfaa",
   "metadata": {},
   "outputs": [],
   "source": []
  },
  {
   "cell_type": "code",
   "execution_count": null,
   "id": "6de52b24",
   "metadata": {},
   "outputs": [],
   "source": [
    "dff = pd.read_csv(fpath, index_col=0)\n",
    "d = dff.to_dict(\"split\")\n",
    "d = dict(zip(d[\"index\"], d[\"data\"]))\n",
    "d\n"
   ]
  },
  {
   "cell_type": "code",
   "execution_count": null,
   "id": "5242e483",
   "metadata": {},
   "outputs": [],
   "source": []
  },
  {
   "cell_type": "code",
   "execution_count": null,
   "id": "70105d3f",
   "metadata": {},
   "outputs": [],
   "source": [
    "dup_dict"
   ]
  },
  {
   "cell_type": "code",
   "execution_count": null,
   "id": "851445b0",
   "metadata": {},
   "outputs": [],
   "source": []
  },
  {
   "cell_type": "code",
   "execution_count": null,
   "id": "f4b8c08d",
   "metadata": {},
   "outputs": [],
   "source": []
  },
  {
   "cell_type": "code",
   "execution_count": null,
   "id": "82796105",
   "metadata": {},
   "outputs": [],
   "source": []
  },
  {
   "cell_type": "code",
   "execution_count": null,
   "id": "06b60d46",
   "metadata": {},
   "outputs": [],
   "source": []
  },
  {
   "cell_type": "code",
   "execution_count": null,
   "id": "9c41b2bf",
   "metadata": {},
   "outputs": [],
   "source": [
    "dup_dict = {}\n",
    "\n",
    "for col in df_acs.columns:\n",
    "    ser = df_acs\n",
    "    print(col)"
   ]
  },
  {
   "cell_type": "code",
   "execution_count": null,
   "id": "3d4c39f7",
   "metadata": {},
   "outputs": [],
   "source": []
  },
  {
   "cell_type": "code",
   "execution_count": null,
   "id": "ad63036d",
   "metadata": {},
   "outputs": [],
   "source": []
  },
  {
   "cell_type": "code",
   "execution_count": null,
   "id": "7e62c13c",
   "metadata": {},
   "outputs": [],
   "source": []
  },
  {
   "cell_type": "code",
   "execution_count": null,
   "id": "a8b02863",
   "metadata": {},
   "outputs": [],
   "source": []
  },
  {
   "cell_type": "code",
   "execution_count": null,
   "id": "11aa2c55",
   "metadata": {},
   "outputs": [],
   "source": []
  },
  {
   "cell_type": "code",
   "execution_count": null,
   "id": "e3d93026",
   "metadata": {},
   "outputs": [],
   "source": [
    "[x for x in df_acs.columns if 'POP' in x]"
   ]
  },
  {
   "cell_type": "code",
   "execution_count": null,
   "id": "84b0cd79",
   "metadata": {},
   "outputs": [],
   "source": [
    "df_acs\n",
    "# Transpose the DataFrame to make columns as rows\n",
    "dff = df_acs.transpose()\n",
    "\n",
    "# Find duplicate columns (excluding the first occurrence)\n",
    "duplicate_columns = dff.duplicated(keep='first')\n",
    "\n",
    "# Get the unique column names\n",
    "unique_columns = dff[~duplicate_columns].index\n",
    "\n",
    "# Transpose the DataFrame back and keep only the unique columns\n",
    "df_output = df_acs[unique_columns].copy()\n",
    "\n",
    "# Print the resulting DataFrame\n",
    "print(df_output)"
   ]
  },
  {
   "cell_type": "code",
   "execution_count": null,
   "id": "1e9e46cf",
   "metadata": {},
   "outputs": [],
   "source": [
    "df_acs.columns"
   ]
  },
  {
   "cell_type": "code",
   "execution_count": null,
   "id": "4da4d920",
   "metadata": {},
   "outputs": [],
   "source": [
    "## First, check for overlap of Fips codes between df_hub and df_nyt ...\n",
    "\n",
    "fipss_hub = df_hub.Fips.nunique() \n",
    "fipss_nyt = df_nyt.Fips.nunique()"
   ]
  },
  {
   "cell_type": "code",
   "execution_count": null,
   "id": "ea2a05c2",
   "metadata": {},
   "outputs": [],
   "source": [
    "fipss_hub, fipss_nyt"
   ]
  },
  {
   "cell_type": "code",
   "execution_count": null,
   "id": "5dee0a34",
   "metadata": {},
   "outputs": [],
   "source": [
    "import json\n",
    "\n",
    "with open('..raw_data/county_covariates.json') as f:\n",
    "    d = json.load(f)\n",
    "\n",
    "county_covs = []\n",
    "for entry in d:\n",
    "    county_covs.append(entry)\n",
    "\n",
    "df_pop = pd.DataFrame(columns=['Postal','Fips','Pop'])\n",
    "\n",
    "for idx in range(len(county_covs)):\n",
    "    pop = county_covs[idx]['population']['2019']\n",
    "    fips = county_covs[idx]['fips']\n",
    "    state = county_covs[idx]['state']\n",
    "    df_pop.loc[idx] = pd.Series({'Postal':state, 'Fips':str(fips), 'Pop':pop})\n",
    "    \n",
    "    \n",
    "state_fips = pd.read_csv('constants/state_fips.csv')\n",
    "\n",
    "df_pop = df_pop.merge(state_fips, on='Postal')\n",
    "df_pop.drop('FIPS',inplace=True,axis=1)\n",
    "df_pop"
   ]
  },
  {
   "cell_type": "code",
   "execution_count": null,
   "id": "12a0799d",
   "metadata": {},
   "outputs": [],
   "source": []
  }
 ],
 "metadata": {
  "kernelspec": {
   "display_name": "Python 3 (ipykernel)",
   "language": "python",
   "name": "python3"
  },
  "language_info": {
   "codemirror_mode": {
    "name": "ipython",
    "version": 3
   },
   "file_extension": ".py",
   "mimetype": "text/x-python",
   "name": "python",
   "nbconvert_exporter": "python",
   "pygments_lexer": "ipython3",
   "version": "3.10.9"
  }
 },
 "nbformat": 4,
 "nbformat_minor": 5
}
