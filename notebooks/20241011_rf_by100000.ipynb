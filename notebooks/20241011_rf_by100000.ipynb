{
 "cells": [
  {
   "cell_type": "code",
   "execution_count": null,
   "id": "ca4452e3",
   "metadata": {},
   "outputs": [],
   "source": [
    "%%capture\n",
    "%load_ext autoreload\n",
    "%autoreload 2\n",
    "from setup_nb_env import *\n",
    "\n",
    "from epsampling.utils import load_csv\n",
    "# pd.set_option('display.float_format', lambda x: '%.3f' % x)\n",
    "from epsampling.utils import drop_sers_with_nans\n",
    "from epsampling.utils import date_str_to_int\n",
    "\n",
    "DATA_DIR = '/work/users/k/4/k4thryn/Repos/EpSampling/data/'\n",
    "DT = datetime.today().strftime('%Y%m%d-%H%M%S')"
   ]
  },
  {
   "cell_type": "code",
   "execution_count": null,
   "id": "538fd39c",
   "metadata": {},
   "outputs": [],
   "source": [
    "timestamp = '20241009-144131'\n",
    "\n",
    "fpath = os.path.join(DATA_DIR,'processed', f'processed_naive_deaths_{timestamp}.csv')\n",
    "df_deaths = pd.read_csv(fpath)\n",
    "# display(df)\n",
    "\n",
    "## Drop rows with nans.\n",
    "df_deaths.dropna(inplace=True)\n",
    "# display(df)\n",
    "\n",
    "## Drop samples with negative inc deaths.\n",
    "df_deaths = df_deaths[df_deaths.True_inc_deaths >= 0]\n",
    "# display(df_deaths)\n",
    "\n",
    "# # # # # # # # # # # # # # # # # # # #\n",
    "# # # # # # # # # # # # # # # # # # # # \n",
    "\n",
    "from epsampling.utils import drop_duplicate_cols\n",
    "\n",
    "# timestamp = '20241009-143022' \n",
    "\n",
    "fpath = os.path.join(DATA_DIR,'processed',f'formatted_acs_results_normed_{timestamp}.csv')\n",
    "df_acs = pd.read_csv(fpath,index_col='Fips')\n",
    "\n",
    "# Remove duplicate columns\n",
    "df_acs = drop_duplicate_cols(df_acs)"
   ]
  },
  {
   "cell_type": "code",
   "execution_count": null,
   "id": "a7fe61cd",
   "metadata": {},
   "outputs": [],
   "source": [
    "df = df_deaths.merge(df_acs, on='Fips')\n",
    "display(df)"
   ]
  },
  {
   "cell_type": "code",
   "execution_count": null,
   "id": "d483a32e",
   "metadata": {},
   "outputs": [],
   "source": [
    "df['Target'] = df.apply(lambda x: x.True_inc_deaths / x.Pop * 100000, axis=1)\n",
    "df['Naive'] = df.apply(lambda x: x.Naive_inc_deaths / x.Pop * 100000, axis=1)\n",
    "df['State'] = df.apply(lambda x: x.Proj_inc_deaths / x.State_pop * 100000, axis=1)\n",
    "df['Cumtm1'] = df.apply(lambda x: x.Cum_deaths_tm1 / x.Pop * 100000, axis=1)"
   ]
  },
  {
   "cell_type": "code",
   "execution_count": null,
   "id": "17dac1e2",
   "metadata": {},
   "outputs": [],
   "source": [
    "df = (df - df.min()) / (df.max() - df.min())"
   ]
  },
  {
   "cell_type": "code",
   "execution_count": null,
   "id": "23d5349c",
   "metadata": {},
   "outputs": [],
   "source": [
    "df.columns[:15]"
   ]
  },
  {
   "cell_type": "code",
   "execution_count": null,
   "id": "d9543156",
   "metadata": {},
   "outputs": [],
   "source": [
    "df"
   ]
  },
  {
   "cell_type": "code",
   "execution_count": null,
   "id": "59bbd060",
   "metadata": {},
   "outputs": [],
   "source": [
    "def get_chunks(lst, n):\n",
    "    \"\"\"Return successive n-sized chunks from lst.\"\"\"\n",
    "    chunks = []\n",
    "    for i in range(0, len(lst), n):\n",
    "        chunks.append(lst[i:i + n])\n",
    "    return chunks"
   ]
  },
  {
   "cell_type": "code",
   "execution_count": null,
   "id": "288fd846",
   "metadata": {},
   "outputs": [],
   "source": [
    "chunks = get_chunks(list(df.Date.unique()), 4)\n",
    "\n",
    "# idc = [2,10,18]\n",
    "# idc = [10]\n",
    "\n",
    "# for idx in idc:\n",
    "    \n",
    "idx = 18 #10\n",
    "\n",
    "dates_test = chunks[idx]\n",
    "dates_train = [x for x in df.Date.unique() if x not in dates_test]\n",
    "\n",
    "df_train = df[df.Date.isin(dates_train)]\n",
    "df_test = df[df.Date.isin(dates_test)]\n",
    "\n",
    "feats = list(df_acs.columns) + ['State','Cumtm1','Naive',\n",
    "                               'State_pop','Ratio','Pop']\n",
    "print(feats)\n",
    "\n",
    "X_train = df_train[feats]\n",
    "X_test = df_test[feats]\n",
    "\n",
    "y_train = df_train['Target']\n",
    "y_test = df_test['Target']\n",
    "\n",
    "y_naive = df_test['Naive']"
   ]
  },
  {
   "cell_type": "code",
   "execution_count": null,
   "id": "b252969e",
   "metadata": {},
   "outputs": [],
   "source": [
    "X_train"
   ]
  },
  {
   "cell_type": "code",
   "execution_count": null,
   "id": "f462696c",
   "metadata": {},
   "outputs": [],
   "source": [
    "from sklearn.ensemble import RandomForestRegressor\n",
    "# train time for random split at 0.1 test_size? 2 min\n",
    "clf = RandomForestRegressor(random_state=666, max_depth=6)\n",
    "clf.fit(X_train, y_train)"
   ]
  },
  {
   "cell_type": "code",
   "execution_count": null,
   "id": "28474351",
   "metadata": {},
   "outputs": [],
   "source": [
    "from epsampling.utils import get_performance\n",
    "\n",
    "y_pred = clf.predict(X_test)\n",
    "\n",
    "model_names = ['Deaths_pred', 'Deaths_naive']\n",
    "model_preds = [y_pred, y_naive]\n",
    "\n",
    "metrics_dict = get_performance(model_names, model_preds, y_test, y_naive)\n",
    "metrics_dict"
   ]
  },
  {
   "cell_type": "raw",
   "id": "bb85acdd",
   "metadata": {},
   "source": [
    "10:06 \n",
    "13 mins"
   ]
  },
  {
   "cell_type": "raw",
   "id": "f9ed11a1",
   "metadata": {},
   "source": [
    "min-max normalization of everything\n",
    "\n",
    "{'Deaths_pred': {'MAE': 0.003998976739713239,\n",
    "  'MSE': 0.00011158522010094766,\n",
    "  'RMSE': 0.010563390558951594,\n",
    "  'r2': 0.013565975344652093,\n",
    "  'relMAE': 0.08290224995834859},\n",
    "  \n",
    " 'Deaths_naive': {'MAE': 0.1295292657911756,\n",
    "  'MSE': 0.02106260566845557,\n",
    "  'RMSE': 0.14512961678601502,\n",
    "  'r2': -185.19733742933863,\n",
    "  'relMAE': 1.0}}\n",
    "  \n",
    "  \n",
    "  \n",
    "  \n",
    "{'Deaths_pred': {'MAE': 4.818035544257456,\n",
    "  'MSE': 161.97554298395673,\n",
    "  'RMSE': 12.726961262766409,\n",
    "  'r2': 0.013568349281828929,\n",
    "  'relMAE': 2.0277204372763693},\n",
    "  \n",
    " 'Deaths_naive': {'MAE': 4.650093902653675,\n",
    "  'MSE': 166.89361440598498,\n",
    "  'RMSE': 12.91873114535576,\n",
    "  'r2': -0.01638272371233107,\n",
    "  'relMAE': 1.0}}"
   ]
  }
 ],
 "metadata": {
  "kernelspec": {
   "display_name": "Python 3 (ipykernel)",
   "language": "python",
   "name": "python3"
  },
  "language_info": {
   "codemirror_mode": {
    "name": "ipython",
    "version": 3
   },
   "file_extension": ".py",
   "mimetype": "text/x-python",
   "name": "python",
   "nbconvert_exporter": "python",
   "pygments_lexer": "ipython3",
   "version": "3.10.9"
  }
 },
 "nbformat": 4,
 "nbformat_minor": 5
}
