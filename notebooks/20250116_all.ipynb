{
 "cells": [
  {
   "cell_type": "code",
   "execution_count": 1,
   "id": "23582e91",
   "metadata": {},
   "outputs": [],
   "source": [
    "%%capture\n",
    "%load_ext autoreload\n",
    "%autoreload 2\n",
    "from setup_nb_env import *\n",
    "DATA_DIR = '/work/users/k/4/k4thryn/Repos/OLD_EpSampling_Nov2024/data/'\n",
    "\n",
    "from epsampling.modeling import *\n",
    "\n",
    "from IPython.display import Audio\n",
    "def allDone():\n",
    "    display(Audio(filename='../cat_meow2.wav', autoplay=True))\n",
    "\n",
    "import pandas as pd\n",
    "pd.set_option('display.max_rows', 1000)\n",
    "pd.set_option('max_colwidth', None)"
   ]
  },
  {
   "cell_type": "markdown",
   "id": "784f6929",
   "metadata": {},
   "source": [
    "### <font color=blue> Poisson-based General Linear Model\n",
    "- Poisson regression is often used for count or rate prediction. However, if the predictions are based in different contexts (e.g. timeframes, populations) then an offset is required to bring all predictions into the same prediction space. That is what we are doing here. \n",
    "    \n",
    "    <font color=blue>\n",
    "    \n",
    "### &nbsp; &nbsp; &nbsp; &nbsp; &nbsp; &nbsp; &nbsp; <font color=blue> $ log( \\mathbb{E}(y)) = b_0 + b_1 x + \\dots + b_n + log(P) $\n",
    "<!--     </font> -->\n",
    "<!--     <br> -->\n",
    "        \n",
    "&nbsp; &nbsp; &nbsp; &nbsp; &nbsp; &nbsp; &nbsp; where $b_1$ is state deaths and $P$ is the population of the county.\n",
    "    \n",
    "    \n",
    "\n",
    "    \n",
    "\n",
    "    "
   ]
  },
  {
   "cell_type": "markdown",
   "id": "ea2ce995",
   "metadata": {},
   "source": [
    "# <font color=blue> 1) Dataset"
   ]
  },
  {
   "cell_type": "code",
   "execution_count": 2,
   "id": "d972d6a9",
   "metadata": {},
   "outputs": [],
   "source": [
    "ts = '20241108-123515'\n",
    "DATA_DIR = '/work/users/k/4/k4thryn/Repos/OLD_EpSampling_Nov2024/data/'\n",
    "\n",
    "fpath = os.path.join(DATA_DIR,'processed',f'training_target_df_{ts}.csv')\n",
    "dff = pd.read_csv(fpath)\n",
    "\n",
    "pd.set_option('display.max_columns', None)\n",
    "\n",
    "d = {'Proj_state_inc_deaths':'PROJ state deaths',\n",
    "     'True_county_inc_deaths':'TRUE county deaths',\n",
    "     'Pop':'County population',\n",
    "     'Naive_proj_deaths':'Naive PROJ deaths',\n",
    "    }\n",
    "\n",
    "dff.rename(d,axis=1,inplace=True)\n",
    "\n",
    "Y_COL = 'TRUE county deaths'\n",
    "X_COLS = ['PROJ state deaths'] #,'County population']\n",
    "OFFSET_COL = 'County population'\n",
    "NAIVE_COL = 'Naive PROJ deaths'\n",
    "\n",
    "dff.dropna(inplace=True)\n",
    "df = dff[dff[Y_COL] >= 0]"
   ]
  },
  {
   "cell_type": "code",
   "execution_count": 3,
   "id": "773dd701",
   "metadata": {},
   "outputs": [
    {
     "data": {
      "text/html": [
       "<div>\n",
       "<style scoped>\n",
       "    .dataframe tbody tr th:only-of-type {\n",
       "        vertical-align: middle;\n",
       "    }\n",
       "\n",
       "    .dataframe tbody tr th {\n",
       "        vertical-align: top;\n",
       "    }\n",
       "\n",
       "    .dataframe thead th {\n",
       "        text-align: right;\n",
       "    }\n",
       "</style>\n",
       "<table border=\"1\" class=\"dataframe\">\n",
       "  <thead>\n",
       "    <tr style=\"text-align: right;\">\n",
       "      <th></th>\n",
       "      <th>Date</th>\n",
       "      <th>Fips</th>\n",
       "      <th>PROJ state deaths</th>\n",
       "      <th>TRUE county deaths</th>\n",
       "      <th>Naive PROJ deaths</th>\n",
       "      <th>County population</th>\n",
       "    </tr>\n",
       "  </thead>\n",
       "  <tbody>\n",
       "    <tr>\n",
       "      <th>11</th>\n",
       "      <td>20200905</td>\n",
       "      <td>37001</td>\n",
       "      <td>157.0</td>\n",
       "      <td>0.0</td>\n",
       "      <td>2.562167</td>\n",
       "      <td>169185</td>\n",
       "    </tr>\n",
       "    <tr>\n",
       "      <th>12</th>\n",
       "      <td>20200912</td>\n",
       "      <td>37001</td>\n",
       "      <td>176.0</td>\n",
       "      <td>2.0</td>\n",
       "      <td>2.872239</td>\n",
       "      <td>169185</td>\n",
       "    </tr>\n",
       "    <tr>\n",
       "      <th>13</th>\n",
       "      <td>20200919</td>\n",
       "      <td>37001</td>\n",
       "      <td>157.0</td>\n",
       "      <td>0.0</td>\n",
       "      <td>2.562167</td>\n",
       "      <td>169185</td>\n",
       "    </tr>\n",
       "    <tr>\n",
       "      <th>14</th>\n",
       "      <td>20200926</td>\n",
       "      <td>37001</td>\n",
       "      <td>171.0</td>\n",
       "      <td>6.0</td>\n",
       "      <td>2.790641</td>\n",
       "      <td>169185</td>\n",
       "    </tr>\n",
       "    <tr>\n",
       "      <th>15</th>\n",
       "      <td>20201003</td>\n",
       "      <td>37001</td>\n",
       "      <td>171.0</td>\n",
       "      <td>2.0</td>\n",
       "      <td>2.790641</td>\n",
       "      <td>169185</td>\n",
       "    </tr>\n",
       "    <tr>\n",
       "      <th>...</th>\n",
       "      <td>...</td>\n",
       "      <td>...</td>\n",
       "      <td>...</td>\n",
       "      <td>...</td>\n",
       "      <td>...</td>\n",
       "      <td>...</td>\n",
       "    </tr>\n",
       "    <tr>\n",
       "      <th>9895</th>\n",
       "      <td>20220409</td>\n",
       "      <td>37199</td>\n",
       "      <td>55.0</td>\n",
       "      <td>0.0</td>\n",
       "      <td>0.097389</td>\n",
       "      <td>18357</td>\n",
       "    </tr>\n",
       "    <tr>\n",
       "      <th>9896</th>\n",
       "      <td>20220416</td>\n",
       "      <td>37199</td>\n",
       "      <td>41.0</td>\n",
       "      <td>0.0</td>\n",
       "      <td>0.072599</td>\n",
       "      <td>18357</td>\n",
       "    </tr>\n",
       "    <tr>\n",
       "      <th>9897</th>\n",
       "      <td>20220423</td>\n",
       "      <td>37199</td>\n",
       "      <td>60.0</td>\n",
       "      <td>0.0</td>\n",
       "      <td>0.106243</td>\n",
       "      <td>18357</td>\n",
       "    </tr>\n",
       "    <tr>\n",
       "      <th>9898</th>\n",
       "      <td>20220430</td>\n",
       "      <td>37199</td>\n",
       "      <td>33.0</td>\n",
       "      <td>0.0</td>\n",
       "      <td>0.058433</td>\n",
       "      <td>18357</td>\n",
       "    </tr>\n",
       "    <tr>\n",
       "      <th>9899</th>\n",
       "      <td>20220507</td>\n",
       "      <td>37199</td>\n",
       "      <td>33.0</td>\n",
       "      <td>6.0</td>\n",
       "      <td>0.058433</td>\n",
       "      <td>18357</td>\n",
       "    </tr>\n",
       "  </tbody>\n",
       "</table>\n",
       "<p>8710 rows × 6 columns</p>\n",
       "</div>"
      ],
      "text/plain": [
       "          Date   Fips  PROJ state deaths  TRUE county deaths  \\\n",
       "11    20200905  37001              157.0                 0.0   \n",
       "12    20200912  37001              176.0                 2.0   \n",
       "13    20200919  37001              157.0                 0.0   \n",
       "14    20200926  37001              171.0                 6.0   \n",
       "15    20201003  37001              171.0                 2.0   \n",
       "...        ...    ...                ...                 ...   \n",
       "9895  20220409  37199               55.0                 0.0   \n",
       "9896  20220416  37199               41.0                 0.0   \n",
       "9897  20220423  37199               60.0                 0.0   \n",
       "9898  20220430  37199               33.0                 0.0   \n",
       "9899  20220507  37199               33.0                 6.0   \n",
       "\n",
       "      Naive PROJ deaths  County population  \n",
       "11             2.562167             169185  \n",
       "12             2.872239             169185  \n",
       "13             2.562167             169185  \n",
       "14             2.790641             169185  \n",
       "15             2.790641             169185  \n",
       "...                 ...                ...  \n",
       "9895           0.097389              18357  \n",
       "9896           0.072599              18357  \n",
       "9897           0.106243              18357  \n",
       "9898           0.058433              18357  \n",
       "9899           0.058433              18357  \n",
       "\n",
       "[8710 rows x 6 columns]"
      ]
     },
     "metadata": {},
     "output_type": "display_data"
    }
   ],
   "source": [
    "df = get_model_df(df, X_COLS, Y_COL, NAIVE_COL, OFFSET_COL)\n",
    "display(df)"
   ]
  },
  {
   "cell_type": "markdown",
   "id": "7825b5d3",
   "metadata": {},
   "source": [
    "# <font color=blue> 2) Training: County population + Predicted state deaths\n",
    "\n",
    "    \n",
    "<font color=blue> _Compare regression algorithms:_\n",
    "1. <font color=blue>  Linear \n",
    "1. <font color=blue>  Poisson \n",
    "1. <font color=blue>  Zero-inflated\n",
    "    \n",
    "This is our most simplistic model. We are predicting the number of county deaths given two covariates: 1) projected state deaths (from COVIDHub) and 2) county population. We will consider vanilla linear regression, poisson regression, and zero-inflated regression."
   ]
  },
  {
   "cell_type": "markdown",
   "id": "6fb03f3f",
   "metadata": {},
   "source": [
    "### <font color=blue> Model design\n",
    "- <font color=blue> **_Train-test split:_** Our training and test/evaluation set will be partitioned based on (2 month)-wise chunks. That is, we will evaluate our model on temporally consecutive targets over the course of 8 weeks, and we will train on the remaining weeks.\n",
    "    - <font color=black> **Train samps:** 7939\n",
    "    - <font color=black> **Test samps:** 771\n",
    "- <font color=blue> **_Cross validation protocol:_** We will train a model for each month, for a total of 10 models. From these, we can evaluate average performance for each regression algorithm.\n",
    "    "
   ]
  },
  {
   "cell_type": "code",
   "execution_count": 4,
   "id": "40a262cd",
   "metadata": {},
   "outputs": [],
   "source": [
    "from sklearn import linear_model\n",
    "from sklearn.model_selection import train_test_split\n",
    "from sklego.meta import ZeroInflatedRegressor as zir_model\n",
    "from sklearn.svm import SVC\n",
    "import statsmodels.api as sm\n",
    "\n",
    "def get_df_res(df_train, df_test, X_COLS, Y_COL, OFFSET_COL, PRED_COL, ALG, standardize=False):  \n",
    "    \n",
    "    y_train = df_train[Y_COL]\n",
    "        \n",
    "    if standardize==True:\n",
    "        standizer = StandardScaler()\n",
    "        X_train = standizer.fit_transform(df_train[X_COLS])\n",
    "        X_test = standizer.fit_transform(df_test[X_COLS])\n",
    "    else:\n",
    "        X_train = df_train[X_COLS]\n",
    "        X_test = df_test[X_COLS]\n",
    "        \n",
    "    df_pred = df_test.copy()\n",
    "    \n",
    "    if ALG=='Linear': \n",
    "        reg = lin_reg(X_train, y_train)\n",
    "        df_pred[PRED_COL] = reg.predict(X_test)\n",
    "\n",
    "    elif ALG=='Zero-Inflated':\n",
    "        reg = zir_reg(X_train, y_train)\n",
    "        df_pred[PRED_COL] = reg.predict(X_test)\n",
    "        \n",
    "    elif ALG=='Poisson':\n",
    "        reg = poisson_reg(df_train, df_test, X_COLS, Y_COL, OFFSET_COL)\n",
    "        pred = get_poisson_pred(reg, df_test, X_COLS, Y_COL, OFFSET_COL)\n",
    "        df_pred[PRED_COL] = pred\n",
    "            \n",
    "    df_pred['Algorithm'] = ALG\n",
    "\n",
    "    return df_pred\n"
   ]
  },
  {
   "cell_type": "code",
   "execution_count": 15,
   "id": "bbea8779",
   "metadata": {},
   "outputs": [],
   "source": [
    "import numpy as np\n",
    "import pandas as pd\n",
    "import statsmodels.api as sm\n",
    "import statsmodels.formula.api as smf\n",
    "\n",
    "from sklearn import linear_model\n",
    "from sklearn.model_selection import train_test_split\n",
    "from sklego.meta import ZeroInflatedRegressor as zir_model\n",
    "from sklearn.svm import SVC\n",
    "import statsmodels.api as sm\n",
    "\n",
    "def lin_reg(X_train, y_train):\n",
    "    reg = linear_model.LinearRegression().fit(X_train, y_train)\n",
    "    return reg\n",
    "\n",
    "def zir_reg(X_train, y_train):\n",
    "    reg = zir_model(\n",
    "        classifier=SVC(),\n",
    "        regressor=linear_model.LinearRegression()).fit(X_train, y_train) \n",
    "    return reg\n",
    "\n",
    "\n",
    "# # # # # # # # # # # # # # # # # # # # # # # # # # # # # # # # # # # # # # \n",
    "# # # # # # # # # # # # # # # # # # # # # # # # # # # # # # # # # # # # # # \n",
    "\n",
    "def poisson_reg(df_train, df_test, X_COLS, Y_COL, OFFSET_COL):\n",
    "    df_train['log_offset'] = np.log(df_train[OFFSET_COL])\n",
    "    df_train['x'] = np.log(df_train[X_COLS[0]])\n",
    "    df_train['y'] = df_train[Y_COL]\n",
    "    \n",
    "#     display(df_train[:1])\n",
    "    \n",
    "    form = f\"y ~ x\"\n",
    "    reg = smf.poisson(formula=form, \n",
    "                      data=df_train, \n",
    "                      offset=df_train[\"log_offset\"]\n",
    "                     ).fit()  \n",
    "    \n",
    "    return reg\n",
    "\n",
    "def get_poisson_pred(reg, df_test, X_COLS, Y_COL, OFFSET_COL):\n",
    "    df_test['log_offset'] = np.log(df_test[OFFSET_COL])\n",
    "    df_test['x'] = np.log(df_test[X_COLS[0]])\n",
    "    df_test['y'] = df_test[Y_COL] \n",
    "    pred = reg.predict(df_test)\n",
    "    return pred"
   ]
  },
  {
   "cell_type": "markdown",
   "id": "e5feacab",
   "metadata": {},
   "source": [
    "## Run models."
   ]
  },
  {
   "cell_type": "code",
   "execution_count": 19,
   "id": "a65f5e67",
   "metadata": {
    "scrolled": true
   },
   "outputs": [
    {
     "name": "stderr",
     "output_type": "stream",
     "text": [
      "100%|██████████| 11/11 [00:00<00:00, 176.47it/s]\n",
      "100%|██████████| 11/11 [00:00<00:00, 53.34it/s]\n"
     ]
    },
    {
     "name": "stdout",
     "output_type": "stream",
     "text": [
      "Optimization terminated successfully.\n",
      "         Current function value: 2.587296\n",
      "         Iterations 6\n",
      "Optimization terminated successfully.\n",
      "         Current function value: 2.566833\n",
      "         Iterations 6\n",
      "Optimization terminated successfully.\n",
      "         Current function value: 2.438298\n",
      "         Iterations 6\n",
      "Optimization terminated successfully.\n",
      "         Current function value: 2.600414\n",
      "         Iterations 6\n",
      "Optimization terminated successfully.\n",
      "         Current function value: 2.631105\n",
      "         Iterations 6\n",
      "Optimization terminated successfully.\n",
      "         Current function value: 2.665390\n",
      "         Iterations 6\n",
      "Optimization terminated successfully.\n",
      "         Current function value: 2.505867\n",
      "         Iterations 6\n",
      "Optimization terminated successfully.\n",
      "         Current function value: 2.547654\n",
      "         Iterations 6\n",
      "Optimization terminated successfully.\n",
      "         Current function value: 2.608708\n",
      "         Iterations 6\n",
      "Optimization terminated successfully.\n",
      "         Current function value: 2.530290\n",
      "         Iterations 6\n",
      "Optimization terminated successfully.\n",
      "         Current function value: 2.328577\n",
      "         Iterations 6\n"
     ]
    },
    {
     "name": "stderr",
     "output_type": "stream",
     "text": [
      "100%|██████████| 11/11 [01:16<00:00,  6.99s/it]\n"
     ]
    }
   ],
   "source": [
    "# %%capture\n",
    "res_dfs = []\n",
    "models = {}\n",
    "chunks = get_chunks(list(df.Date.unique()), num_membs=8)\n",
    "\n",
    "for ALG in ['Linear','Poisson', #]:\n",
    "    'Zero-Inflated']:\n",
    "# for ALG in ['Poisson']:\n",
    "    for i,test_chunk in tqdm(enumerate(chunks), total=len(chunks)):\n",
    "\n",
    "        df_train, df_test = get_date_chunked_splits(df, chunks, i)\n",
    "        \n",
    "        # # # # # # # # # # # # # # # #\n",
    "        df_test = df_train.copy()\n",
    "        # # # # # # # # # # # # # # # #\n",
    "        \n",
    "        df_test[f'Run'] = i\n",
    "        \n",
    "        PRED_COL = f'PRED county deaths {ALG}'    \n",
    "        df_res = get_df_res(df_train, df_test, X_COLS, \n",
    "                            Y_COL, OFFSET_COL, PRED_COL, ALG, standardize=False)\n",
    "\n",
    "#         if i==0: display(df_test.head(), df_res.head())\n",
    "\n",
    "        res_dfs.append(df_res)\n",
    "    \n",
    "df_full_res = pd.concat(res_dfs)\n"
   ]
  },
  {
   "cell_type": "code",
   "execution_count": 18,
   "id": "c9d2f631",
   "metadata": {},
   "outputs": [],
   "source": [
    "# Intercept   -14.123229\n",
    "# x             0.652590\n",
    "# with pd.option_context('display.precision', 3):\n",
    "#     display(df_full_res[:1])\n",
    "    \n",
    "# should be around 30 !!!"
   ]
  },
  {
   "cell_type": "markdown",
   "id": "0a24ed10",
   "metadata": {},
   "source": [
    "# <font color=blue> 3) Evaluation"
   ]
  },
  {
   "cell_type": "markdown",
   "id": "da5c811e",
   "metadata": {},
   "source": [
    "## <font color=blue> a. _Plots_"
   ]
  },
  {
   "cell_type": "code",
   "execution_count": 20,
   "id": "7fa6b1b8",
   "metadata": {},
   "outputs": [
    {
     "ename": "ValueError",
     "evalue": "cannot reindex on an axis with duplicate labels",
     "output_type": "error",
     "traceback": [
      "\u001b[0;31m---------------------------------------------------------------------------\u001b[0m",
      "\u001b[0;31mValueError\u001b[0m                                Traceback (most recent call last)",
      "Cell \u001b[0;32mIn[20], line 4\u001b[0m\n\u001b[1;32m      1\u001b[0m \u001b[38;5;28;01mimport\u001b[39;00m \u001b[38;5;21;01mseaborn\u001b[39;00m \u001b[38;5;28;01mas\u001b[39;00m \u001b[38;5;21;01msns\u001b[39;00m \n\u001b[1;32m      3\u001b[0m \u001b[38;5;28;01mfor\u001b[39;00m ALG \u001b[38;5;129;01min\u001b[39;00m [\u001b[38;5;124m'\u001b[39m\u001b[38;5;124mLinear\u001b[39m\u001b[38;5;124m'\u001b[39m,\u001b[38;5;124m'\u001b[39m\u001b[38;5;124mPoisson\u001b[39m\u001b[38;5;124m'\u001b[39m,\u001b[38;5;124m'\u001b[39m\u001b[38;5;124mZero-Inflated\u001b[39m\u001b[38;5;124m'\u001b[39m]:\n\u001b[0;32m----> 4\u001b[0m     \u001b[43msns\u001b[49m\u001b[38;5;241;43m.\u001b[39;49m\u001b[43mscatterplot\u001b[49m\u001b[43m(\u001b[49m\u001b[43mdata\u001b[49m\u001b[38;5;241;43m=\u001b[39;49m\u001b[43mdf_full_res\u001b[49m\u001b[43m,\u001b[49m\u001b[43m \u001b[49m\u001b[43my\u001b[49m\u001b[38;5;241;43m=\u001b[39;49m\u001b[38;5;124;43m\"\u001b[39;49m\u001b[38;5;124;43mTRUE county deaths\u001b[39;49m\u001b[38;5;124;43m\"\u001b[39;49m\u001b[43m,\u001b[49m\u001b[43m \u001b[49m\u001b[43mx\u001b[49m\u001b[38;5;241;43m=\u001b[39;49m\u001b[38;5;124;43mf\u001b[39;49m\u001b[38;5;124;43m\"\u001b[39;49m\u001b[38;5;124;43mPRED county deaths \u001b[39;49m\u001b[38;5;132;43;01m{\u001b[39;49;00m\u001b[43mALG\u001b[49m\u001b[38;5;132;43;01m}\u001b[39;49;00m\u001b[38;5;124;43m\"\u001b[39;49m\u001b[43m)\u001b[49m\n",
      "File \u001b[0;32m/nas/longleaf/rhel8/apps/anaconda/2023.03.ood/lib/python3.10/site-packages/seaborn/relational.py:636\u001b[0m, in \u001b[0;36mscatterplot\u001b[0;34m(data, x, y, hue, size, style, palette, hue_order, hue_norm, sizes, size_order, size_norm, markers, style_order, legend, ax, **kwargs)\u001b[0m\n\u001b[1;32m    633\u001b[0m color \u001b[38;5;241m=\u001b[39m kwargs\u001b[38;5;241m.\u001b[39mpop(\u001b[38;5;124m\"\u001b[39m\u001b[38;5;124mcolor\u001b[39m\u001b[38;5;124m\"\u001b[39m, \u001b[38;5;28;01mNone\u001b[39;00m)\n\u001b[1;32m    634\u001b[0m kwargs[\u001b[38;5;124m\"\u001b[39m\u001b[38;5;124mcolor\u001b[39m\u001b[38;5;124m\"\u001b[39m] \u001b[38;5;241m=\u001b[39m _default_color(ax\u001b[38;5;241m.\u001b[39mscatter, hue, color, kwargs)\n\u001b[0;32m--> 636\u001b[0m \u001b[43mp\u001b[49m\u001b[38;5;241;43m.\u001b[39;49m\u001b[43mplot\u001b[49m\u001b[43m(\u001b[49m\u001b[43max\u001b[49m\u001b[43m,\u001b[49m\u001b[43m \u001b[49m\u001b[43mkwargs\u001b[49m\u001b[43m)\u001b[49m\n\u001b[1;32m    638\u001b[0m \u001b[38;5;28;01mreturn\u001b[39;00m ax\n",
      "File \u001b[0;32m/nas/longleaf/rhel8/apps/anaconda/2023.03.ood/lib/python3.10/site-packages/seaborn/relational.py:404\u001b[0m, in \u001b[0;36m_ScatterPlotter.plot\u001b[0;34m(self, ax, kws)\u001b[0m\n\u001b[1;32m    400\u001b[0m \u001b[38;5;28;01mdef\u001b[39;00m \u001b[38;5;21mplot\u001b[39m(\u001b[38;5;28mself\u001b[39m, ax, kws):\n\u001b[1;32m    401\u001b[0m \n\u001b[1;32m    402\u001b[0m     \u001b[38;5;66;03m# --- Determine the visual attributes of the plot\u001b[39;00m\n\u001b[0;32m--> 404\u001b[0m     data \u001b[38;5;241m=\u001b[39m \u001b[38;5;28;43mself\u001b[39;49m\u001b[38;5;241;43m.\u001b[39;49m\u001b[43mcomp_data\u001b[49m\u001b[38;5;241m.\u001b[39mdropna()\n\u001b[1;32m    405\u001b[0m     \u001b[38;5;28;01mif\u001b[39;00m data\u001b[38;5;241m.\u001b[39mempty:\n\u001b[1;32m    406\u001b[0m         \u001b[38;5;28;01mreturn\u001b[39;00m\n",
      "File \u001b[0;32m/nas/longleaf/rhel8/apps/anaconda/2023.03.ood/lib/python3.10/site-packages/seaborn/_base.py:1007\u001b[0m, in \u001b[0;36mVectorPlotter.comp_data\u001b[0;34m(self)\u001b[0m\n\u001b[1;32m   1005\u001b[0m         \u001b[38;5;28;01melse\u001b[39;00m:\n\u001b[1;32m   1006\u001b[0m             comp_col \u001b[38;5;241m=\u001b[39m pd\u001b[38;5;241m.\u001b[39mSeries(dtype\u001b[38;5;241m=\u001b[39m\u001b[38;5;28mfloat\u001b[39m, name\u001b[38;5;241m=\u001b[39mvar)\n\u001b[0;32m-> 1007\u001b[0m         \u001b[43mcomp_data\u001b[49m\u001b[38;5;241;43m.\u001b[39;49m\u001b[43minsert\u001b[49m\u001b[43m(\u001b[49m\u001b[38;5;241;43m0\u001b[39;49m\u001b[43m,\u001b[49m\u001b[43m \u001b[49m\u001b[43mvar\u001b[49m\u001b[43m,\u001b[49m\u001b[43m \u001b[49m\u001b[43mcomp_col\u001b[49m\u001b[43m)\u001b[49m\n\u001b[1;32m   1009\u001b[0m     \u001b[38;5;28mself\u001b[39m\u001b[38;5;241m.\u001b[39m_comp_data \u001b[38;5;241m=\u001b[39m comp_data\n\u001b[1;32m   1011\u001b[0m \u001b[38;5;28;01mreturn\u001b[39;00m \u001b[38;5;28mself\u001b[39m\u001b[38;5;241m.\u001b[39m_comp_data\n",
      "File \u001b[0;32m~/.local/lib/python3.10/site-packages/pandas/core/frame.py:5171\u001b[0m, in \u001b[0;36mDataFrame.insert\u001b[0;34m(self, loc, column, value, allow_duplicates)\u001b[0m\n\u001b[1;32m   5168\u001b[0m \u001b[38;5;28;01melif\u001b[39;00m \u001b[38;5;28misinstance\u001b[39m(value, DataFrame):\n\u001b[1;32m   5169\u001b[0m     value \u001b[38;5;241m=\u001b[39m value\u001b[38;5;241m.\u001b[39miloc[:, \u001b[38;5;241m0\u001b[39m]\n\u001b[0;32m-> 5171\u001b[0m value, refs \u001b[38;5;241m=\u001b[39m \u001b[38;5;28;43mself\u001b[39;49m\u001b[38;5;241;43m.\u001b[39;49m\u001b[43m_sanitize_column\u001b[49m\u001b[43m(\u001b[49m\u001b[43mvalue\u001b[49m\u001b[43m)\u001b[49m\n\u001b[1;32m   5172\u001b[0m \u001b[38;5;28mself\u001b[39m\u001b[38;5;241m.\u001b[39m_mgr\u001b[38;5;241m.\u001b[39minsert(loc, column, value, refs\u001b[38;5;241m=\u001b[39mrefs)\n",
      "File \u001b[0;32m~/.local/lib/python3.10/site-packages/pandas/core/frame.py:5263\u001b[0m, in \u001b[0;36mDataFrame._sanitize_column\u001b[0;34m(self, value)\u001b[0m\n\u001b[1;32m   5261\u001b[0m     \u001b[38;5;28;01mif\u001b[39;00m \u001b[38;5;129;01mnot\u001b[39;00m \u001b[38;5;28misinstance\u001b[39m(value, Series):\n\u001b[1;32m   5262\u001b[0m         value \u001b[38;5;241m=\u001b[39m Series(value)\n\u001b[0;32m-> 5263\u001b[0m     \u001b[38;5;28;01mreturn\u001b[39;00m \u001b[43m_reindex_for_setitem\u001b[49m\u001b[43m(\u001b[49m\u001b[43mvalue\u001b[49m\u001b[43m,\u001b[49m\u001b[43m \u001b[49m\u001b[38;5;28;43mself\u001b[39;49m\u001b[38;5;241;43m.\u001b[39;49m\u001b[43mindex\u001b[49m\u001b[43m)\u001b[49m\n\u001b[1;32m   5265\u001b[0m \u001b[38;5;28;01mif\u001b[39;00m is_list_like(value):\n\u001b[1;32m   5266\u001b[0m     com\u001b[38;5;241m.\u001b[39mrequire_length_match(value, \u001b[38;5;28mself\u001b[39m\u001b[38;5;241m.\u001b[39mindex)\n",
      "File \u001b[0;32m~/.local/lib/python3.10/site-packages/pandas/core/frame.py:12692\u001b[0m, in \u001b[0;36m_reindex_for_setitem\u001b[0;34m(value, index)\u001b[0m\n\u001b[1;32m  12688\u001b[0m \u001b[38;5;28;01mexcept\u001b[39;00m \u001b[38;5;167;01mValueError\u001b[39;00m \u001b[38;5;28;01mas\u001b[39;00m err:\n\u001b[1;32m  12689\u001b[0m     \u001b[38;5;66;03m# raised in MultiIndex.from_tuples, see test_insert_error_msmgs\u001b[39;00m\n\u001b[1;32m  12690\u001b[0m     \u001b[38;5;28;01mif\u001b[39;00m \u001b[38;5;129;01mnot\u001b[39;00m value\u001b[38;5;241m.\u001b[39mindex\u001b[38;5;241m.\u001b[39mis_unique:\n\u001b[1;32m  12691\u001b[0m         \u001b[38;5;66;03m# duplicate axis\u001b[39;00m\n\u001b[0;32m> 12692\u001b[0m         \u001b[38;5;28;01mraise\u001b[39;00m err\n\u001b[1;32m  12694\u001b[0m     \u001b[38;5;28;01mraise\u001b[39;00m \u001b[38;5;167;01mTypeError\u001b[39;00m(\n\u001b[1;32m  12695\u001b[0m         \u001b[38;5;124m\"\u001b[39m\u001b[38;5;124mincompatible index of inserted column with frame index\u001b[39m\u001b[38;5;124m\"\u001b[39m\n\u001b[1;32m  12696\u001b[0m     ) \u001b[38;5;28;01mfrom\u001b[39;00m \u001b[38;5;21;01merr\u001b[39;00m\n\u001b[1;32m  12697\u001b[0m \u001b[38;5;28;01mreturn\u001b[39;00m reindexed_value, \u001b[38;5;28;01mNone\u001b[39;00m\n",
      "File \u001b[0;32m~/.local/lib/python3.10/site-packages/pandas/core/frame.py:12687\u001b[0m, in \u001b[0;36m_reindex_for_setitem\u001b[0;34m(value, index)\u001b[0m\n\u001b[1;32m  12685\u001b[0m \u001b[38;5;66;03m# GH#4107\u001b[39;00m\n\u001b[1;32m  12686\u001b[0m \u001b[38;5;28;01mtry\u001b[39;00m:\n\u001b[0;32m> 12687\u001b[0m     reindexed_value \u001b[38;5;241m=\u001b[39m \u001b[43mvalue\u001b[49m\u001b[38;5;241;43m.\u001b[39;49m\u001b[43mreindex\u001b[49m\u001b[43m(\u001b[49m\u001b[43mindex\u001b[49m\u001b[43m)\u001b[49m\u001b[38;5;241m.\u001b[39m_values\n\u001b[1;32m  12688\u001b[0m \u001b[38;5;28;01mexcept\u001b[39;00m \u001b[38;5;167;01mValueError\u001b[39;00m \u001b[38;5;28;01mas\u001b[39;00m err:\n\u001b[1;32m  12689\u001b[0m     \u001b[38;5;66;03m# raised in MultiIndex.from_tuples, see test_insert_error_msmgs\u001b[39;00m\n\u001b[1;32m  12690\u001b[0m     \u001b[38;5;28;01mif\u001b[39;00m \u001b[38;5;129;01mnot\u001b[39;00m value\u001b[38;5;241m.\u001b[39mindex\u001b[38;5;241m.\u001b[39mis_unique:\n\u001b[1;32m  12691\u001b[0m         \u001b[38;5;66;03m# duplicate axis\u001b[39;00m\n",
      "File \u001b[0;32m~/.local/lib/python3.10/site-packages/pandas/core/series.py:5153\u001b[0m, in \u001b[0;36mSeries.reindex\u001b[0;34m(self, index, axis, method, copy, level, fill_value, limit, tolerance)\u001b[0m\n\u001b[1;32m   5136\u001b[0m \u001b[38;5;129m@doc\u001b[39m(\n\u001b[1;32m   5137\u001b[0m     NDFrame\u001b[38;5;241m.\u001b[39mreindex,  \u001b[38;5;66;03m# type: ignore[has-type]\u001b[39;00m\n\u001b[1;32m   5138\u001b[0m     klass\u001b[38;5;241m=\u001b[39m_shared_doc_kwargs[\u001b[38;5;124m\"\u001b[39m\u001b[38;5;124mklass\u001b[39m\u001b[38;5;124m\"\u001b[39m],\n\u001b[0;32m   (...)\u001b[0m\n\u001b[1;32m   5151\u001b[0m     tolerance\u001b[38;5;241m=\u001b[39m\u001b[38;5;28;01mNone\u001b[39;00m,\n\u001b[1;32m   5152\u001b[0m ) \u001b[38;5;241m-\u001b[39m\u001b[38;5;241m>\u001b[39m Series:\n\u001b[0;32m-> 5153\u001b[0m     \u001b[38;5;28;01mreturn\u001b[39;00m \u001b[38;5;28;43msuper\u001b[39;49m\u001b[43m(\u001b[49m\u001b[43m)\u001b[49m\u001b[38;5;241;43m.\u001b[39;49m\u001b[43mreindex\u001b[49m\u001b[43m(\u001b[49m\n\u001b[1;32m   5154\u001b[0m \u001b[43m        \u001b[49m\u001b[43mindex\u001b[49m\u001b[38;5;241;43m=\u001b[39;49m\u001b[43mindex\u001b[49m\u001b[43m,\u001b[49m\n\u001b[1;32m   5155\u001b[0m \u001b[43m        \u001b[49m\u001b[43mmethod\u001b[49m\u001b[38;5;241;43m=\u001b[39;49m\u001b[43mmethod\u001b[49m\u001b[43m,\u001b[49m\n\u001b[1;32m   5156\u001b[0m \u001b[43m        \u001b[49m\u001b[43mcopy\u001b[49m\u001b[38;5;241;43m=\u001b[39;49m\u001b[43mcopy\u001b[49m\u001b[43m,\u001b[49m\n\u001b[1;32m   5157\u001b[0m \u001b[43m        \u001b[49m\u001b[43mlevel\u001b[49m\u001b[38;5;241;43m=\u001b[39;49m\u001b[43mlevel\u001b[49m\u001b[43m,\u001b[49m\n\u001b[1;32m   5158\u001b[0m \u001b[43m        \u001b[49m\u001b[43mfill_value\u001b[49m\u001b[38;5;241;43m=\u001b[39;49m\u001b[43mfill_value\u001b[49m\u001b[43m,\u001b[49m\n\u001b[1;32m   5159\u001b[0m \u001b[43m        \u001b[49m\u001b[43mlimit\u001b[49m\u001b[38;5;241;43m=\u001b[39;49m\u001b[43mlimit\u001b[49m\u001b[43m,\u001b[49m\n\u001b[1;32m   5160\u001b[0m \u001b[43m        \u001b[49m\u001b[43mtolerance\u001b[49m\u001b[38;5;241;43m=\u001b[39;49m\u001b[43mtolerance\u001b[49m\u001b[43m,\u001b[49m\n\u001b[1;32m   5161\u001b[0m \u001b[43m    \u001b[49m\u001b[43m)\u001b[49m\n",
      "File \u001b[0;32m~/.local/lib/python3.10/site-packages/pandas/core/generic.py:5610\u001b[0m, in \u001b[0;36mNDFrame.reindex\u001b[0;34m(self, labels, index, columns, axis, method, copy, level, fill_value, limit, tolerance)\u001b[0m\n\u001b[1;32m   5607\u001b[0m     \u001b[38;5;28;01mreturn\u001b[39;00m \u001b[38;5;28mself\u001b[39m\u001b[38;5;241m.\u001b[39m_reindex_multi(axes, copy, fill_value)\n\u001b[1;32m   5609\u001b[0m \u001b[38;5;66;03m# perform the reindex on the axes\u001b[39;00m\n\u001b[0;32m-> 5610\u001b[0m \u001b[38;5;28;01mreturn\u001b[39;00m \u001b[38;5;28;43mself\u001b[39;49m\u001b[38;5;241;43m.\u001b[39;49m\u001b[43m_reindex_axes\u001b[49m\u001b[43m(\u001b[49m\n\u001b[1;32m   5611\u001b[0m \u001b[43m    \u001b[49m\u001b[43maxes\u001b[49m\u001b[43m,\u001b[49m\u001b[43m \u001b[49m\u001b[43mlevel\u001b[49m\u001b[43m,\u001b[49m\u001b[43m \u001b[49m\u001b[43mlimit\u001b[49m\u001b[43m,\u001b[49m\u001b[43m \u001b[49m\u001b[43mtolerance\u001b[49m\u001b[43m,\u001b[49m\u001b[43m \u001b[49m\u001b[43mmethod\u001b[49m\u001b[43m,\u001b[49m\u001b[43m \u001b[49m\u001b[43mfill_value\u001b[49m\u001b[43m,\u001b[49m\u001b[43m \u001b[49m\u001b[43mcopy\u001b[49m\n\u001b[1;32m   5612\u001b[0m \u001b[43m\u001b[49m\u001b[43m)\u001b[49m\u001b[38;5;241m.\u001b[39m__finalize__(\u001b[38;5;28mself\u001b[39m, method\u001b[38;5;241m=\u001b[39m\u001b[38;5;124m\"\u001b[39m\u001b[38;5;124mreindex\u001b[39m\u001b[38;5;124m\"\u001b[39m)\n",
      "File \u001b[0;32m~/.local/lib/python3.10/site-packages/pandas/core/generic.py:5633\u001b[0m, in \u001b[0;36mNDFrame._reindex_axes\u001b[0;34m(self, axes, level, limit, tolerance, method, fill_value, copy)\u001b[0m\n\u001b[1;32m   5630\u001b[0m     \u001b[38;5;28;01mcontinue\u001b[39;00m\n\u001b[1;32m   5632\u001b[0m ax \u001b[38;5;241m=\u001b[39m \u001b[38;5;28mself\u001b[39m\u001b[38;5;241m.\u001b[39m_get_axis(a)\n\u001b[0;32m-> 5633\u001b[0m new_index, indexer \u001b[38;5;241m=\u001b[39m \u001b[43max\u001b[49m\u001b[38;5;241;43m.\u001b[39;49m\u001b[43mreindex\u001b[49m\u001b[43m(\u001b[49m\n\u001b[1;32m   5634\u001b[0m \u001b[43m    \u001b[49m\u001b[43mlabels\u001b[49m\u001b[43m,\u001b[49m\u001b[43m \u001b[49m\u001b[43mlevel\u001b[49m\u001b[38;5;241;43m=\u001b[39;49m\u001b[43mlevel\u001b[49m\u001b[43m,\u001b[49m\u001b[43m \u001b[49m\u001b[43mlimit\u001b[49m\u001b[38;5;241;43m=\u001b[39;49m\u001b[43mlimit\u001b[49m\u001b[43m,\u001b[49m\u001b[43m \u001b[49m\u001b[43mtolerance\u001b[49m\u001b[38;5;241;43m=\u001b[39;49m\u001b[43mtolerance\u001b[49m\u001b[43m,\u001b[49m\u001b[43m \u001b[49m\u001b[43mmethod\u001b[49m\u001b[38;5;241;43m=\u001b[39;49m\u001b[43mmethod\u001b[49m\n\u001b[1;32m   5635\u001b[0m \u001b[43m\u001b[49m\u001b[43m)\u001b[49m\n\u001b[1;32m   5637\u001b[0m axis \u001b[38;5;241m=\u001b[39m \u001b[38;5;28mself\u001b[39m\u001b[38;5;241m.\u001b[39m_get_axis_number(a)\n\u001b[1;32m   5638\u001b[0m obj \u001b[38;5;241m=\u001b[39m obj\u001b[38;5;241m.\u001b[39m_reindex_with_indexers(\n\u001b[1;32m   5639\u001b[0m     {axis: [new_index, indexer]},\n\u001b[1;32m   5640\u001b[0m     fill_value\u001b[38;5;241m=\u001b[39mfill_value,\n\u001b[1;32m   5641\u001b[0m     copy\u001b[38;5;241m=\u001b[39mcopy,\n\u001b[1;32m   5642\u001b[0m     allow_dups\u001b[38;5;241m=\u001b[39m\u001b[38;5;28;01mFalse\u001b[39;00m,\n\u001b[1;32m   5643\u001b[0m )\n",
      "File \u001b[0;32m~/.local/lib/python3.10/site-packages/pandas/core/indexes/base.py:4429\u001b[0m, in \u001b[0;36mIndex.reindex\u001b[0;34m(self, target, method, level, limit, tolerance)\u001b[0m\n\u001b[1;32m   4426\u001b[0m     \u001b[38;5;28;01mraise\u001b[39;00m \u001b[38;5;167;01mValueError\u001b[39;00m(\u001b[38;5;124m\"\u001b[39m\u001b[38;5;124mcannot handle a non-unique multi-index!\u001b[39m\u001b[38;5;124m\"\u001b[39m)\n\u001b[1;32m   4427\u001b[0m \u001b[38;5;28;01melif\u001b[39;00m \u001b[38;5;129;01mnot\u001b[39;00m \u001b[38;5;28mself\u001b[39m\u001b[38;5;241m.\u001b[39mis_unique:\n\u001b[1;32m   4428\u001b[0m     \u001b[38;5;66;03m# GH#42568\u001b[39;00m\n\u001b[0;32m-> 4429\u001b[0m     \u001b[38;5;28;01mraise\u001b[39;00m \u001b[38;5;167;01mValueError\u001b[39;00m(\u001b[38;5;124m\"\u001b[39m\u001b[38;5;124mcannot reindex on an axis with duplicate labels\u001b[39m\u001b[38;5;124m\"\u001b[39m)\n\u001b[1;32m   4430\u001b[0m \u001b[38;5;28;01melse\u001b[39;00m:\n\u001b[1;32m   4431\u001b[0m     indexer, _ \u001b[38;5;241m=\u001b[39m \u001b[38;5;28mself\u001b[39m\u001b[38;5;241m.\u001b[39mget_indexer_non_unique(target)\n",
      "\u001b[0;31mValueError\u001b[0m: cannot reindex on an axis with duplicate labels"
     ]
    },
    {
     "data": {
      "image/png": "[encoded data removed]",
      "text/plain": [
       "<Figure size 640x480 with 1 Axes>"
      ]
     },
     "metadata": {},
     "output_type": "display_data"
    }
   ],
   "source": [
    "import seaborn as sns \n",
    "\n",
    "for ALG in ['Linear','Poisson','Zero-Inflated']:\n",
    "    sns.scatterplot(data=df_full_res, y=\"TRUE county deaths\", x=f\"PRED county deaths {ALG}\")"
   ]
  },
  {
   "cell_type": "code",
   "execution_count": 9,
   "id": "521fb0f5",
   "metadata": {},
   "outputs": [],
   "source": [
    "# df_full_res['PRED county deaths'].describe()"
   ]
  },
  {
   "cell_type": "code",
   "execution_count": 10,
   "id": "fa47b530",
   "metadata": {
    "scrolled": false
   },
   "outputs": [
    {
     "data": {
      "image/png": "[encoded data removed]",
      "text/plain": [
       "<Figure size 640x320 with 1 Axes>"
      ]
     },
     "metadata": {},
     "output_type": "display_data"
    },
    {
     "data": {
      "image/png": "[encoded data removed]",
      "text/plain": [
       "<Figure size 640x320 with 1 Axes>"
      ]
     },
     "metadata": {},
     "output_type": "display_data"
    }
   ],
   "source": [
    "import matplotlib.pyplot as plt\n",
    "import seaborn as sns\n",
    "sns.set(font_scale=1, style='ticks', palette='muted') \n",
    "DPI = 80\n",
    "FIGSIZE = (8,4)\n",
    "\n",
    "plt.figure(figsize=FIGSIZE)\n",
    "sns.histplot(df_full_res['TRUE county deaths'].values, bins=40, kde=True, element='step')\n",
    "sns.despine()\n",
    "plt.xlim((-10, 90))\n",
    "plt.xlabel('True county deaths')\n",
    "plt.gcf().set_dpi(DPI)\n",
    "plt.show()\n",
    "\n",
    "plt.figure(figsize=FIGSIZE)\n",
    "sns.histplot(df_full_res['PRED county deaths'].values, bins=40, kde=True, element='step')\n",
    "sns.despine()\n",
    "plt.xlim((-10, 90))\n",
    "plt.xlabel('Predicted county deaths')\n",
    "plt.gcf().set_dpi(DPI)\n",
    "plt.show()\n",
    "\n",
    "# df_full_res['log_res'] = df_full_res['PRED county deaths'].apply(lambda x: np.log(x))\n",
    "\n",
    "# plt.figure(figsize=FIGSIZE)\n",
    "# sns.histplot(df_full_res['log_res'].values, bins=40, kde=True, element='step')\n",
    "# sns.despine()\n",
    "# plt.xlim((-20, 90))\n",
    "# plt.xlabel('log( Predicted county deaths )')\n",
    "# plt.gcf().set_dpi(DPI)\n",
    "# plt.show()"
   ]
  },
  {
   "cell_type": "markdown",
   "id": "f62b3377",
   "metadata": {},
   "source": [
    "## <font color=blue> b. _Metrics_ \n",
    "Average across cross-validation splits."
   ]
  },
  {
   "cell_type": "code",
   "execution_count": 11,
   "id": "de71b65b",
   "metadata": {
    "scrolled": false
   },
   "outputs": [
    {
     "name": "stdout",
     "output_type": "stream",
     "text": [
      "\n",
      "* MedAE *\n",
      "== Poisson ==\n",
      " Mean: 1.0\n",
      " Median: 1.0\n",
      "\n",
      "* R-squared *\n",
      "== Poisson ==\n",
      " Mean: -0.262\n",
      " Median: -0.259\n",
      "\n",
      "* relMAE *\n",
      "== Poisson ==\n",
      " Mean: 1.234\n",
      " Median: 1.238\n"
     ]
    }
   ],
   "source": [
    "metric_sers = []\n",
    "\n",
    "for alg in df_full_res.Algorithm.unique():\n",
    "    for run in df_full_res.Run.unique():\n",
    "        subdf = df_full_res[(df_full_res['Run']==run) & (df_full_res['Algorithm']==alg)]\n",
    "        ser = get_metrics_ser(subdf, \n",
    "                              target_col=Y_COL,\n",
    "                              pred_col=PRED_COL,\n",
    "                              alg_col=alg,\n",
    "                              naive_col=NAIVE_COL)\n",
    "\n",
    "        metric_sers.append(ser)\n",
    "    \n",
    "df_run = pd.DataFrame(metric_sers)\n",
    "\n",
    "# # # # # # # # # # # # # # # # # # # # # # # # #\n",
    "# # # # # # # # # # # # # # # # # # # # # # # # #\n",
    "\n",
    "df_melt = pd.melt(df_run, id_vars=['Algorithm'], \n",
    "                  value_vars=['MAE', 'MedAE', 'R-squared','MSE','relMAE'], \n",
    "                  var_name='Metric', value_name='Score')\n",
    "\n",
    "import matplotlib.pyplot as plt\n",
    "import seaborn as sns\n",
    "sns.set(font_scale=1, style='whitegrid', palette='pastel') \n",
    "DPI = 70\n",
    "\n",
    "# for metric in  ['MedAE', 'R-squared', 'relMAE']:\n",
    "#     df_plot = df_melt[df_melt.Metric==metric]\n",
    "#     sns.boxplot(df_plot, x='Algorithm',y='Score')   \n",
    "#     plt.title(f'{metric}')\n",
    "#     plt.xticks(rotation=45,ha='right')\n",
    "#     plt.gcf().set_dpi(DPI)\n",
    "#     plt.show()\n",
    "\n",
    "for metric in  ['MedAE', 'R-squared', 'relMAE']:\n",
    "    print(f'\\n* {metric} *')\n",
    "    for alg in df_full_res.Algorithm.unique():\n",
    "        dff_melt = df_melt[(df_melt['Metric']==metric) & (df_melt['Algorithm']==alg)]\n",
    "        print(f'== {alg} ==')\n",
    "        print(f' Mean: {round(dff_melt.Score.mean(),3)}\\n Median: {round(dff_melt.Score.median(),3)}')"
   ]
  },
  {
   "cell_type": "code",
   "execution_count": 12,
   "id": "75818a82",
   "metadata": {},
   "outputs": [],
   "source": [
    "# import matplotlib.pyplot as plt\n",
    "# import seaborn as sns\n",
    "# sns.set(font_scale=1, style='ticks', palette='bright') \n",
    "\n",
    "# figsize = (8,6)\n",
    "# alpha = 0.1\n",
    "# sizes = 2\n",
    "# linewidth = 0\n",
    "\n",
    "# DPI = 80\n",
    "# FIGSIZE = (6,6)\n",
    "\n",
    "# # df = df_pred\n",
    "\n",
    "# plt.figure(figsize=FIGSIZE)\n",
    "\n",
    "# sns.scatterplot(data=df_full_res, x=Y_COL, y=PRED_COL, alpha=alpha, sizes=sizes, linewidth=linewidth, hue='Algorithm')\n",
    "# # sns.scatterplot(data=df_full_res, x=Y_COL, y=PRED_COL, alpha=alpha, sizes=sizes, linewidth=linewidth)\n",
    "# # sns.scatterplot(data=df_full_res, x=Y_COL, y=PRED_COL, alpha=alpha, sizes=sizes, linewidth=linewidth)\n",
    "\n",
    "# sns.despine()\n",
    "# plt.xlim((-10, 90))\n",
    "# plt.gcf().set_dpi(DPI)\n",
    "# plt.show()\n",
    "\n",
    "\n",
    "# plt.show()"
   ]
  },
  {
   "cell_type": "code",
   "execution_count": 13,
   "id": "b821ab0f",
   "metadata": {},
   "outputs": [
    {
     "data": {
      "text/html": [
       "\n",
       "                <audio  controls=\"controls\" autoplay=\"autoplay\">\n",
       "                    <source src=\"data:audio/x-wav;base64,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\" type=\"audio/x-wav\" />\n",
       "                    Your browser does not support the audio element.\n",
       "                </audio>\n",
       "              "
      ],
      "text/plain": [
       "<IPython.lib.display.Audio object>"
      ]
     },
     "metadata": {},
     "output_type": "display_data"
    }
   ],
   "source": [
    "allDone()"
   ]
  }
 ],
 "metadata": {
  "kernelspec": {
   "display_name": "Python 3 (ipykernel)",
   "language": "python",
   "name": "python3"
  },
  "language_info": {
   "codemirror_mode": {
    "name": "ipython",
    "version": 3
   },
   "file_extension": ".py",
   "mimetype": "text/x-python",
   "name": "python",
   "nbconvert_exporter": "python",
   "pygments_lexer": "ipython3",
   "version": "3.10.9"
  }
 },
 "nbformat": 4,
 "nbformat_minor": 5
}
