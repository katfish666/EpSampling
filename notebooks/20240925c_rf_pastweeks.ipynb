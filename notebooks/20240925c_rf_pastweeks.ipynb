{
 "cells": [
  {
   "cell_type": "code",
   "execution_count": 10,
   "metadata": {},
   "outputs": [],
   "source": [
    "%%capture\n",
    "%load_ext autoreload\n",
    "%autoreload 2\n",
    "from setup_nb_env import *\n",
    "\n",
    "from epsampling.utils import load_csv\n",
    "\n",
    "# pd.set_option('display.float_format', lambda x: '%.3f' % x)\n",
    "\n",
    "data_dir = '/work/users/k/4/k4thryn/Repos/EpSampling/data/'"
   ]
  },
  {
   "cell_type": "code",
   "execution_count": 11,
   "metadata": {},
   "outputs": [],
   "source": [
    "from epsampling.utils import load_csv\n",
    "\n",
    "data_dir = '/work/users/k/4/k4thryn/Repos/EpSampling/data/'\n",
    "# timestamp = '20240925-112125'\n",
    "\n",
    "# 20240925-132841\n",
    "df_deaths,_ = load_csv('df_deaths_pastweeks', data_dir=f'{data_dir}cached/', timestamp='20240925-132841')\n",
    "\n",
    "## Use acs feats that have alrdy been filtered by correlation ...\n",
    "# df_acs,_ = load_csv('df_acs', data_dir=f'{data_dir}cached/', timestamp=timestamp)\n",
    "df_acs,_ = load_csv('df_acs_filt', data_dir=f'{data_dir}cached/', timestamp='20240925-113849')\n",
    "# df_acs.set_index('Fips',inplace=True,drop=True)\n",
    "\n",
    "# display(df_deaths, df_acs)"
   ]
  },
  {
   "cell_type": "code",
   "execution_count": 12,
   "metadata": {},
   "outputs": [],
   "source": [
    "## Get rid of bad dates.\n",
    "# df_deaths = df_deaths.replace({np.nan: -1})\n",
    "df_deaths.dropna(inplace=True)"
   ]
  },
  {
   "cell_type": "code",
   "execution_count": 13,
   "metadata": {},
   "outputs": [],
   "source": [
    "df = df_deaths.merge(df_acs,on='Fips')\n",
    "# df.State_fips = df.State_fips.astype(str)\n",
    "# df.Fips = df.Fips.astype(str)\n",
    "# df.dtypes"
   ]
  },
  {
   "cell_type": "code",
   "execution_count": 14,
   "metadata": {},
   "outputs": [
    {
     "data": {
      "text/plain": [
       "99"
      ]
     },
     "execution_count": 14,
     "metadata": {},
     "output_type": "execute_result"
    }
   ],
   "source": [
    "dates = sorted(df.Date.unique())\n",
    "len(dates)"
   ]
  },
  {
   "cell_type": "code",
   "execution_count": null,
   "metadata": {},
   "outputs": [],
   "source": []
  },
  {
   "cell_type": "code",
   "execution_count": null,
   "metadata": {},
   "outputs": [],
   "source": []
  },
  {
   "cell_type": "code",
   "execution_count": null,
   "metadata": {},
   "outputs": [],
   "source": []
  },
  {
   "cell_type": "code",
   "execution_count": 18,
   "metadata": {},
   "outputs": [
    {
     "name": "stdout",
     "output_type": "stream",
     "text": [
      "291683 15645\n"
     ]
    }
   ],
   "source": [
    "# # # # # # # # # # # # \n",
    "test_size = 0.05\n",
    "# # # # # # # # # # # # \n",
    "\n",
    "# # # # # # # # # # # # # # # # # # # # # # # #\n",
    "# # # # # Choose split  # # # # # # # # # # # #\n",
    "# # # # # # # # # # # # # # # # # # # # # # # #\n",
    "\n",
    "## Date split (extrapolate)\n",
    "dates = sorted(df.Date.unique())\n",
    "train_size = 1.0 - test_size\n",
    "lim = int(len(dates) * train_size)\n",
    "dates_train = dates[:lim]\n",
    "dates_test = dates[lim:]\n",
    "df_train = df[df.Date.isin(dates_train)]\n",
    "df_test = df[df.Date.isin(dates_test)]\n",
    "\n",
    "## Random split\n",
    "# from sklearn.model_selection import train_test_split\n",
    "# df_train, df_test = train_test_split(df, test_size=test_size, random_state=666)\n",
    "\n",
    "# # # # # # # # # # # # # # # # # # # # # # # #\n",
    "# # # # # # # # # # # # # # # # # # # # # # # #\n",
    "# # # # # # # # # # # # # # # # # # # # # # # #\n",
    "\n",
    "# death_covs = ['COVIDhubEns_state_deaths', 'Pop', 'Pop_ratio', 'Naive_county_deaths', 'Timestring']\n",
    "\n",
    "death_covs = ['State_fips', 'Fips', \n",
    "              'COVIDhubEns_state_deaths', 'Pop', 'Pop_ratio', \n",
    "       'Naive_county_deaths', 'Timestring', 'Weeks_ago_4', 'Weeks_ago_5',\n",
    "       'Weeks_ago_6', 'Weeks_ago_7', 'Weeks_ago_8']\n",
    "feats = death_covs + df_acs.columns.values.tolist()[1:]\n",
    "\n",
    "X_train = df_train[feats]\n",
    "X_test = df_test[feats]\n",
    "\n",
    "y_train = df_train['True_county_deaths']\n",
    "y_test = df_test['True_county_deaths']\n",
    "y_naive = df_test['Naive_county_deaths']\n",
    "\n",
    "print(len(X_train), len(X_test))"
   ]
  },
  {
   "cell_type": "code",
   "execution_count": 19,
   "metadata": {},
   "outputs": [
    {
     "data": {
      "text/html": [
       "<style>#sk-container-id-1 {color: black;background-color: white;}#sk-container-id-1 pre{padding: 0;}#sk-container-id-1 div.sk-toggleable {background-color: white;}#sk-container-id-1 label.sk-toggleable__label {cursor: pointer;display: block;width: 100%;margin-bottom: 0;padding: 0.3em;box-sizing: border-box;text-align: center;}#sk-container-id-1 label.sk-toggleable__label-arrow:before {content: \"▸\";float: left;margin-right: 0.25em;color: #696969;}#sk-container-id-1 label.sk-toggleable__label-arrow:hover:before {color: black;}#sk-container-id-1 div.sk-estimator:hover label.sk-toggleable__label-arrow:before {color: black;}#sk-container-id-1 div.sk-toggleable__content {max-height: 0;max-width: 0;overflow: hidden;text-align: left;background-color: #f0f8ff;}#sk-container-id-1 div.sk-toggleable__content pre {margin: 0.2em;color: black;border-radius: 0.25em;background-color: #f0f8ff;}#sk-container-id-1 input.sk-toggleable__control:checked~div.sk-toggleable__content {max-height: 200px;max-width: 100%;overflow: auto;}#sk-container-id-1 input.sk-toggleable__control:checked~label.sk-toggleable__label-arrow:before {content: \"▾\";}#sk-container-id-1 div.sk-estimator input.sk-toggleable__control:checked~label.sk-toggleable__label {background-color: #d4ebff;}#sk-container-id-1 div.sk-label input.sk-toggleable__control:checked~label.sk-toggleable__label {background-color: #d4ebff;}#sk-container-id-1 input.sk-hidden--visually {border: 0;clip: rect(1px 1px 1px 1px);clip: rect(1px, 1px, 1px, 1px);height: 1px;margin: -1px;overflow: hidden;padding: 0;position: absolute;width: 1px;}#sk-container-id-1 div.sk-estimator {font-family: monospace;background-color: #f0f8ff;border: 1px dotted black;border-radius: 0.25em;box-sizing: border-box;margin-bottom: 0.5em;}#sk-container-id-1 div.sk-estimator:hover {background-color: #d4ebff;}#sk-container-id-1 div.sk-parallel-item::after {content: \"\";width: 100%;border-bottom: 1px solid gray;flex-grow: 1;}#sk-container-id-1 div.sk-label:hover label.sk-toggleable__label {background-color: #d4ebff;}#sk-container-id-1 div.sk-serial::before {content: \"\";position: absolute;border-left: 1px solid gray;box-sizing: border-box;top: 0;bottom: 0;left: 50%;z-index: 0;}#sk-container-id-1 div.sk-serial {display: flex;flex-direction: column;align-items: center;background-color: white;padding-right: 0.2em;padding-left: 0.2em;position: relative;}#sk-container-id-1 div.sk-item {position: relative;z-index: 1;}#sk-container-id-1 div.sk-parallel {display: flex;align-items: stretch;justify-content: center;background-color: white;position: relative;}#sk-container-id-1 div.sk-item::before, #sk-container-id-1 div.sk-parallel-item::before {content: \"\";position: absolute;border-left: 1px solid gray;box-sizing: border-box;top: 0;bottom: 0;left: 50%;z-index: -1;}#sk-container-id-1 div.sk-parallel-item {display: flex;flex-direction: column;z-index: 1;position: relative;background-color: white;}#sk-container-id-1 div.sk-parallel-item:first-child::after {align-self: flex-end;width: 50%;}#sk-container-id-1 div.sk-parallel-item:last-child::after {align-self: flex-start;width: 50%;}#sk-container-id-1 div.sk-parallel-item:only-child::after {width: 0;}#sk-container-id-1 div.sk-dashed-wrapped {border: 1px dashed gray;margin: 0 0.4em 0.5em 0.4em;box-sizing: border-box;padding-bottom: 0.4em;background-color: white;}#sk-container-id-1 div.sk-label label {font-family: monospace;font-weight: bold;display: inline-block;line-height: 1.2em;}#sk-container-id-1 div.sk-label-container {text-align: center;}#sk-container-id-1 div.sk-container {/* jupyter's `normalize.less` sets `[hidden] { display: none; }` but bootstrap.min.css set `[hidden] { display: none !important; }` so we also need the `!important` here to be able to override the default hidden behavior on the sphinx rendered scikit-learn.org. See: https://github.com/scikit-learn/scikit-learn/issues/21755 */display: inline-block !important;position: relative;}#sk-container-id-1 div.sk-text-repr-fallback {display: none;}</style><div id=\"sk-container-id-1\" class=\"sk-top-container\"><div class=\"sk-text-repr-fallback\"><pre>RandomForestRegressor(max_depth=6, random_state=666)</pre><b>In a Jupyter environment, please rerun this cell to show the HTML representation or trust the notebook. <br />On GitHub, the HTML representation is unable to render, please try loading this page with nbviewer.org.</b></div><div class=\"sk-container\" hidden><div class=\"sk-item\"><div class=\"sk-estimator sk-toggleable\"><input class=\"sk-toggleable__control sk-hidden--visually\" id=\"sk-estimator-id-1\" type=\"checkbox\" checked><label for=\"sk-estimator-id-1\" class=\"sk-toggleable__label sk-toggleable__label-arrow\">RandomForestRegressor</label><div class=\"sk-toggleable__content\"><pre>RandomForestRegressor(max_depth=6, random_state=666)</pre></div></div></div></div></div>"
      ],
      "text/plain": [
       "RandomForestRegressor(max_depth=6, random_state=666)"
      ]
     },
     "execution_count": 19,
     "metadata": {},
     "output_type": "execute_result"
    }
   ],
   "source": [
    "from sklearn.ensemble import RandomForestRegressor\n",
    "# train time for random split at 0.1 test_size? 2 min\n",
    "clf = RandomForestRegressor(random_state=666, max_depth=6)\n",
    "clf.fit(X_train, y_train)"
   ]
  },
  {
   "cell_type": "code",
   "execution_count": 20,
   "metadata": {},
   "outputs": [
    {
     "data": {
      "text/plain": [
       "{'Deaths_pred': {'MAE': 16.49091376565517,\n",
       "  'MSE': 3262.1729600849417,\n",
       "  'r2': 0.9964522685299836,\n",
       "  'relMAE': 2.6897388332171364},\n",
       " 'Deaths_naive': {'MAE': 76.79841473195529,\n",
       "  'MSE': 66177.0495098121,\n",
       "  'r2': 0.9280300572619902,\n",
       "  'relMAE': 1.0}}"
      ]
     },
     "execution_count": 20,
     "metadata": {},
     "output_type": "execute_result"
    }
   ],
   "source": [
    "from epsampling.utils import get_performance\n",
    "\n",
    "y_pred = clf.predict(X_test)\n",
    "\n",
    "model_names = ['Deaths_pred', 'Deaths_naive']\n",
    "model_preds = [y_pred, y_naive]\n",
    "\n",
    "metrics_dict = get_performance(model_names, model_preds, y_test, y_naive)\n",
    "metrics_dict"
   ]
  },
  {
   "cell_type": "markdown",
   "metadata": {},
   "source": [
    "{\n",
    "'Time_split': \n",
    " {'MAE': 16.49091376565517,\n",
    "  'MSE': 3262.1729600849417,\n",
    "  'r2': 0.9964522685299836,\n",
    "  'relMAE': 2.6897388332171364},\n",
    "\n",
    "'Random_split':\n",
    " {'MAE': 10.500567348407527,\n",
    "  'MSE': 1197.426512426188,\n",
    "  'r2': 0.9970360255035902,\n",
    "  'relMAE': 2.654721662037693},\n",
    "\n",
    "'Deaths_naive': \n",
    " {'MAE': 50.15511940054299,\n",
    "  'MSE': 37201.74637541338,\n",
    "  'r2': 0.9180466593308316,\n",
    "  'relMAE': 1.0}\n",
    "}"
   ]
  },
  {
   "cell_type": "markdown",
   "metadata": {},
   "source": []
  }
 ],
 "metadata": {
  "kernelspec": {
   "display_name": "Python 3 (ipykernel)",
   "language": "python",
   "name": "python3"
  },
  "language_info": {
   "codemirror_mode": {
    "name": "ipython",
    "version": 3
   },
   "file_extension": ".py",
   "mimetype": "text/x-python",
   "name": "python",
   "nbconvert_exporter": "python",
   "pygments_lexer": "ipython3",
   "version": "3.10.9"
  }
 },
 "nbformat": 4,
 "nbformat_minor": 2
}
