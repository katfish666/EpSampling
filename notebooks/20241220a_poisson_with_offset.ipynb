{
 "cells": [
  {
   "cell_type": "code",
   "execution_count": 1,
   "id": "23582e91",
   "metadata": {},
   "outputs": [],
   "source": [
    "%%capture\n",
    "%load_ext autoreload\n",
    "%autoreload 2\n",
    "from setup_nb_env import *\n",
    "DATA_DIR = '/work/users/k/4/k4thryn/Repos/OLD_EpSampling_Nov2024/data/'\n",
    "\n",
    "from epsampling.modeling import *\n",
    "\n",
    "from IPython.display import Audio\n",
    "def allDone():\n",
    "    display(Audio(filename='../cat_meow2.wav', autoplay=True))\n",
    "\n",
    "import pandas as pd\n",
    "pd.set_option('display.max_rows', 1000)\n",
    "pd.set_option('max_colwidth', None)"
   ]
  },
  {
   "cell_type": "raw",
   "id": "86ddb176",
   "metadata": {},
   "source": [
    "Justin notes:\n",
    "- For poisson regression ...\n",
    "    need to fedd in the population as an OFFSET (??). sometimes an offset is already log'd. if it is not, \n",
    "    i will have to log the number myself. \n",
    "    ... \"you need to put an offset of the log population\"\n",
    "- Need to show that this simple model is able to do better than naive on the TRAINING set. if it's not able to, then we know our model specification is wrong ... \n",
    "\n",
    "\n",
    "-  **_Train-test split:_** Our training and test/evaluation set will be partitioned based on (2 month)-wise chunks. That is, we will evaluate our model on temporally consecutive targets over the course of 8 weeks, and we will train on the remaining weeks.\n",
    "    - <font color=black> **Train samps:** 7939\n",
    "    - <font color=black> **Test samps:** 771\n",
    "- <font color=blue> **_Cross validation protocol:_** We will train a model for each month, for a total of 10 models. From these, we can evaluate average performance for each regression algorithm."
   ]
  },
  {
   "cell_type": "markdown",
   "id": "784f6929",
   "metadata": {},
   "source": [
    "### <font color=blue> Poisson-based General Linear Model\n",
    "- Poisson regression is often used for count or rate prediction. However, if the predictions are based in different contexts (e.g. timeframes, populations) then an offset is required to bring all predictions into the same prediction space. That is what we are doing here. \n",
    "    \n",
    "    <font color=blue>\n",
    "    \n",
    "### &nbsp; &nbsp; &nbsp; &nbsp; &nbsp; &nbsp; &nbsp; <font color=blue> $ log( \\mathbb{E}(y)) = b_0 + b_1 x + \\dots + b_n + log(P) $\n",
    "<!--     </font> -->\n",
    "<!--     <br> -->\n",
    "        \n",
    "&nbsp; &nbsp; &nbsp; &nbsp; &nbsp; &nbsp; &nbsp; where $b_1$ is state deaths and $P$ is the population of the county.\n",
    "    \n",
    "    \n",
    "\n",
    "    \n",
    "\n",
    "    "
   ]
  },
  {
   "cell_type": "markdown",
   "id": "ea2ce995",
   "metadata": {},
   "source": [
    "# <font color=blue> 1) Dataset"
   ]
  },
  {
   "cell_type": "code",
   "execution_count": 2,
   "id": "d972d6a9",
   "metadata": {},
   "outputs": [],
   "source": [
    "ts = '20241108-123515'\n",
    "DATA_DIR = '/work/users/k/4/k4thryn/Repos/OLD_EpSampling_Nov2024/data/'\n",
    "\n",
    "fpath = os.path.join(DATA_DIR,'processed',f'training_target_df_{ts}.csv')\n",
    "dff = pd.read_csv(fpath)\n",
    "\n",
    "pd.set_option('display.max_columns', None)\n",
    "\n",
    "d = {'Proj_state_inc_deaths':'PROJ state deaths',\n",
    "     'True_county_inc_deaths':'TRUE county deaths',\n",
    "     'Pop':'County population',\n",
    "     'Naive_proj_deaths':'Naive PROJ deaths',\n",
    "    }\n",
    "\n",
    "dff.rename(d,axis=1,inplace=True)\n",
    "\n",
    "Y_COL = 'TRUE county deaths'\n",
    "X_COLS = ['PROJ state deaths'] #,'County population']\n",
    "OFFSET_COL = 'County population'\n",
    "NAIVE_COL = 'Naive PROJ deaths'\n",
    "\n",
    "dff.dropna(inplace=True)\n",
    "df = dff[dff[Y_COL] >= 0]"
   ]
  },
  {
   "cell_type": "code",
   "execution_count": 3,
   "id": "773dd701",
   "metadata": {},
   "outputs": [
    {
     "data": {
      "text/html": [
       "<div>\n",
       "<style scoped>\n",
       "    .dataframe tbody tr th:only-of-type {\n",
       "        vertical-align: middle;\n",
       "    }\n",
       "\n",
       "    .dataframe tbody tr th {\n",
       "        vertical-align: top;\n",
       "    }\n",
       "\n",
       "    .dataframe thead th {\n",
       "        text-align: right;\n",
       "    }\n",
       "</style>\n",
       "<table border=\"1\" class=\"dataframe\">\n",
       "  <thead>\n",
       "    <tr style=\"text-align: right;\">\n",
       "      <th></th>\n",
       "      <th>Date</th>\n",
       "      <th>Fips</th>\n",
       "      <th>PROJ state deaths</th>\n",
       "      <th>TRUE county deaths</th>\n",
       "      <th>Naive PROJ deaths</th>\n",
       "      <th>County population</th>\n",
       "    </tr>\n",
       "  </thead>\n",
       "  <tbody>\n",
       "    <tr>\n",
       "      <th>11</th>\n",
       "      <td>20200905</td>\n",
       "      <td>37001</td>\n",
       "      <td>157.0</td>\n",
       "      <td>0.0</td>\n",
       "      <td>2.562167</td>\n",
       "      <td>169185</td>\n",
       "    </tr>\n",
       "    <tr>\n",
       "      <th>12</th>\n",
       "      <td>20200912</td>\n",
       "      <td>37001</td>\n",
       "      <td>176.0</td>\n",
       "      <td>2.0</td>\n",
       "      <td>2.872239</td>\n",
       "      <td>169185</td>\n",
       "    </tr>\n",
       "    <tr>\n",
       "      <th>13</th>\n",
       "      <td>20200919</td>\n",
       "      <td>37001</td>\n",
       "      <td>157.0</td>\n",
       "      <td>0.0</td>\n",
       "      <td>2.562167</td>\n",
       "      <td>169185</td>\n",
       "    </tr>\n",
       "    <tr>\n",
       "      <th>14</th>\n",
       "      <td>20200926</td>\n",
       "      <td>37001</td>\n",
       "      <td>171.0</td>\n",
       "      <td>6.0</td>\n",
       "      <td>2.790641</td>\n",
       "      <td>169185</td>\n",
       "    </tr>\n",
       "    <tr>\n",
       "      <th>15</th>\n",
       "      <td>20201003</td>\n",
       "      <td>37001</td>\n",
       "      <td>171.0</td>\n",
       "      <td>2.0</td>\n",
       "      <td>2.790641</td>\n",
       "      <td>169185</td>\n",
       "    </tr>\n",
       "    <tr>\n",
       "      <th>...</th>\n",
       "      <td>...</td>\n",
       "      <td>...</td>\n",
       "      <td>...</td>\n",
       "      <td>...</td>\n",
       "      <td>...</td>\n",
       "      <td>...</td>\n",
       "    </tr>\n",
       "    <tr>\n",
       "      <th>9895</th>\n",
       "      <td>20220409</td>\n",
       "      <td>37199</td>\n",
       "      <td>55.0</td>\n",
       "      <td>0.0</td>\n",
       "      <td>0.097389</td>\n",
       "      <td>18357</td>\n",
       "    </tr>\n",
       "    <tr>\n",
       "      <th>9896</th>\n",
       "      <td>20220416</td>\n",
       "      <td>37199</td>\n",
       "      <td>41.0</td>\n",
       "      <td>0.0</td>\n",
       "      <td>0.072599</td>\n",
       "      <td>18357</td>\n",
       "    </tr>\n",
       "    <tr>\n",
       "      <th>9897</th>\n",
       "      <td>20220423</td>\n",
       "      <td>37199</td>\n",
       "      <td>60.0</td>\n",
       "      <td>0.0</td>\n",
       "      <td>0.106243</td>\n",
       "      <td>18357</td>\n",
       "    </tr>\n",
       "    <tr>\n",
       "      <th>9898</th>\n",
       "      <td>20220430</td>\n",
       "      <td>37199</td>\n",
       "      <td>33.0</td>\n",
       "      <td>0.0</td>\n",
       "      <td>0.058433</td>\n",
       "      <td>18357</td>\n",
       "    </tr>\n",
       "    <tr>\n",
       "      <th>9899</th>\n",
       "      <td>20220507</td>\n",
       "      <td>37199</td>\n",
       "      <td>33.0</td>\n",
       "      <td>6.0</td>\n",
       "      <td>0.058433</td>\n",
       "      <td>18357</td>\n",
       "    </tr>\n",
       "  </tbody>\n",
       "</table>\n",
       "<p>8710 rows × 6 columns</p>\n",
       "</div>"
      ],
      "text/plain": [
       "          Date   Fips  PROJ state deaths  TRUE county deaths  \\\n",
       "11    20200905  37001              157.0                 0.0   \n",
       "12    20200912  37001              176.0                 2.0   \n",
       "13    20200919  37001              157.0                 0.0   \n",
       "14    20200926  37001              171.0                 6.0   \n",
       "15    20201003  37001              171.0                 2.0   \n",
       "...        ...    ...                ...                 ...   \n",
       "9895  20220409  37199               55.0                 0.0   \n",
       "9896  20220416  37199               41.0                 0.0   \n",
       "9897  20220423  37199               60.0                 0.0   \n",
       "9898  20220430  37199               33.0                 0.0   \n",
       "9899  20220507  37199               33.0                 6.0   \n",
       "\n",
       "      Naive PROJ deaths  County population  \n",
       "11             2.562167             169185  \n",
       "12             2.872239             169185  \n",
       "13             2.562167             169185  \n",
       "14             2.790641             169185  \n",
       "15             2.790641             169185  \n",
       "...                 ...                ...  \n",
       "9895           0.097389              18357  \n",
       "9896           0.072599              18357  \n",
       "9897           0.106243              18357  \n",
       "9898           0.058433              18357  \n",
       "9899           0.058433              18357  \n",
       "\n",
       "[8710 rows x 6 columns]"
      ]
     },
     "metadata": {},
     "output_type": "display_data"
    }
   ],
   "source": [
    "df = get_model_df(df, X_COLS, Y_COL, NAIVE_COL, OFFSET_COL)\n",
    "display(df)"
   ]
  },
  {
   "cell_type": "code",
   "execution_count": 4,
   "id": "2cd4105f",
   "metadata": {},
   "outputs": [],
   "source": [
    "# df[Y_COL] = df[Y_COL].apply(lambda x: np.log(x+1))\n",
    "# df[NAIVE_COL] = df[NAIVE_COL].apply(lambda x: np.log(x+1))\n",
    "# display(df)"
   ]
  },
  {
   "cell_type": "raw",
   "id": "255ef3d7",
   "metadata": {},
   "source": [
    "# freq_weights is now supported on GLM Poisson, but unfortunately not on sm.Poisson\n",
    "# To use it, pass freq_weights when creating the GLM:\n",
    "\n",
    "# import statsmodels.api as sm\n",
    "# import statsmodels.formula.api as smf\n",
    "\n",
    "# formula = \"goals ~ att + def + home - 1\"\n",
    "# smf.glm(formula, df, family=sm.families.Poisson(), freq_weights=df['freq_weight']).fit()"
   ]
  },
  {
   "cell_type": "raw",
   "id": "beed6315",
   "metadata": {},
   "source": [
    "import matplotlib.pyplot as plt\n",
    "import seaborn as sns\n",
    "sns.set(font_scale=1, style='ticks', palette='muted') \n",
    "DPI = 80\n",
    "FIGSIZE = (8,4)\n",
    "\n",
    "plt.figure(figsize=FIGSIZE)\n",
    "sns.histplot(df[Y_COL].values, bins=40, kde=True, element='step')\n",
    "sns.despine()\n",
    "plt.xlim((-20, 90))\n",
    "plt.gcf().set_dpi(DPI)\n",
    "plt.show()\n",
    "\n",
    "print(f\"Are all targets non-negative? {(df[Y_COL].min() >= 0)}\")"
   ]
  },
  {
   "cell_type": "markdown",
   "id": "7825b5d3",
   "metadata": {},
   "source": [
    "# <font color=blue> 2) Training: County population + Predicted state deaths\n",
    "\n",
    "    \n",
    "<font color=blue> _Compare regression algorithms:_\n",
    "1. <font color=blue>  Linear \n",
    "1. <font color=blue>  Poisson \n",
    "1. <font color=blue>  Zero-inflated\n",
    "    \n",
    "This is our most simplistic model. We are predicting the number of county deaths given two covariates: 1) projected state deaths (from COVIDHub) and 2) county population. We will consider vanilla linear regression, poisson regression, and zero-inflated regression."
   ]
  },
  {
   "cell_type": "markdown",
   "id": "6fb03f3f",
   "metadata": {},
   "source": [
    "### <font color=blue> Model design\n",
    "- <font color=blue> **_Train-test split:_** Our training and test/evaluation set will be partitioned based on (2 month)-wise chunks. That is, we will evaluate our model on temporally consecutive targets over the course of 8 weeks, and we will train on the remaining weeks.\n",
    "    - <font color=black> **Train samps:** 7939\n",
    "    - <font color=black> **Test samps:** 771\n",
    "- <font color=blue> **_Cross validation protocol:_** We will train a model for each month, for a total of 10 models. From these, we can evaluate average performance for each regression algorithm.\n",
    "    "
   ]
  },
  {
   "cell_type": "raw",
   "id": "891040ea",
   "metadata": {},
   "source": [
    "import numpy as np\n",
    "import pandas as pd\n",
    "import statsmodels.api as sm\n",
    "import statsmodels.formula.api as smf\n",
    "# Example dataset\n",
    "data = {\n",
    "    \"count\": [10, 25, 35, 50, 65],\n",
    "    \"exposure\": [1000, 2000, 3000, 4000, 5000],  # Population sizes\n",
    "    \"feature\": [1, 2, 3, 4, 5]\n",
    "}\n",
    "df = pd.DataFrame(data)\n",
    "# Log-transform the exposure to use it as an offset\n",
    "df['log_exposure'] = np.log(df['exposure'])\n",
    "# Fit the Poisson regression model with an offset\n",
    "model = smf.poisson(formula=\"count ~ feature\", data=df, offset=df[\"log_exposure\"])\n",
    "result = model.fit()\n",
    "# Summary of the model\n",
    "print(result.summary())\n",
    "# Predict values\n",
    "df['predicted_count'] = result.predict(df)\n",
    "print(df[['count', 'predicted_count']])"
   ]
  },
  {
   "cell_type": "raw",
   "id": "f1e4c0b9",
   "metadata": {},
   "source": [
    "def poisson_reg(df_train, df_test, X_COLS, Y_COL, OFFSET_COL):\n",
    "    \n",
    "    df_train['log_offset'] = np.log(df_train[OFFSET_COL])\n",
    "    df_train['x'] = df_train[X_COLS[0]]\n",
    "    df_train['y'] = df_train[Y_COL]\n",
    "    \n",
    "#     form = f\"{Y_COL} ~ {X_COLS[0]}\"\n",
    "    form = f\"y ~ x\"\n",
    "    print(form)\n",
    "\n",
    "    reg = smf.poisson(formula=form, data=df_train, \n",
    "                      offset=df_train[\"log_offset\"], maxiter=20).fit()  \n",
    "    \n",
    "#     reg = smf.poisson(formula=f\"{Y_COL} ~ {X_COLS[0]}\", \n",
    "#                       data=df_train, offset=df_train[\"log_offset\"]).fit\n",
    "#     reg = sm.GLM(y_train, (sm.add_constant(offset)), \n",
    "#                  family = sm.families.Poisson()).fit()\n",
    "    return reg"
   ]
  },
  {
   "cell_type": "code",
   "execution_count": 5,
   "id": "40a262cd",
   "metadata": {},
   "outputs": [],
   "source": [
    "from sklearn import linear_model\n",
    "from sklearn.model_selection import train_test_split\n",
    "from sklego.meta import ZeroInflatedRegressor as zir_model\n",
    "from sklearn.svm import SVC\n",
    "import statsmodels.api as sm\n",
    "\n",
    "def get_df_res(df_train, df_test, X_COLS, Y_COL, OFFSET_COL, PRED_COL, ALG, standardize=False):  \n",
    "    \n",
    "    y_train = df_train[Y_COL]\n",
    "        \n",
    "    if standardize==True:\n",
    "        standizer = StandardScaler()\n",
    "        X_train = standizer.fit_transform(df_train[X_COLS])\n",
    "        X_test = standizer.fit_transform(df_test[X_COLS])\n",
    "    else:\n",
    "        X_train = df_train[X_COLS]\n",
    "        X_test = df_test[X_COLS]\n",
    "        \n",
    "    df_pred = df_test.copy()\n",
    "    \n",
    "    if ALG=='Linear': \n",
    "        reg = lin_reg(X_train, y_train)\n",
    "        df_pred[PRED_COL] = reg.predict(X_test)\n",
    "\n",
    "    elif ALG=='Zero-Inflated':\n",
    "        reg = zir_reg(X_train, y_train)\n",
    "        df_pred[PRED_COL] = reg.predict(X_test)\n",
    "        \n",
    "    elif ALG=='Poisson':\n",
    "        reg = poisson_reg(df_train, df_test, X_COLS, Y_COL, OFFSET_COL)\n",
    "        pred = get_poisson_pred(reg, df_test, X_COLS, Y_COL, OFFSET_COL)\n",
    "        df_pred[PRED_COL] = pred\n",
    "            \n",
    "    df_pred['Algorithm'] = ALG\n",
    "    \n",
    "\n",
    "    return df_pred\n"
   ]
  },
  {
   "cell_type": "code",
   "execution_count": 45,
   "id": "bbea8779",
   "metadata": {},
   "outputs": [],
   "source": [
    "import numpy as np\n",
    "import pandas as pd\n",
    "import statsmodels.api as sm\n",
    "import statsmodels.formula.api as smf\n",
    "\n",
    "from sklearn import linear_model\n",
    "from sklearn.model_selection import train_test_split\n",
    "from sklego.meta import ZeroInflatedRegressor as zir_model\n",
    "from sklearn.svm import SVC\n",
    "import statsmodels.api as sm\n",
    "\n",
    "def lin_reg(X_train, y_train):\n",
    "    reg = linear_model.LinearRegression().fit(X_train, y_train)\n",
    "    return reg\n",
    "\n",
    "def zir_reg(X_train, y_train):\n",
    "    reg = zir_model(\n",
    "        classifier=SVC(),\n",
    "        regressor=linear_model.LinearRegression()).fit(X_train, y_train) \n",
    "    return reg\n",
    "\n",
    "\n",
    "# # # # # # # # # # # # # # # # # # # # # # # # # # # # # # # # # # # # # # \n",
    "# # # # # # # # # # # # # # # # # # # # # # # # # # # # # # # # # # # # # # \n",
    "\n",
    "def poisson_reg(df_train, df_test, X_COLS, Y_COL, OFFSET_COL):\n",
    "    \n",
    "    df_train['log_offset'] = np.log(df_train[OFFSET_COL])\n",
    "    df_train['x'] = np.log(df_train[X_COLS[0]])\n",
    "    df_train['y'] = df_train[Y_COL]\n",
    "    \n",
    "    \n",
    "    display(df_train[:1])\n",
    "    \n",
    "#     form = f\"{Y_COL} ~ {X_COLS[0]}\"\n",
    "    form = f\"y ~ x\"\n",
    "    print(form)\n",
    "\n",
    "    reg = smf.poisson(formula=form, data=df_train, \n",
    "                      offset=df_train[\"log_offset\"]).fit()  \n",
    "    \n",
    "#     reg = smf.poisson(formula=f\"{Y_COL} ~ {X_COLS[0]}\", \n",
    "#                       data=df_train, offset=df_train[\"log_offset\"]).fit\n",
    "#     reg = sm.GLM(y_train, (sm.add_constant(offset)), \n",
    "#                  family = sm.families.Poisson()).fit()\n",
    "\n",
    "    print(reg.params)\n",
    "    return reg\n",
    "\n",
    "# # # # # # # # # # # # # # # # # # # # # # # # # # # # # # # # # # # # # # \n",
    "# # # # # # # # # # # # # # # # # # # # # # # # # # # # # # # # # # # # # # \n",
    "\n",
    "\n",
    "def get_poisson_pred(reg, df_test, X_COLS, Y_COL, OFFSET_COL):\n",
    "    \n",
    "    df_test['log_offset'] = np.log(df_test[OFFSET_COL])\n",
    "    df_test['x'] = np.log(df_test[X_COLS[0]])\n",
    "    df_test['y'] = df_test[Y_COL] \n",
    "        \n",
    "    pred = reg.predict(df_test)\n",
    "    return pred"
   ]
  },
  {
   "cell_type": "markdown",
   "id": "e5feacab",
   "metadata": {},
   "source": [
    "## Run models."
   ]
  },
  {
   "cell_type": "code",
   "execution_count": 46,
   "id": "a65f5e67",
   "metadata": {
    "scrolled": true
   },
   "outputs": [
    {
     "name": "stderr",
     "output_type": "stream",
     "text": [
      "\r",
      "  0%|          | 0/11 [00:00<?, ?it/s]"
     ]
    },
    {
     "data": {
      "text/html": [
       "<div>\n",
       "<style scoped>\n",
       "    .dataframe tbody tr th:only-of-type {\n",
       "        vertical-align: middle;\n",
       "    }\n",
       "\n",
       "    .dataframe tbody tr th {\n",
       "        vertical-align: top;\n",
       "    }\n",
       "\n",
       "    .dataframe thead th {\n",
       "        text-align: right;\n",
       "    }\n",
       "</style>\n",
       "<table border=\"1\" class=\"dataframe\">\n",
       "  <thead>\n",
       "    <tr style=\"text-align: right;\">\n",
       "      <th></th>\n",
       "      <th>Date</th>\n",
       "      <th>Fips</th>\n",
       "      <th>PROJ state deaths</th>\n",
       "      <th>TRUE county deaths</th>\n",
       "      <th>Naive PROJ deaths</th>\n",
       "      <th>County population</th>\n",
       "      <th>log_offset</th>\n",
       "      <th>x</th>\n",
       "      <th>y</th>\n",
       "    </tr>\n",
       "  </thead>\n",
       "  <tbody>\n",
       "    <tr>\n",
       "      <th>19</th>\n",
       "      <td>20201031</td>\n",
       "      <td>37001</td>\n",
       "      <td>198.0</td>\n",
       "      <td>16.0</td>\n",
       "      <td>3.231268</td>\n",
       "      <td>169185</td>\n",
       "      <td>12.038748</td>\n",
       "      <td>5.288267</td>\n",
       "      <td>16.0</td>\n",
       "    </tr>\n",
       "  </tbody>\n",
       "</table>\n",
       "</div>"
      ],
      "text/plain": [
       "        Date   Fips  PROJ state deaths  TRUE county deaths  Naive PROJ deaths  \\\n",
       "19  20201031  37001              198.0                16.0           3.231268   \n",
       "\n",
       "    County population  log_offset         x     y  \n",
       "19             169185   12.038748  5.288267  16.0  "
      ]
     },
     "metadata": {},
     "output_type": "display_data"
    },
    {
     "name": "stdout",
     "output_type": "stream",
     "text": [
      "y ~ x\n",
      "Optimization terminated successfully.\n",
      "         Current function value: 2.587296\n",
      "         Iterations 6\n",
      "Intercept   -14.123229\n",
      "x             0.652590\n",
      "dtype: float64\n"
     ]
    },
    {
     "data": {
      "text/html": [
       "<div>\n",
       "<style scoped>\n",
       "    .dataframe tbody tr th:only-of-type {\n",
       "        vertical-align: middle;\n",
       "    }\n",
       "\n",
       "    .dataframe tbody tr th {\n",
       "        vertical-align: top;\n",
       "    }\n",
       "\n",
       "    .dataframe thead th {\n",
       "        text-align: right;\n",
       "    }\n",
       "</style>\n",
       "<table border=\"1\" class=\"dataframe\">\n",
       "  <thead>\n",
       "    <tr style=\"text-align: right;\">\n",
       "      <th></th>\n",
       "      <th>Date</th>\n",
       "      <th>Fips</th>\n",
       "      <th>PROJ state deaths</th>\n",
       "      <th>TRUE county deaths</th>\n",
       "      <th>Naive PROJ deaths</th>\n",
       "      <th>County population</th>\n",
       "      <th>log_offset</th>\n",
       "      <th>x</th>\n",
       "      <th>y</th>\n",
       "    </tr>\n",
       "  </thead>\n",
       "  <tbody>\n",
       "    <tr>\n",
       "      <th>11</th>\n",
       "      <td>20200905</td>\n",
       "      <td>37001</td>\n",
       "      <td>157.0</td>\n",
       "      <td>0.0</td>\n",
       "      <td>2.562167</td>\n",
       "      <td>169185</td>\n",
       "      <td>12.038748</td>\n",
       "      <td>5.056246</td>\n",
       "      <td>0.0</td>\n",
       "    </tr>\n",
       "  </tbody>\n",
       "</table>\n",
       "</div>"
      ],
      "text/plain": [
       "        Date   Fips  PROJ state deaths  TRUE county deaths  Naive PROJ deaths  \\\n",
       "11  20200905  37001              157.0                 0.0           2.562167   \n",
       "\n",
       "    County population  log_offset         x    y  \n",
       "11             169185   12.038748  5.056246  0.0  "
      ]
     },
     "metadata": {},
     "output_type": "display_data"
    },
    {
     "name": "stdout",
     "output_type": "stream",
     "text": [
      "y ~ x\n",
      "Optimization terminated successfully.\n",
      "         Current function value: 2.566833\n",
      "         Iterations 6\n",
      "Intercept   -14.168513\n",
      "x             0.660150\n",
      "dtype: float64\n"
     ]
    },
    {
     "data": {
      "text/html": [
       "<div>\n",
       "<style scoped>\n",
       "    .dataframe tbody tr th:only-of-type {\n",
       "        vertical-align: middle;\n",
       "    }\n",
       "\n",
       "    .dataframe tbody tr th {\n",
       "        vertical-align: top;\n",
       "    }\n",
       "\n",
       "    .dataframe thead th {\n",
       "        text-align: right;\n",
       "    }\n",
       "</style>\n",
       "<table border=\"1\" class=\"dataframe\">\n",
       "  <thead>\n",
       "    <tr style=\"text-align: right;\">\n",
       "      <th></th>\n",
       "      <th>Date</th>\n",
       "      <th>Fips</th>\n",
       "      <th>PROJ state deaths</th>\n",
       "      <th>TRUE county deaths</th>\n",
       "      <th>Naive PROJ deaths</th>\n",
       "      <th>County population</th>\n",
       "      <th>log_offset</th>\n",
       "      <th>x</th>\n",
       "      <th>y</th>\n",
       "    </tr>\n",
       "  </thead>\n",
       "  <tbody>\n",
       "    <tr>\n",
       "      <th>11</th>\n",
       "      <td>20200905</td>\n",
       "      <td>37001</td>\n",
       "      <td>157.0</td>\n",
       "      <td>0.0</td>\n",
       "      <td>2.562167</td>\n",
       "      <td>169185</td>\n",
       "      <td>12.038748</td>\n",
       "      <td>5.056246</td>\n",
       "      <td>0.0</td>\n",
       "    </tr>\n",
       "  </tbody>\n",
       "</table>\n",
       "</div>"
      ],
      "text/plain": [
       "        Date   Fips  PROJ state deaths  TRUE county deaths  Naive PROJ deaths  \\\n",
       "11  20200905  37001              157.0                 0.0           2.562167   \n",
       "\n",
       "    County population  log_offset         x    y  \n",
       "11             169185   12.038748  5.056246  0.0  "
      ]
     },
     "metadata": {},
     "output_type": "display_data"
    },
    {
     "name": "stdout",
     "output_type": "stream",
     "text": [
      "y ~ x\n",
      "Optimization terminated successfully.\n",
      "         Current function value: 2.438298\n",
      "         Iterations 6\n",
      "Intercept   -13.775027\n",
      "x             0.578408\n",
      "dtype: float64\n"
     ]
    },
    {
     "data": {
      "text/html": [
       "<div>\n",
       "<style scoped>\n",
       "    .dataframe tbody tr th:only-of-type {\n",
       "        vertical-align: middle;\n",
       "    }\n",
       "\n",
       "    .dataframe tbody tr th {\n",
       "        vertical-align: top;\n",
       "    }\n",
       "\n",
       "    .dataframe thead th {\n",
       "        text-align: right;\n",
       "    }\n",
       "</style>\n",
       "<table border=\"1\" class=\"dataframe\">\n",
       "  <thead>\n",
       "    <tr style=\"text-align: right;\">\n",
       "      <th></th>\n",
       "      <th>Date</th>\n",
       "      <th>Fips</th>\n",
       "      <th>PROJ state deaths</th>\n",
       "      <th>TRUE county deaths</th>\n",
       "      <th>Naive PROJ deaths</th>\n",
       "      <th>County population</th>\n",
       "      <th>log_offset</th>\n",
       "      <th>x</th>\n",
       "      <th>y</th>\n",
       "    </tr>\n",
       "  </thead>\n",
       "  <tbody>\n",
       "    <tr>\n",
       "      <th>11</th>\n",
       "      <td>20200905</td>\n",
       "      <td>37001</td>\n",
       "      <td>157.0</td>\n",
       "      <td>0.0</td>\n",
       "      <td>2.562167</td>\n",
       "      <td>169185</td>\n",
       "      <td>12.038748</td>\n",
       "      <td>5.056246</td>\n",
       "      <td>0.0</td>\n",
       "    </tr>\n",
       "  </tbody>\n",
       "</table>\n",
       "</div>"
      ],
      "text/plain": [
       "        Date   Fips  PROJ state deaths  TRUE county deaths  Naive PROJ deaths  \\\n",
       "11  20200905  37001              157.0                 0.0           2.562167   \n",
       "\n",
       "    County population  log_offset         x    y  \n",
       "11             169185   12.038748  5.056246  0.0  "
      ]
     },
     "metadata": {},
     "output_type": "display_data"
    },
    {
     "name": "stderr",
     "output_type": "stream",
     "text": [
      "\r",
      " 36%|███▋      | 4/11 [00:00<00:00, 39.31it/s]"
     ]
    },
    {
     "name": "stdout",
     "output_type": "stream",
     "text": [
      "y ~ x\n",
      "Optimization terminated successfully.\n",
      "         Current function value: 2.600414\n",
      "         Iterations 6\n",
      "Intercept   -14.124179\n",
      "x             0.654214\n",
      "dtype: float64\n"
     ]
    },
    {
     "data": {
      "text/html": [
       "<div>\n",
       "<style scoped>\n",
       "    .dataframe tbody tr th:only-of-type {\n",
       "        vertical-align: middle;\n",
       "    }\n",
       "\n",
       "    .dataframe tbody tr th {\n",
       "        vertical-align: top;\n",
       "    }\n",
       "\n",
       "    .dataframe thead th {\n",
       "        text-align: right;\n",
       "    }\n",
       "</style>\n",
       "<table border=\"1\" class=\"dataframe\">\n",
       "  <thead>\n",
       "    <tr style=\"text-align: right;\">\n",
       "      <th></th>\n",
       "      <th>Date</th>\n",
       "      <th>Fips</th>\n",
       "      <th>PROJ state deaths</th>\n",
       "      <th>TRUE county deaths</th>\n",
       "      <th>Naive PROJ deaths</th>\n",
       "      <th>County population</th>\n",
       "      <th>log_offset</th>\n",
       "      <th>x</th>\n",
       "      <th>y</th>\n",
       "    </tr>\n",
       "  </thead>\n",
       "  <tbody>\n",
       "    <tr>\n",
       "      <th>11</th>\n",
       "      <td>20200905</td>\n",
       "      <td>37001</td>\n",
       "      <td>157.0</td>\n",
       "      <td>0.0</td>\n",
       "      <td>2.562167</td>\n",
       "      <td>169185</td>\n",
       "      <td>12.038748</td>\n",
       "      <td>5.056246</td>\n",
       "      <td>0.0</td>\n",
       "    </tr>\n",
       "  </tbody>\n",
       "</table>\n",
       "</div>"
      ],
      "text/plain": [
       "        Date   Fips  PROJ state deaths  TRUE county deaths  Naive PROJ deaths  \\\n",
       "11  20200905  37001              157.0                 0.0           2.562167   \n",
       "\n",
       "    County population  log_offset         x    y  \n",
       "11             169185   12.038748  5.056246  0.0  "
      ]
     },
     "metadata": {},
     "output_type": "display_data"
    },
    {
     "name": "stdout",
     "output_type": "stream",
     "text": [
      "y ~ x\n",
      "Optimization terminated successfully.\n",
      "         Current function value: 2.631105\n",
      "         Iterations 6\n",
      "Intercept   -13.995760\n",
      "x             0.630664\n",
      "dtype: float64\n"
     ]
    },
    {
     "data": {
      "text/html": [
       "<div>\n",
       "<style scoped>\n",
       "    .dataframe tbody tr th:only-of-type {\n",
       "        vertical-align: middle;\n",
       "    }\n",
       "\n",
       "    .dataframe tbody tr th {\n",
       "        vertical-align: top;\n",
       "    }\n",
       "\n",
       "    .dataframe thead th {\n",
       "        text-align: right;\n",
       "    }\n",
       "</style>\n",
       "<table border=\"1\" class=\"dataframe\">\n",
       "  <thead>\n",
       "    <tr style=\"text-align: right;\">\n",
       "      <th></th>\n",
       "      <th>Date</th>\n",
       "      <th>Fips</th>\n",
       "      <th>PROJ state deaths</th>\n",
       "      <th>TRUE county deaths</th>\n",
       "      <th>Naive PROJ deaths</th>\n",
       "      <th>County population</th>\n",
       "      <th>log_offset</th>\n",
       "      <th>x</th>\n",
       "      <th>y</th>\n",
       "    </tr>\n",
       "  </thead>\n",
       "  <tbody>\n",
       "    <tr>\n",
       "      <th>11</th>\n",
       "      <td>20200905</td>\n",
       "      <td>37001</td>\n",
       "      <td>157.0</td>\n",
       "      <td>0.0</td>\n",
       "      <td>2.562167</td>\n",
       "      <td>169185</td>\n",
       "      <td>12.038748</td>\n",
       "      <td>5.056246</td>\n",
       "      <td>0.0</td>\n",
       "    </tr>\n",
       "  </tbody>\n",
       "</table>\n",
       "</div>"
      ],
      "text/plain": [
       "        Date   Fips  PROJ state deaths  TRUE county deaths  Naive PROJ deaths  \\\n",
       "11  20200905  37001              157.0                 0.0           2.562167   \n",
       "\n",
       "    County population  log_offset         x    y  \n",
       "11             169185   12.038748  5.056246  0.0  "
      ]
     },
     "metadata": {},
     "output_type": "display_data"
    },
    {
     "name": "stdout",
     "output_type": "stream",
     "text": [
      "y ~ x\n",
      "Optimization terminated successfully.\n",
      "         Current function value: 2.665390\n",
      "         Iterations 6\n",
      "Intercept   -13.922292\n",
      "x             0.616858\n",
      "dtype: float64\n"
     ]
    },
    {
     "data": {
      "text/html": [
       "<div>\n",
       "<style scoped>\n",
       "    .dataframe tbody tr th:only-of-type {\n",
       "        vertical-align: middle;\n",
       "    }\n",
       "\n",
       "    .dataframe tbody tr th {\n",
       "        vertical-align: top;\n",
       "    }\n",
       "\n",
       "    .dataframe thead th {\n",
       "        text-align: right;\n",
       "    }\n",
       "</style>\n",
       "<table border=\"1\" class=\"dataframe\">\n",
       "  <thead>\n",
       "    <tr style=\"text-align: right;\">\n",
       "      <th></th>\n",
       "      <th>Date</th>\n",
       "      <th>Fips</th>\n",
       "      <th>PROJ state deaths</th>\n",
       "      <th>TRUE county deaths</th>\n",
       "      <th>Naive PROJ deaths</th>\n",
       "      <th>County population</th>\n",
       "      <th>log_offset</th>\n",
       "      <th>x</th>\n",
       "      <th>y</th>\n",
       "    </tr>\n",
       "  </thead>\n",
       "  <tbody>\n",
       "    <tr>\n",
       "      <th>11</th>\n",
       "      <td>20200905</td>\n",
       "      <td>37001</td>\n",
       "      <td>157.0</td>\n",
       "      <td>0.0</td>\n",
       "      <td>2.562167</td>\n",
       "      <td>169185</td>\n",
       "      <td>12.038748</td>\n",
       "      <td>5.056246</td>\n",
       "      <td>0.0</td>\n",
       "    </tr>\n",
       "  </tbody>\n",
       "</table>\n",
       "</div>"
      ],
      "text/plain": [
       "        Date   Fips  PROJ state deaths  TRUE county deaths  Naive PROJ deaths  \\\n",
       "11  20200905  37001              157.0                 0.0           2.562167   \n",
       "\n",
       "    County population  log_offset         x    y  \n",
       "11             169185   12.038748  5.056246  0.0  "
      ]
     },
     "metadata": {},
     "output_type": "display_data"
    },
    {
     "name": "stdout",
     "output_type": "stream",
     "text": [
      "y ~ x\n",
      "Optimization terminated successfully.\n",
      "         Current function value: 2.505867\n",
      "         Iterations 6\n",
      "Intercept   -14.098674\n",
      "x             0.643082\n",
      "dtype: float64\n"
     ]
    },
    {
     "data": {
      "text/html": [
       "<div>\n",
       "<style scoped>\n",
       "    .dataframe tbody tr th:only-of-type {\n",
       "        vertical-align: middle;\n",
       "    }\n",
       "\n",
       "    .dataframe tbody tr th {\n",
       "        vertical-align: top;\n",
       "    }\n",
       "\n",
       "    .dataframe thead th {\n",
       "        text-align: right;\n",
       "    }\n",
       "</style>\n",
       "<table border=\"1\" class=\"dataframe\">\n",
       "  <thead>\n",
       "    <tr style=\"text-align: right;\">\n",
       "      <th></th>\n",
       "      <th>Date</th>\n",
       "      <th>Fips</th>\n",
       "      <th>PROJ state deaths</th>\n",
       "      <th>TRUE county deaths</th>\n",
       "      <th>Naive PROJ deaths</th>\n",
       "      <th>County population</th>\n",
       "      <th>log_offset</th>\n",
       "      <th>x</th>\n",
       "      <th>y</th>\n",
       "    </tr>\n",
       "  </thead>\n",
       "  <tbody>\n",
       "    <tr>\n",
       "      <th>11</th>\n",
       "      <td>20200905</td>\n",
       "      <td>37001</td>\n",
       "      <td>157.0</td>\n",
       "      <td>0.0</td>\n",
       "      <td>2.562167</td>\n",
       "      <td>169185</td>\n",
       "      <td>12.038748</td>\n",
       "      <td>5.056246</td>\n",
       "      <td>0.0</td>\n",
       "    </tr>\n",
       "  </tbody>\n",
       "</table>\n",
       "</div>"
      ],
      "text/plain": [
       "        Date   Fips  PROJ state deaths  TRUE county deaths  Naive PROJ deaths  \\\n",
       "11  20200905  37001              157.0                 0.0           2.562167   \n",
       "\n",
       "    County population  log_offset         x    y  \n",
       "11             169185   12.038748  5.056246  0.0  "
      ]
     },
     "metadata": {},
     "output_type": "display_data"
    },
    {
     "name": "stdout",
     "output_type": "stream",
     "text": [
      "y ~ x\n",
      "Optimization terminated successfully.\n",
      "         Current function value: 2.547654\n",
      "         Iterations 6\n",
      "Intercept   -14.119171\n",
      "x             0.652147\n",
      "dtype: float64\n"
     ]
    },
    {
     "data": {
      "text/html": [
       "<div>\n",
       "<style scoped>\n",
       "    .dataframe tbody tr th:only-of-type {\n",
       "        vertical-align: middle;\n",
       "    }\n",
       "\n",
       "    .dataframe tbody tr th {\n",
       "        vertical-align: top;\n",
       "    }\n",
       "\n",
       "    .dataframe thead th {\n",
       "        text-align: right;\n",
       "    }\n",
       "</style>\n",
       "<table border=\"1\" class=\"dataframe\">\n",
       "  <thead>\n",
       "    <tr style=\"text-align: right;\">\n",
       "      <th></th>\n",
       "      <th>Date</th>\n",
       "      <th>Fips</th>\n",
       "      <th>PROJ state deaths</th>\n",
       "      <th>TRUE county deaths</th>\n",
       "      <th>Naive PROJ deaths</th>\n",
       "      <th>County population</th>\n",
       "      <th>log_offset</th>\n",
       "      <th>x</th>\n",
       "      <th>y</th>\n",
       "    </tr>\n",
       "  </thead>\n",
       "  <tbody>\n",
       "    <tr>\n",
       "      <th>11</th>\n",
       "      <td>20200905</td>\n",
       "      <td>37001</td>\n",
       "      <td>157.0</td>\n",
       "      <td>0.0</td>\n",
       "      <td>2.562167</td>\n",
       "      <td>169185</td>\n",
       "      <td>12.038748</td>\n",
       "      <td>5.056246</td>\n",
       "      <td>0.0</td>\n",
       "    </tr>\n",
       "  </tbody>\n",
       "</table>\n",
       "</div>"
      ],
      "text/plain": [
       "        Date   Fips  PROJ state deaths  TRUE county deaths  Naive PROJ deaths  \\\n",
       "11  20200905  37001              157.0                 0.0           2.562167   \n",
       "\n",
       "    County population  log_offset         x    y  \n",
       "11             169185   12.038748  5.056246  0.0  "
      ]
     },
     "metadata": {},
     "output_type": "display_data"
    },
    {
     "name": "stdout",
     "output_type": "stream",
     "text": [
      "y ~ x\n"
     ]
    },
    {
     "name": "stderr",
     "output_type": "stream",
     "text": [
      "\r",
      " 82%|████████▏ | 9/11 [00:00<00:00, 39.65it/s]"
     ]
    },
    {
     "name": "stdout",
     "output_type": "stream",
     "text": [
      "Optimization terminated successfully.\n",
      "         Current function value: 2.608708\n",
      "         Iterations 6\n",
      "Intercept   -14.127171\n",
      "x             0.653726\n",
      "dtype: float64\n"
     ]
    },
    {
     "data": {
      "text/html": [
       "<div>\n",
       "<style scoped>\n",
       "    .dataframe tbody tr th:only-of-type {\n",
       "        vertical-align: middle;\n",
       "    }\n",
       "\n",
       "    .dataframe tbody tr th {\n",
       "        vertical-align: top;\n",
       "    }\n",
       "\n",
       "    .dataframe thead th {\n",
       "        text-align: right;\n",
       "    }\n",
       "</style>\n",
       "<table border=\"1\" class=\"dataframe\">\n",
       "  <thead>\n",
       "    <tr style=\"text-align: right;\">\n",
       "      <th></th>\n",
       "      <th>Date</th>\n",
       "      <th>Fips</th>\n",
       "      <th>PROJ state deaths</th>\n",
       "      <th>TRUE county deaths</th>\n",
       "      <th>Naive PROJ deaths</th>\n",
       "      <th>County population</th>\n",
       "      <th>log_offset</th>\n",
       "      <th>x</th>\n",
       "      <th>y</th>\n",
       "    </tr>\n",
       "  </thead>\n",
       "  <tbody>\n",
       "    <tr>\n",
       "      <th>11</th>\n",
       "      <td>20200905</td>\n",
       "      <td>37001</td>\n",
       "      <td>157.0</td>\n",
       "      <td>0.0</td>\n",
       "      <td>2.562167</td>\n",
       "      <td>169185</td>\n",
       "      <td>12.038748</td>\n",
       "      <td>5.056246</td>\n",
       "      <td>0.0</td>\n",
       "    </tr>\n",
       "  </tbody>\n",
       "</table>\n",
       "</div>"
      ],
      "text/plain": [
       "        Date   Fips  PROJ state deaths  TRUE county deaths  Naive PROJ deaths  \\\n",
       "11  20200905  37001              157.0                 0.0           2.562167   \n",
       "\n",
       "    County population  log_offset         x    y  \n",
       "11             169185   12.038748  5.056246  0.0  "
      ]
     },
     "metadata": {},
     "output_type": "display_data"
    },
    {
     "name": "stdout",
     "output_type": "stream",
     "text": [
      "y ~ x\n",
      "Optimization terminated successfully.\n",
      "         Current function value: 2.530290\n",
      "         Iterations 6\n",
      "Intercept   -14.097299\n",
      "x             0.645494\n",
      "dtype: float64\n"
     ]
    },
    {
     "data": {
      "text/html": [
       "<div>\n",
       "<style scoped>\n",
       "    .dataframe tbody tr th:only-of-type {\n",
       "        vertical-align: middle;\n",
       "    }\n",
       "\n",
       "    .dataframe tbody tr th {\n",
       "        vertical-align: top;\n",
       "    }\n",
       "\n",
       "    .dataframe thead th {\n",
       "        text-align: right;\n",
       "    }\n",
       "</style>\n",
       "<table border=\"1\" class=\"dataframe\">\n",
       "  <thead>\n",
       "    <tr style=\"text-align: right;\">\n",
       "      <th></th>\n",
       "      <th>Date</th>\n",
       "      <th>Fips</th>\n",
       "      <th>PROJ state deaths</th>\n",
       "      <th>TRUE county deaths</th>\n",
       "      <th>Naive PROJ deaths</th>\n",
       "      <th>County population</th>\n",
       "      <th>log_offset</th>\n",
       "      <th>x</th>\n",
       "      <th>y</th>\n",
       "    </tr>\n",
       "  </thead>\n",
       "  <tbody>\n",
       "    <tr>\n",
       "      <th>11</th>\n",
       "      <td>20200905</td>\n",
       "      <td>37001</td>\n",
       "      <td>157.0</td>\n",
       "      <td>0.0</td>\n",
       "      <td>2.562167</td>\n",
       "      <td>169185</td>\n",
       "      <td>12.038748</td>\n",
       "      <td>5.056246</td>\n",
       "      <td>0.0</td>\n",
       "    </tr>\n",
       "  </tbody>\n",
       "</table>\n",
       "</div>"
      ],
      "text/plain": [
       "        Date   Fips  PROJ state deaths  TRUE county deaths  Naive PROJ deaths  \\\n",
       "11  20200905  37001              157.0                 0.0           2.562167   \n",
       "\n",
       "    County population  log_offset         x    y  \n",
       "11             169185   12.038748  5.056246  0.0  "
      ]
     },
     "metadata": {},
     "output_type": "display_data"
    },
    {
     "name": "stdout",
     "output_type": "stream",
     "text": [
      "y ~ x\n"
     ]
    },
    {
     "name": "stderr",
     "output_type": "stream",
     "text": [
      "\r",
      "100%|██████████| 11/11 [00:00<00:00, 39.35it/s]"
     ]
    },
    {
     "name": "stdout",
     "output_type": "stream",
     "text": [
      "Optimization terminated successfully.\n",
      "         Current function value: 2.328577\n",
      "         Iterations 6\n",
      "Intercept   -15.685051\n",
      "x             0.920788\n",
      "dtype: float64\n"
     ]
    },
    {
     "name": "stderr",
     "output_type": "stream",
     "text": [
      "\n"
     ]
    }
   ],
   "source": [
    "# %%capture\n",
    "res_dfs = []\n",
    "models = {}\n",
    "chunks = get_chunks(list(df.Date.unique()), num_membs=8)\n",
    "\n",
    "# for ALG in ['Linear','Poisson']:\n",
    "#     ,'Zero-Inflated']:\n",
    "for ALG in ['Poisson']:\n",
    "    for i,test_chunk in tqdm(enumerate(chunks), total=len(chunks)):\n",
    "\n",
    "        df_train, df_test = get_date_chunked_splits(df, chunks, i)\n",
    "        \n",
    "        # # # # # # # # # # # # # # # #\n",
    "        df_test = df_train.copy()\n",
    "        # # # # # # # # # # # # # # # #\n",
    "        \n",
    "        df_test[f'Run'] = i\n",
    "        \n",
    "        PRED_COL = 'PRED county deaths'    \n",
    "        df_res = get_df_res(df_train, df_test, X_COLS, \n",
    "                            Y_COL, OFFSET_COL, PRED_COL, ALG, standardize=False)\n",
    "\n",
    "#         if i==0: display(df_test.head(), df_res.head())\n",
    "\n",
    "        res_dfs.append(df_res)\n",
    "    \n",
    "df_full_res = pd.concat(res_dfs)\n"
   ]
  },
  {
   "cell_type": "code",
   "execution_count": 56,
   "id": "c9d2f631",
   "metadata": {},
   "outputs": [
    {
     "data": {
      "text/html": [
       "<div>\n",
       "<style scoped>\n",
       "    .dataframe tbody tr th:only-of-type {\n",
       "        vertical-align: middle;\n",
       "    }\n",
       "\n",
       "    .dataframe tbody tr th {\n",
       "        vertical-align: top;\n",
       "    }\n",
       "\n",
       "    .dataframe thead th {\n",
       "        text-align: right;\n",
       "    }\n",
       "</style>\n",
       "<table border=\"1\" class=\"dataframe\">\n",
       "  <thead>\n",
       "    <tr style=\"text-align: right;\">\n",
       "      <th></th>\n",
       "      <th>Date</th>\n",
       "      <th>Fips</th>\n",
       "      <th>PROJ state deaths</th>\n",
       "      <th>TRUE county deaths</th>\n",
       "      <th>Naive PROJ deaths</th>\n",
       "      <th>County population</th>\n",
       "      <th>Run</th>\n",
       "      <th>PRED county deaths</th>\n",
       "      <th>Algorithm</th>\n",
       "      <th>log_res</th>\n",
       "    </tr>\n",
       "  </thead>\n",
       "  <tbody>\n",
       "    <tr>\n",
       "      <th>19</th>\n",
       "      <td>20201031</td>\n",
       "      <td>37001</td>\n",
       "      <td>198.0</td>\n",
       "      <td>16.0</td>\n",
       "      <td>3.231</td>\n",
       "      <td>169185</td>\n",
       "      <td>0</td>\n",
       "      <td>2.318e-05</td>\n",
       "      <td>Poisson</td>\n",
       "      <td>-10.672</td>\n",
       "    </tr>\n",
       "  </tbody>\n",
       "</table>\n",
       "</div>"
      ],
      "text/plain": [
       "        Date   Fips  PROJ state deaths  TRUE county deaths  Naive PROJ deaths  \\\n",
       "19  20201031  37001              198.0                16.0              3.231   \n",
       "\n",
       "    County population  Run  PRED county deaths Algorithm  log_res  \n",
       "19             169185    0           2.318e-05   Poisson  -10.672  "
      ]
     },
     "metadata": {},
     "output_type": "display_data"
    }
   ],
   "source": [
    "# Intercept   -14.123229\n",
    "# x             0.652590\n",
    "with pd.option_context('display.precision', 3):\n",
    "    display(df_full_res[:1])\n",
    "    \n",
    "# should be around 30 !!!"
   ]
  },
  {
   "cell_type": "code",
   "execution_count": 48,
   "id": "7fa6b1b8",
   "metadata": {},
   "outputs": [
    {
     "data": {
      "text/plain": [
       "<Axes: xlabel='PRED county deaths', ylabel='TRUE county deaths'>"
      ]
     },
     "execution_count": 48,
     "metadata": {},
     "output_type": "execute_result"
    },
    {
     "data": {
      "image/png": "[encoded data removed]",
      "text/plain": [
       "<Figure size 640x480 with 1 Axes>"
      ]
     },
     "metadata": {},
     "output_type": "display_data"
    }
   ],
   "source": [
    "import seaborn as sns \n",
    "sns.scatterplot(data=df_full_res, y=\"TRUE county deaths\", x=\"PRED county deaths\")"
   ]
  },
  {
   "cell_type": "code",
   "execution_count": 49,
   "id": "521fb0f5",
   "metadata": {},
   "outputs": [
    {
     "data": {
      "text/plain": [
       "count    87100.000000\n",
       "mean         0.000024\n",
       "std          0.000011\n",
       "min          0.000005\n",
       "25%          0.000016\n",
       "50%          0.000021\n",
       "75%          0.000033\n",
       "max          0.000058\n",
       "Name: PRED county deaths, dtype: float64"
      ]
     },
     "execution_count": 49,
     "metadata": {},
     "output_type": "execute_result"
    }
   ],
   "source": [
    "df_full_res['PRED county deaths'].describe()"
   ]
  },
  {
   "cell_type": "code",
   "execution_count": 55,
   "id": "fa47b530",
   "metadata": {
    "scrolled": false
   },
   "outputs": [
    {
     "data": {
      "image/png": "[encoded data removed]",
      "text/plain": [
       "<Figure size 640x320 with 1 Axes>"
      ]
     },
     "metadata": {},
     "output_type": "display_data"
    },
    {
     "data": {
      "image/png": "[encoded data removed]",
      "text/plain": [
       "<Figure size 640x320 with 1 Axes>"
      ]
     },
     "metadata": {},
     "output_type": "display_data"
    }
   ],
   "source": [
    "import matplotlib.pyplot as plt\n",
    "import seaborn as sns\n",
    "sns.set(font_scale=1, style='ticks', palette='muted') \n",
    "DPI = 80\n",
    "FIGSIZE = (8,4)\n",
    "\n",
    "plt.figure(figsize=FIGSIZE)\n",
    "sns.histplot(df_full_res['TRUE county deaths'].values, bins=40, kde=True, element='step')\n",
    "sns.despine()\n",
    "# plt.xlim((-20, 90))\n",
    "plt.xlabel('True county deaths')\n",
    "plt.gcf().set_dpi(DPI)\n",
    "plt.show()\n",
    "\n",
    "# plt.figure(figsize=FIGSIZE)\n",
    "# sns.histplot(df_full_res['PRED county deaths'].values, bins=40, kde=True, element='step')\n",
    "# sns.despine()\n",
    "# # plt.xlim((-20, 90))\n",
    "# plt.xlabel('Predicted county deaths')\n",
    "# plt.gcf().set_dpi(DPI)\n",
    "# plt.show()\n",
    "\n",
    "df_full_res['log_res'] = df_full_res['PRED county deaths'].apply(lambda x: np.log(x))\n",
    "\n",
    "plt.figure(figsize=FIGSIZE)\n",
    "sns.histplot(df_full_res['log_res'].values, bins=40, kde=True, element='step')\n",
    "sns.despine()\n",
    "# plt.xlim((-20, 90))\n",
    "plt.xlabel('log( Predicted county deaths )')\n",
    "plt.gcf().set_dpi(DPI)\n",
    "plt.show()"
   ]
  },
  {
   "cell_type": "markdown",
   "id": "0a24ed10",
   "metadata": {},
   "source": [
    "# <font color=blue> 3) Evaluation"
   ]
  },
  {
   "cell_type": "markdown",
   "id": "f62b3377",
   "metadata": {},
   "source": [
    "## <font color=blue> a. _Metrics_ \n",
    "Average across cross-validation splits."
   ]
  },
  {
   "cell_type": "code",
   "execution_count": 52,
   "id": "de71b65b",
   "metadata": {
    "scrolled": false
   },
   "outputs": [],
   "source": [
    "metric_sers = []\n",
    "\n",
    "for alg in df_full_res.Algorithm.unique():\n",
    "    for run in df_full_res.Run.unique():\n",
    "        subdf = df_full_res[(df_full_res['Run']==run) & (df_full_res['Algorithm']==alg)]\n",
    "        ser = get_metrics_ser(subdf, \n",
    "                              target_col=Y_COL,\n",
    "                              pred_col=PRED_COL,\n",
    "                              alg_col=alg,\n",
    "                              naive_col=NAIVE_COL)\n",
    "\n",
    "        metric_sers.append(ser)\n",
    "    \n",
    "df_run = pd.DataFrame(metric_sers)"
   ]
  },
  {
   "cell_type": "code",
   "execution_count": 53,
   "id": "e4bee563",
   "metadata": {
    "scrolled": false
   },
   "outputs": [
    {
     "data": {
      "image/png": "[encoded data removed]",
      "text/plain": [
       "<Figure size 448x336 with 1 Axes>"
      ]
     },
     "metadata": {},
     "output_type": "display_data"
    },
    {
     "data": {
      "image/png": "[encoded data removed]",
      "text/plain": [
       "<Figure size 448x336 with 1 Axes>"
      ]
     },
     "metadata": {},
     "output_type": "display_data"
    },
    {
     "data": {
      "image/png": "[encoded data removed]",
      "text/plain": [
       "<Figure size 448x336 with 1 Axes>"
      ]
     },
     "metadata": {},
     "output_type": "display_data"
    },
    {
     "name": "stdout",
     "output_type": "stream",
     "text": [
      "\n",
      "* MedAE *\n",
      "== Poisson ==\n",
      " Mean: 1.0\n",
      " Median: 1.0\n",
      "\n",
      "* R-squared *\n",
      "== Poisson ==\n",
      " Mean: -0.262\n",
      " Median: -0.259\n",
      "\n",
      "* relMAE *\n",
      "== Poisson ==\n",
      " Mean: 1.234\n",
      " Median: 1.238\n"
     ]
    }
   ],
   "source": [
    "df_melt = pd.melt(df_run, id_vars=['Algorithm'], \n",
    "                  value_vars=['MAE', 'MedAE', 'R-squared','MSE','relMAE'], \n",
    "                  var_name='Metric', value_name='Score')\n",
    "\n",
    "import matplotlib.pyplot as plt\n",
    "import seaborn as sns\n",
    "sns.set(font_scale=1, style='whitegrid', palette='pastel') \n",
    "DPI = 70\n",
    "\n",
    "for metric in  ['MedAE', 'R-squared', 'relMAE']:\n",
    "    df_plot = df_melt[df_melt.Metric==metric]\n",
    "    sns.boxplot(df_plot, x='Algorithm',y='Score')   \n",
    "    plt.title(f'{metric}')\n",
    "    plt.xticks(rotation=45,ha='right')\n",
    "    plt.gcf().set_dpi(DPI)\n",
    "    plt.show()\n",
    "\n",
    "for metric in  ['MedAE', 'R-squared', 'relMAE']:\n",
    "    print(f'\\n* {metric} *')\n",
    "    for alg in df_full_res.Algorithm.unique():\n",
    "        dff_melt = df_melt[(df_melt['Metric']==metric) & (df_melt['Algorithm']==alg)]\n",
    "        print(f'== {alg} ==')\n",
    "        print(f' Mean: {round(dff_melt.Score.mean(),3)}\\n Median: {round(dff_melt.Score.median(),3)}')"
   ]
  },
  {
   "cell_type": "markdown",
   "id": "da5c811e",
   "metadata": {},
   "source": [
    "## <font color=blue> b. _Plots_"
   ]
  },
  {
   "cell_type": "code",
   "execution_count": 54,
   "id": "75818a82",
   "metadata": {},
   "outputs": [
    {
     "data": {
      "image/png": "[encoded data removed]",
      "text/plain": [
       "<Figure size 480x480 with 1 Axes>"
      ]
     },
     "metadata": {},
     "output_type": "display_data"
    }
   ],
   "source": [
    "import matplotlib.pyplot as plt\n",
    "import seaborn as sns\n",
    "sns.set(font_scale=1, style='ticks', palette='bright') \n",
    "\n",
    "figsize = (8,6)\n",
    "alpha = 0.1\n",
    "sizes = 2\n",
    "linewidth = 0\n",
    "\n",
    "DPI = 80\n",
    "FIGSIZE = (6,6)\n",
    "\n",
    "# df = df_pred\n",
    "\n",
    "plt.figure(figsize=FIGSIZE)\n",
    "\n",
    "sns.scatterplot(data=df_full_res, x=Y_COL, y=PRED_COL, alpha=alpha, sizes=sizes, linewidth=linewidth, hue='Algorithm')\n",
    "# sns.scatterplot(data=df_full_res, x=Y_COL, y=PRED_COL, alpha=alpha, sizes=sizes, linewidth=linewidth)\n",
    "# sns.scatterplot(data=df_full_res, x=Y_COL, y=PRED_COL, alpha=alpha, sizes=sizes, linewidth=linewidth)\n",
    "\n",
    "sns.despine()\n",
    "plt.xlim((-10, 90))\n",
    "plt.gcf().set_dpi(DPI)\n",
    "plt.show()\n",
    "\n",
    "\n",
    "# plt.show()"
   ]
  },
  {
   "cell_type": "code",
   "execution_count": null,
   "id": "b821ab0f",
   "metadata": {},
   "outputs": [],
   "source": [
    "allDone()"
   ]
  },
  {
   "cell_type": "markdown",
   "id": "998b85d5",
   "metadata": {},
   "source": [
    "# <font color=red> What about when transformed?"
   ]
  }
 ],
 "metadata": {
  "kernelspec": {
   "display_name": "Python 3 (ipykernel)",
   "language": "python",
   "name": "python3"
  },
  "language_info": {
   "codemirror_mode": {
    "name": "ipython",
    "version": 3
   },
   "file_extension": ".py",
   "mimetype": "text/x-python",
   "name": "python",
   "nbconvert_exporter": "python",
   "pygments_lexer": "ipython3",
   "version": "3.10.9"
  }
 },
 "nbformat": 4,
 "nbformat_minor": 5
}
