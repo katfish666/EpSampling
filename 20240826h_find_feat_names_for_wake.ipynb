{
 "cells": [
  {
   "cell_type": "code",
   "execution_count": 1,
   "id": "360d48c7",
   "metadata": {},
   "outputs": [],
   "source": [
    "import census\n",
    "import us\n",
    "from us import states\n",
    "import pandas as pd\n",
    "import json\n",
    "import yaml\n",
    "import numpy as np\n",
    "\n",
    "c = census.Census(\"411bb7f85fae9359b2096fd35aa2760d7c95fdae\", year=2021)"
   ]
  },
  {
   "cell_type": "code",
   "execution_count": 33,
   "id": "aa69e73f",
   "metadata": {},
   "outputs": [],
   "source": [
    "import pandas as pd\n",
    "import os\n",
    "\n",
    "df_covs = pd.read_csv('processed_data/paul_covariates.csv')\n",
    "df_covs.rename({'GEOID':'Fips'}, axis=1, inplace=True)\n",
    "\n",
    "covs = df_covs[df_covs.Fips==37183]\n",
    "cov_dict_temp = covs.to_dict(orient='records')[0]\n",
    "cov_dict = {k:str(v) for k,v in cov_dict_temp.items()}"
   ]
  },
  {
   "cell_type": "code",
   "execution_count": 112,
   "id": "2851ba39",
   "metadata": {},
   "outputs": [
    {
     "name": "stdout",
     "output_type": "stream",
     "text": [
      "Paul covs:\t62\n",
      "ACS variables:\t134\n"
     ]
    }
   ],
   "source": [
    "file_res = {}\n",
    "with open(\"wake_county_feats.txt\", \"r\") as f:\n",
    "    contents = f.read() \n",
    "    pairs = contents.strip().split('\\n')\n",
    "    res_dict = {pair.split(',')[0]: pair.split(',')[1] for pair in pairs} \n",
    "    \n",
    "res_dict = {k:v for k,v in res_dict.items() if v!= \"0\"}\n",
    "\n",
    "acs_to_paul = {}\n",
    "feats = []\n",
    "covs = []\n",
    "\n",
    "for k,v in res_dict.items():\n",
    "    for k2,v2 in cov_dict.items():\n",
    "        if v==v2: \n",
    "            if k not in acs_to_paul.keys():\n",
    "                acs_to_paul[k] = {'val':v}\n",
    "                acs_to_paul[k]['covs'] = [k2]\n",
    "            else:\n",
    "                acs_to_paul[k]['covs'].append(k2)\n",
    "            feats.append(k)\n",
    "            covs.append(k2)\n",
    "            \n",
    "covs = list(set(covs))\n",
    "feats = list(set(feats))\n",
    "\n",
    "print(f\"Paul covs:\\t{len(covs)}\")\n",
    "print(f\"ACS variables:\\t{len(feats)}\")"
   ]
  },
  {
   "cell_type": "code",
   "execution_count": 107,
   "id": "93665e9c",
   "metadata": {},
   "outputs": [
    {
     "data": {
      "text/plain": [
       "['B06001_002E',\n",
       " 'B11001_008E',\n",
       " 'B17001E_003E',\n",
       " 'B25038_002E',\n",
       " 'B08601_013E',\n",
       " 'B19037E_049E',\n",
       " 'B25053_005E',\n",
       " 'B08526_090E',\n",
       " 'B17001E_014E',\n",
       " 'B20005E_077E',\n",
       " 'B14004_009E',\n",
       " 'B25106_002E',\n",
       " 'B08201_007E',\n",
       " 'B25125_024E',\n",
       " 'B14007I_004E',\n",
       " 'B05006_036E',\n",
       " 'B19037E_046E',\n",
       " 'B17010_005E',\n",
       " 'B02014_020E',\n",
       " 'B08519_035E',\n",
       " 'B01002D_003E',\n",
       " 'B06001_009E',\n",
       " 'B18101C_003E',\n",
       " 'B05003I_017E',\n",
       " 'B25061_006E',\n",
       " 'B08119_052E',\n",
       " 'B25053_002E',\n",
       " 'B25038_009E',\n",
       " 'B17001E_024E',\n",
       " 'B25092_003E',\n",
       " 'B25002_002E',\n",
       " 'B02014_036E',\n",
       " 'B17020E_007E',\n",
       " 'B08526_038E',\n",
       " 'B25106_024E',\n",
       " 'B12002F_013E',\n",
       " 'B08119_035E',\n",
       " 'B05006_039E',\n",
       " 'B05006_004E',\n",
       " 'B02014_026E',\n",
       " 'B04006_074E',\n",
       " 'B20005F_043E',\n",
       " 'B25118_002E',\n",
       " 'B25061_023E',\n",
       " 'B25007_012E',\n",
       " 'B25125_002E',\n",
       " 'B23008_013E',\n",
       " 'B08134_085E',\n",
       " 'B08134_090E',\n",
       " 'B08201_019E',\n",
       " 'B05006_037E',\n",
       " 'B02019_004E',\n",
       " 'B19101F_015E',\n",
       " 'B25010_003E',\n",
       " 'B01002D_002E',\n",
       " 'B08134_120E',\n",
       " 'B04006_017E',\n",
       " 'B08526_050E',\n",
       " 'B25002_003E',\n",
       " 'B05006_065E',\n",
       " 'B06001_010E',\n",
       " 'B20005F_093E',\n",
       " 'B08134_109E',\n",
       " 'B08103_004E',\n",
       " 'B08201_013E',\n",
       " 'B25010_002E',\n",
       " 'B08134_100E',\n",
       " 'B08541_020E',\n",
       " 'B17001E_026E',\n",
       " 'B17010_015E',\n",
       " 'B20005E_072E',\n",
       " 'B05013_011E',\n",
       " 'B06004E_005E',\n",
       " 'B08526_039E',\n",
       " 'B06001_008E']"
      ]
     },
     "execution_count": 107,
     "metadata": {},
     "output_type": "execute_result"
    }
   ],
   "source": [
    "not_tots = [f for f in feats if '_001E' not in f]\n",
    "not_tots"
   ]
  },
  {
   "cell_type": "code",
   "execution_count": 94,
   "id": "2464726f",
   "metadata": {},
   "outputs": [],
   "source": [
    "# feats"
   ]
  },
  {
   "cell_type": "code",
   "execution_count": 103,
   "id": "5136d286",
   "metadata": {},
   "outputs": [
    {
     "data": {
      "text/plain": [
       "{'B06004E_005E': {'val': '66', 'covs': ['GQ_M1864_INST_NUR', 'GQ_F0017_NONI']},\n",
       " 'B08201_007E': {'val': '110462', 'covs': ['HH_1P']},\n",
       " 'B08201_001E': {'val': '422144', 'covs': ['HH_x', 'HH_y', 'HU_OCC']},\n",
       " 'B08119_035E': {'val': '66', 'covs': ['GQ_M1864_INST_NUR', 'GQ_F0017_NONI']},\n",
       " 'B12002F_013E': {'val': '1394', 'covs': ['GQ_F65p_INST_NUR']},\n",
       " 'B25027_001E': {'val': '271425', 'covs': ['HU_OCC_OWN']},\n",
       " 'B25061_006E': {'val': '3',\n",
       "  'covs': ['GQ_M0017_INST_OTH', 'GQ_M1864_INST_JUV']},\n",
       " 'B25041_001E': {'val': '454672', 'covs': ['HU_x', 'HU_y']},\n",
       " 'B19037E_046E': {'val': '22', 'covs': ['GQ_F1864_INST_OTH']},\n",
       " 'B17020E_007E': {'val': '22', 'covs': ['GQ_F1864_INST_OTH']},\n",
       " 'B19037E_049E': {'val': '46', 'covs': ['GQ_F0017_NONI_OTH']},\n",
       " 'B23008_013E': {'val': '12185', 'covs': ['POP_A21']},\n",
       " 'B25125_001E': {'val': '422144', 'covs': ['HH_x', 'HH_y', 'HU_OCC']},\n",
       " 'B02014_036E': {'val': '3',\n",
       "  'covs': ['GQ_M0017_INST_OTH', 'GQ_M1864_INST_JUV']},\n",
       " 'B25125_002E': {'val': '271425', 'covs': ['HU_OCC_OWN']},\n",
       " 'B25061_023E': {'val': '16', 'covs': ['GQ_M0017_NONI_UNI']},\n",
       " 'B14004_009E': {'val': '16', 'covs': ['GQ_M0017_NONI_UNI']},\n",
       " 'B992518_001E': {'val': '150719', 'covs': ['HU_OCC_RENT']},\n",
       " 'B25007_012E': {'val': '150719', 'covs': ['HU_OCC_RENT']},\n",
       " 'B02014_026E': {'val': '11', 'covs': ['GQ_M1864_INST_OTH']},\n",
       " 'B02014_020E': {'val': '29', 'covs': ['GQ_M65p_INST_OTH']},\n",
       " 'B99243_001E': {'val': '587736', 'covs': ['POP_16p_EMP_x', 'POP_16p_EMP_y']},\n",
       " 'B25125_024E': {'val': '150719', 'covs': ['HU_OCC_RENT']},\n",
       " 'B02019_004E': {'val': '51', 'covs': ['GQ_F0017_INST_JUV']},\n",
       " 'B08119_052E': {'val': '624', 'covs': ['IND_PSMAW_M']},\n",
       " 'B08201_019E': {'val': '68777', 'covs': ['HH_3P']},\n",
       " 'B08201_013E': {'val': '144331', 'covs': ['HH_2P']},\n",
       " 'B25106_024E': {'val': '150719', 'covs': ['HU_OCC_RENT']},\n",
       " 'B992513_001E': {'val': '422144', 'covs': ['HH_x', 'HH_y', 'HU_OCC']},\n",
       " 'B25106_002E': {'val': '271425', 'covs': ['HU_OCC_OWN']},\n",
       " 'B25106_001E': {'val': '422144', 'covs': ['HH_x', 'HH_y', 'HU_OCC']},\n",
       " 'B05001_001E': {'val': '1112883', 'covs': ['POP_x', 'POP_y']},\n",
       " 'B08601_013E': {'val': '9', 'covs': ['GQ_M0017_INST_COR']},\n",
       " 'B01003_001E': {'val': '1112883', 'covs': ['POP_x', 'POP_y']},\n",
       " 'B19058_001E': {'val': '422144', 'covs': ['HH_x', 'HH_y', 'HU_OCC']},\n",
       " 'B11006_001E': {'val': '422144', 'covs': ['HH_x', 'HH_y', 'HU_OCC']},\n",
       " 'B08134_085E': {'val': '22', 'covs': ['GQ_F1864_INST_OTH']},\n",
       " 'B08134_090E': {'val': '9', 'covs': ['GQ_M0017_INST_COR']},\n",
       " 'B25038_002E': {'val': '271425', 'covs': ['HU_OCC_OWN']},\n",
       " 'B25038_001E': {'val': '422144', 'covs': ['HH_x', 'HH_y', 'HU_OCC']},\n",
       " 'B25038_009E': {'val': '150719', 'covs': ['HU_OCC_RENT']},\n",
       " 'B25092_003E': {'val': '9', 'covs': ['GQ_M0017_INST_COR']},\n",
       " 'B25092_001E': {'val': '16', 'covs': ['GQ_M0017_NONI_UNI']},\n",
       " 'B04006_001E': {'val': '1112883', 'covs': ['POP_x', 'POP_y']},\n",
       " 'B99255_001E': {'val': '454672', 'covs': ['HU_x', 'HU_y']},\n",
       " 'B20005F_043E': {'val': '22', 'covs': ['GQ_F1864_INST_OTH']},\n",
       " 'B99282_001E': {'val': '422144', 'covs': ['HH_x', 'HH_y', 'HU_OCC']},\n",
       " 'B04006_017E': {'val': '5', 'covs': ['GQ_F65p_INST_COR']},\n",
       " 'B992521_001E': {'val': '271425', 'covs': ['HU_OCC_OWN']},\n",
       " 'B08526_090E': {'val': '46', 'covs': ['GQ_F0017_NONI_OTH']},\n",
       " 'B19060_001E': {'val': '422144', 'covs': ['HH_x', 'HH_y', 'HU_OCC']},\n",
       " 'B05003I_017E': {'val': '325', 'covs': ['GQ_M65p_NONI']},\n",
       " 'B05006_039E': {'val': '9', 'covs': ['GQ_M0017_INST_COR']},\n",
       " 'B08519_035E': {'val': '93', 'covs': ['GQ_F65p_INST_OTH']},\n",
       " 'B05006_036E': {'val': '49', 'covs': ['GQ_M0017_NONI_OTH']},\n",
       " 'B05006_037E': {'val': '49', 'covs': ['GQ_M0017_NONI_OTH']},\n",
       " 'B25101_001E': {'val': '271425', 'covs': ['HU_OCC_OWN']},\n",
       " 'B99061_001E': {'val': '1112883', 'covs': ['POP_x', 'POP_y']},\n",
       " 'B05003I_001E': {'val': '114749', 'covs': ['POP_HISP']},\n",
       " 'B05006_004E': {'val': '112', 'covs': ['GQ_M0017']},\n",
       " 'B25010_003E': {'val': '2', 'covs': ['GQ_F1864_INST_JUV']},\n",
       " 'B25010_002E': {'val': '2', 'covs': ['GQ_F1864_INST_JUV']},\n",
       " 'B25010_001E': {'val': '2', 'covs': ['GQ_F1864_INST_JUV']},\n",
       " 'B05006_065E': {'val': '29', 'covs': ['GQ_M65p_INST_OTH']},\n",
       " 'B20005F_093E': {'val': '9', 'covs': ['GQ_M0017_INST_COR']},\n",
       " 'B11001_001E': {'val': '422144', 'covs': ['HH_x', 'HH_y', 'HU_OCC']},\n",
       " 'B11001_008E': {'val': '110462', 'covs': ['HH_1P']},\n",
       " 'B04006_074E': {'val': '22', 'covs': ['GQ_F1864_INST_OTH']},\n",
       " 'B08103_004E': {'val': '35', 'covs': ['GQ_M0017_INST_JUV']},\n",
       " 'B19053_001E': {'val': '422144', 'covs': ['HH_x', 'HH_y', 'HU_OCC']},\n",
       " 'B25034_001E': {'val': '454672', 'covs': ['HU_x', 'HU_y']},\n",
       " 'B25118_001E': {'val': '422144', 'covs': ['HH_x', 'HH_y', 'HU_OCC']},\n",
       " 'B25118_002E': {'val': '271425', 'covs': ['HU_OCC_OWN']},\n",
       " 'B99256_001E': {'val': '454672', 'covs': ['HU_x', 'HU_y']},\n",
       " 'B08541_020E': {'val': '715', 'covs': ['GQ_F65p_NONI', 'GQ_F65p_NONI_OTH']},\n",
       " 'B14007I_004E': {'val': '1965', 'covs': ['HU_OCC_OPR151200']},\n",
       " 'B20005E_072E': {'val': '2', 'covs': ['GQ_F1864_INST_JUV']},\n",
       " 'B20005E_077E': {'val': '65', 'covs': ['GQ_M0017_NONI']},\n",
       " 'B19019_001E': {'val': '88471', 'covs': ['MHI']},\n",
       " 'B05013_011E': {'val': '9660', 'covs': ['HHI_15_20k']},\n",
       " 'B08526_038E': {'val': '1014', 'covs': ['GQ_M65p']},\n",
       " 'B08526_039E': {'val': '2323', 'covs': ['GQ_M1864_INST']},\n",
       " 'B06004I_001E': {'val': '114749', 'covs': ['POP_HISP']},\n",
       " 'B08526_050E': {'val': '35', 'covs': ['GQ_M0017_INST_JUV']},\n",
       " 'B17001E_026E': {'val': '11', 'covs': ['GQ_M1864_INST_OTH']},\n",
       " 'B17001E_024E': {'val': '65', 'covs': ['GQ_M0017_NONI']},\n",
       " 'B17001E_003E': {'val': '22', 'covs': ['GQ_F1864_INST_OTH']},\n",
       " 'B17001E_014E': {'val': '22', 'covs': ['GQ_F1864_INST_OTH']},\n",
       " 'B06001_002E': {'val': '66493', 'covs': ['POP_A0004']},\n",
       " 'B06001_001E': {'val': '1112883', 'covs': ['POP_x', 'POP_y']},\n",
       " 'B25002_001E': {'val': '454672', 'covs': ['HU_x', 'HU_y']},\n",
       " 'B25002_002E': {'val': '422144', 'covs': ['HH_x', 'HH_y', 'HU_OCC']},\n",
       " 'B25002_003E': {'val': '32528', 'covs': ['HU_VAC']},\n",
       " 'B17010_005E': {'val': '324', 'covs': ['GQ_M65p_NONI_OTH']},\n",
       " 'B06001_009E': {'val': '26279', 'covs': ['POP_A6061']},\n",
       " 'B06001_008E': {'val': '68325', 'covs': ['POP_A5559']},\n",
       " 'B17010_015E': {'val': '325', 'covs': ['GQ_M65p_NONI']},\n",
       " 'B06001_010E': {'val': '34163', 'covs': ['POP_A6264']},\n",
       " 'B08134_120E': {'val': '959', 'covs': ['IND_AFFHM_MQE']}}"
      ]
     },
     "execution_count": 103,
     "metadata": {},
     "output_type": "execute_result"
    }
   ],
   "source": [
    "acs_to_paul"
   ]
  },
  {
   "cell_type": "code",
   "execution_count": 99,
   "id": "d78b8df8",
   "metadata": {},
   "outputs": [
    {
     "data": {
      "text/plain": [
       "{'val': '66', 'covs': ['GQ_M1864_INST_NUR', 'GQ_F0017_NONI']}"
      ]
     },
     "execution_count": 99,
     "metadata": {},
     "output_type": "execute_result"
    }
   ],
   "source": [
    "acs_to_paul['B06004E_005E']"
   ]
  },
  {
   "cell_type": "code",
   "execution_count": null,
   "id": "3e4f8665",
   "metadata": {},
   "outputs": [],
   "source": []
  }
 ],
 "metadata": {
  "kernelspec": {
   "display_name": "Python 3 (ipykernel)",
   "language": "python",
   "name": "python3"
  },
  "language_info": {
   "codemirror_mode": {
    "name": "ipython",
    "version": 3
   },
   "file_extension": ".py",
   "mimetype": "text/x-python",
   "name": "python",
   "nbconvert_exporter": "python",
   "pygments_lexer": "ipython3",
   "version": "3.10.9"
  }
 },
 "nbformat": 4,
 "nbformat_minor": 5
}
